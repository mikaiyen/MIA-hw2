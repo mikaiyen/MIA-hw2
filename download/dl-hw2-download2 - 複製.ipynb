{
 "cells": [
  {
   "cell_type": "markdown",
   "id": "c5eeed30",
   "metadata": {
    "papermill": {
     "duration": 0.005463,
     "end_time": "2023-10-17T12:30:21.070608",
     "exception": false,
     "start_time": "2023-10-17T12:30:21.065145",
     "status": "completed"
    },
    "tags": []
   },
   "source": [
    "# Import Packages"
   ]
  },
  {
   "cell_type": "code",
   "execution_count": 94,
   "id": "bc79f447",
   "metadata": {
    "execution": {
     "iopub.execute_input": "2023-10-17T12:30:31.160988Z",
     "iopub.status.busy": "2023-10-17T12:30:31.160713Z",
     "iopub.status.idle": "2023-10-17T12:30:45.413613Z",
     "shell.execute_reply": "2023-10-17T12:30:45.412592Z"
    },
    "papermill": {
     "duration": 14.261454,
     "end_time": "2023-10-17T12:30:45.416063",
     "exception": false,
     "start_time": "2023-10-17T12:30:31.154609",
     "status": "completed"
    },
    "tags": []
   },
   "outputs": [],
   "source": [
    "import pydicom\n",
    "import pandas as pd\n",
    "import numpy as np\n",
    "import random\n",
    "from collections import Counter, defaultdict\n",
    "import os\n",
    "\n",
    "\n",
    "import matplotlib.pyplot as plt\n",
    "import plotly.express as px\n",
    "\n",
    "import torch\n",
    "import torch.nn as nn\n",
    "import torch.nn.functional as F\n",
    "import torch.optim as optim\n",
    "\n",
    "from torch.utils.data import Dataset, Subset, DataLoader\n",
    "from torchvision.transforms import v2\n",
    "import torchvision.models as models # VGG16, ResNet50\n",
    "from torchsummary import summary # summary for models\n",
    "from torch.utils.tensorboard import SummaryWriter\n",
    "\n",
    "from sklearn.model_selection import train_test_split\n",
    "from sklearn.metrics import accuracy_score, f1_score"
   ]
  },
  {
   "cell_type": "markdown",
   "id": "97670ace",
   "metadata": {
    "papermill": {
     "duration": 0.00529,
     "end_time": "2023-10-17T12:30:45.427720",
     "exception": false,
     "start_time": "2023-10-17T12:30:45.422430",
     "status": "completed"
    },
    "tags": []
   },
   "source": [
    "# Configuration"
   ]
  },
  {
   "cell_type": "code",
   "execution_count": 95,
   "id": "1bc0da00",
   "metadata": {
    "_cell_guid": "b1076dfc-b9ad-4769-8c92-a6c4dae69d19",
    "_uuid": "8f2839f25d086af736a60e9eeb907d3b93b6e0e5",
    "execution": {
     "iopub.execute_input": "2023-10-17T12:30:45.440077Z",
     "iopub.status.busy": "2023-10-17T12:30:45.439526Z",
     "iopub.status.idle": "2023-10-17T12:30:45.544335Z",
     "shell.execute_reply": "2023-10-17T12:30:45.543372Z"
    },
    "papermill": {
     "duration": 0.113167,
     "end_time": "2023-10-17T12:30:45.546313",
     "exception": false,
     "start_time": "2023-10-17T12:30:45.433146",
     "status": "completed"
    },
    "tags": []
   },
   "outputs": [
    {
     "name": "stdout",
     "output_type": "stream",
     "text": [
      "cuda\n"
     ]
    }
   ],
   "source": [
    "class config:\n",
    "    \n",
    "    root = \"./hwk02_data\"\n",
    "    valid_prob = 0.3\n",
    "    batch_size = 16\n",
    "    lr = 1e-4\n",
    "    epochs = 150\n",
    "    weight_decay = 1e-3\n",
    "    device = torch.device(\"cuda\" if torch.cuda.is_available() else \"cpu\")\n",
    "    seed = 42\n",
    "    \n",
    "print(config.device)"
   ]
  },
  {
   "cell_type": "markdown",
   "id": "54907342",
   "metadata": {
    "papermill": {
     "duration": 0.005373,
     "end_time": "2023-10-17T12:30:45.557207",
     "exception": false,
     "start_time": "2023-10-17T12:30:45.551834",
     "status": "completed"
    },
    "tags": []
   },
   "source": [
    "# Input Data"
   ]
  },
  {
   "cell_type": "code",
   "execution_count": 96,
   "id": "05207e9e",
   "metadata": {
    "execution": {
     "iopub.execute_input": "2023-10-17T12:30:45.569459Z",
     "iopub.status.busy": "2023-10-17T12:30:45.568920Z",
     "iopub.status.idle": "2023-10-17T12:30:45.597774Z",
     "shell.execute_reply": "2023-10-17T12:30:45.596641Z"
    },
    "papermill": {
     "duration": 0.037164,
     "end_time": "2023-10-17T12:30:45.599600",
     "exception": false,
     "start_time": "2023-10-17T12:30:45.562436",
     "status": "completed"
    },
    "tags": []
   },
   "outputs": [
    {
     "name": "stdout",
     "output_type": "stream",
     "text": [
      "Number of training samples: 161\n",
      "Number of testing samples: 41\n"
     ]
    }
   ],
   "source": [
    "train_data = pd.read_csv(os.path.join(config.root, 'train.csv'))\n",
    "test_data = pd.read_csv(os.path.join(config.root, 'test.csv'))\n",
    "print(f'Number of training samples: {train_data.shape[0]}')\n",
    "print(f'Number of testing samples: {test_data.shape[0]}')"
   ]
  },
  {
   "cell_type": "code",
   "execution_count": 97,
   "id": "d965032b",
   "metadata": {
    "execution": {
     "iopub.execute_input": "2023-10-17T12:30:45.612613Z",
     "iopub.status.busy": "2023-10-17T12:30:45.612328Z",
     "iopub.status.idle": "2023-10-17T12:30:45.632006Z",
     "shell.execute_reply": "2023-10-17T12:30:45.631103Z"
    },
    "papermill": {
     "duration": 0.028448,
     "end_time": "2023-10-17T12:30:45.633795",
     "exception": false,
     "start_time": "2023-10-17T12:30:45.605347",
     "status": "completed"
    },
    "tags": []
   },
   "outputs": [
    {
     "data": {
      "text/plain": [
       "Stage\n",
       "1    44\n",
       "2    42\n",
       "3    75\n",
       "Name: count, dtype: int64"
      ]
     },
     "execution_count": 97,
     "metadata": {},
     "output_type": "execute_result"
    }
   ],
   "source": [
    "train_data['Stage'].value_counts().sort_index()"
   ]
  },
  {
   "cell_type": "markdown",
   "id": "6dfba0d3",
   "metadata": {
    "papermill": {
     "duration": 0.005695,
     "end_time": "2023-10-17T12:30:45.645376",
     "exception": false,
     "start_time": "2023-10-17T12:30:45.639681",
     "status": "completed"
    },
    "tags": []
   },
   "source": [
    "# Defined functions"
   ]
  },
  {
   "cell_type": "code",
   "execution_count": 98,
   "id": "6d0897c5",
   "metadata": {
    "execution": {
     "iopub.execute_input": "2023-10-17T12:30:45.658059Z",
     "iopub.status.busy": "2023-10-17T12:30:45.657816Z",
     "iopub.status.idle": "2023-10-17T12:30:45.669850Z",
     "shell.execute_reply": "2023-10-17T12:30:45.668922Z"
    },
    "papermill": {
     "duration": 0.02058,
     "end_time": "2023-10-17T12:30:45.671558",
     "exception": false,
     "start_time": "2023-10-17T12:30:45.650978",
     "status": "completed"
    },
    "tags": []
   },
   "outputs": [],
   "source": [
    "def seed_everything(seed):\n",
    "    # Set Python random seed\n",
    "    random.seed(seed)\n",
    "    \n",
    "    # Set NumPy random seed\n",
    "    np.random.seed(seed)\n",
    "    \n",
    "    # Set PyTorch random seed for CPU and GPU\n",
    "    torch.manual_seed(seed)\n",
    "    if torch.cuda.is_available():\n",
    "        torch.cuda.manual_seed_all(seed)\n",
    "    \n",
    "    # Set PyTorch deterministic operations for cudnn backend\n",
    "    torch.backends.cudnn.deterministic = True\n",
    "    torch.backends.cudnn.benchmark = False\n",
    "\n",
    "def evaluator(preds, gts):\n",
    "    preds = preds.cpu().numpy() if isinstance(preds, torch.Tensor) else preds\n",
    "    gts = gts.cpu().numpy() if isinstance(gts, torch.Tensor) else gts\n",
    "    acc = accuracy_score(preds, gts)\n",
    "    f1 = f1_score(preds, gts, average=\"macro\")\n",
    "\n",
    "    return acc, f1\n",
    "\n",
    "def train_one_epoch(model, train_loader, optimizer, scheduler, criterion, device):\n",
    "    model.train()\n",
    "    train_loss = .0\n",
    "    predictions, ground_truths = [], []\n",
    "    for images, ages, genders, labels in train_loader:\n",
    "        images = images.to(device=device, dtype=torch.float)\n",
    "        ages = ages.to(device=device, dtype=torch.float)\n",
    "        genders = genders.to(device=device, dtype=torch.float)\n",
    "        labels = labels.to(device=device, dtype=torch.long)\n",
    "\n",
    "        optimizer.zero_grad()\n",
    "        logits = model(images, ages, genders)\n",
    "        labels = torch.sub(labels, 1) # labels 1, 2, 3 -> 0, 1, 2\n",
    "        loss = criterion(logits, labels)\n",
    "        loss.backward()\n",
    "\n",
    "        optimizer.step()\n",
    "        scheduler.step()\n",
    "\n",
    "        train_loss += loss.item()\n",
    "        preds = torch.argmax(logits, dim=1)\n",
    "\n",
    "        predictions.append(preds)\n",
    "        ground_truths.append(labels)\n",
    "\n",
    "    train_loss /= len(train_loader)\n",
    "\n",
    "    predictions = torch.cat(predictions)\n",
    "    ground_truths = torch.cat(ground_truths)\n",
    "    train_acc, train_f1 = evaluator(predictions, ground_truths)\n",
    "\n",
    "    return train_loss, 100*train_acc, 100*train_f1\n",
    "\n",
    "def validation(model, valid_loader, criterion, device):\n",
    "    model.eval()\n",
    "    valid_loss = .0\n",
    "    predictions, ground_truths = [], []\n",
    "    with torch.no_grad():\n",
    "        for images, ages, genders, labels in valid_loader:\n",
    "            images = images.to(device=device, dtype=torch.float)\n",
    "            ages = ages.to(device=device, dtype=torch.float)\n",
    "            genders = genders.to(device=device, dtype=torch.float)\n",
    "            labels = labels.to(device=device, dtype=torch.long)\n",
    "\n",
    "            logits = model(images, ages, genders)\n",
    "            labels = torch.sub(labels, 1) # labels 1, 2, 3 -> 0, 1, 2\n",
    "            loss = criterion(logits, labels)\n",
    "\n",
    "            valid_loss += loss.item()\n",
    "            preds = torch.argmax(logits, dim=1)\n",
    "\n",
    "            predictions.append(preds)\n",
    "            ground_truths.append(labels)\n",
    "\n",
    "        valid_loss /= len(valid_loader)\n",
    "\n",
    "        predictions = torch.cat(predictions)\n",
    "        ground_truths = torch.cat(ground_truths)\n",
    "        valid_acc, valid_f1 = evaluator(predictions, ground_truths)\n",
    "    return valid_loss, 100*valid_acc, 100*valid_f1"
   ]
  },
  {
   "cell_type": "markdown",
   "id": "1962b373",
   "metadata": {
    "papermill": {
     "duration": 0.005345,
     "end_time": "2023-10-17T12:30:45.682512",
     "exception": false,
     "start_time": "2023-10-17T12:30:45.677167",
     "status": "completed"
    },
    "tags": []
   },
   "source": [
    "# Defined Dataset"
   ]
  },
  {
   "cell_type": "code",
   "execution_count": 99,
   "id": "0b62ad95",
   "metadata": {
    "execution": {
     "iopub.execute_input": "2023-10-17T12:30:45.695749Z",
     "iopub.status.busy": "2023-10-17T12:30:45.694872Z",
     "iopub.status.idle": "2023-10-17T12:30:45.703887Z",
     "shell.execute_reply": "2023-10-17T12:30:45.703053Z"
    },
    "papermill": {
     "duration": 0.017248,
     "end_time": "2023-10-17T12:30:45.705710",
     "exception": false,
     "start_time": "2023-10-17T12:30:45.688462",
     "status": "completed"
    },
    "tags": []
   },
   "outputs": [],
   "source": [
    "class ParkinsonsDataset(Dataset):\n",
    "    def __init__(self, df, transforms = None): # 將所有資料提出\n",
    "        self.ages = np.array(df['Age']) # 年齡\n",
    "        self.genders = np.array(df['Gender']) # 性別\n",
    "        self.labels = np.array(df['Stage']) # 標籤\n",
    "        self.indexs = np.array(df['index']) # 起始張數\n",
    "        self.paths = np.array(df['FilePath']) # 影像路徑\n",
    "        self.images = []\n",
    "\n",
    "        # 影像前處理\n",
    "        for index, path in zip(self.indexs, self.paths):\n",
    "            image = pydicom.dcmread(config.root+path).pixel_array\n",
    "            image = torch.tensor(image.astype(np.float32))\n",
    "            image = image[index-1:index+2, :, :] # 取指定張數和前後共三個, image size = (3, 128, 128)\n",
    "            if transforms:\n",
    "                image = transforms(image)\n",
    "            self.images.append(image)\n",
    "\n",
    "\n",
    "    def __len__(self):\n",
    "        return len(self.labels) # label數量\n",
    "\n",
    "    def __getitem__(self, idx): # 找出指定的資料\n",
    "        age = torch.tensor(self.ages[idx], dtype=torch.float32)\n",
    "        gender = torch.tensor(self.genders[idx], dtype=torch.float32)\n",
    "        label = self.labels[idx]\n",
    "        image = self.images[idx]\n",
    "\n",
    "        return image, age, gender, label\n",
    "\n",
    "# Transformation\n",
    "class My_normalize(object): # 自定義的類別\n",
    "    # def __init__(self): # 宣告此類別中會使用到的變數\n",
    "\n",
    "    def __call__(self, image): # 定義有image之後要進行的資料處理\n",
    "        new_image = (image - image.mean())/(image.max() - image.min())\n",
    "\n",
    "        return new_image\n",
    "\n",
    "My_transforms = v2.Compose([\n",
    "    # 在v2中內建的func\n",
    "    v2.CenterCrop(size = (50, 50)),\n",
    "    # 自定義的func\n",
    "    My_normalize()\n",
    "])"
   ]
  },
  {
   "cell_type": "markdown",
   "id": "65833749",
   "metadata": {
    "papermill": {
     "duration": 0.005709,
     "end_time": "2023-10-17T12:30:45.716909",
     "exception": false,
     "start_time": "2023-10-17T12:30:45.711200",
     "status": "completed"
    },
    "tags": []
   },
   "source": [
    "# Redefined VGG16"
   ]
  },
  {
   "cell_type": "code",
   "execution_count": 100,
   "id": "148ac085",
   "metadata": {
    "execution": {
     "iopub.execute_input": "2023-10-17T12:30:45.736113Z",
     "iopub.status.busy": "2023-10-17T12:30:45.735869Z",
     "iopub.status.idle": "2023-10-17T12:30:45.742808Z",
     "shell.execute_reply": "2023-10-17T12:30:45.741896Z"
    },
    "papermill": {
     "duration": 0.022041,
     "end_time": "2023-10-17T12:30:45.744519",
     "exception": false,
     "start_time": "2023-10-17T12:30:45.722478",
     "status": "completed"
    },
    "tags": []
   },
   "outputs": [],
   "source": [
    "class VGGplus(nn.Module):\n",
    "    def __init__(self, num_classes, input_size = (3, 50, 50), out_prob = True, features_grad = False): # 默認輸出為分到每一類的機率\n",
    "        super().__init__()\n",
    "        \n",
    "        # 決定是否要將輸出轉換為機率\n",
    "        self.out_prob = out_prob\n",
    "        \n",
    "        # 取出vgg16中的特徵層\n",
    "        vgg16 = models.vgg16(weights='IMAGENET1K_V1', progress = True)\n",
    "        vgg16.features[30] = nn.Identity()\n",
    "        vgg16.avgpool = nn.AdaptiveAvgPool2d(1)\n",
    "        vgg16.classifier = nn.Identity()\n",
    "        \n",
    "        # 固定/不固定特徵層的參數值\n",
    "        for param in vgg16.features.parameters():\n",
    "            param.requires_grad = features_grad\n",
    "        self.backend = vgg16\n",
    "         \n",
    "        # 增加分類層\n",
    "        self.classifier = nn.Sequential(\n",
    "          nn.Linear(514, num_classes) # 512: vgg16特徵層結果, 2: age & gender\n",
    "        )\n",
    "        self.softmax = nn.Softmax(dim=1) # 每一個row的總和都是1\n",
    "\n",
    "    def forward(self, x, age, gender):\n",
    "        output = self.backend(x)\n",
    "        outputs = torch.cat([output, age.view(-1, 1), gender.view(-1, 1)], dim = 1) # output size = (batch_size, 512), age size = (batch_size), age.view(-1, 1) size = (batch_size, 1), dim = 1; columns concat\n",
    "        outputs = self.classifier(outputs) # outputs size = (batch_size, 3)\n",
    "        if self.out_prob:\n",
    "            outputs = self.softmax(outputs)\n",
    "        return outputs"
   ]
  },
  {
   "cell_type": "code",
   "execution_count": 101,
   "id": "7fe50246",
   "metadata": {
    "execution": {
     "iopub.execute_input": "2023-10-17T12:30:45.757454Z",
     "iopub.status.busy": "2023-10-17T12:30:45.756655Z",
     "iopub.status.idle": "2023-10-17T12:30:49.708269Z",
     "shell.execute_reply": "2023-10-17T12:30:49.707120Z"
    },
    "papermill": {
     "duration": 3.960597,
     "end_time": "2023-10-17T12:30:49.710853",
     "exception": false,
     "start_time": "2023-10-17T12:30:45.750256",
     "status": "completed"
    },
    "tags": []
   },
   "outputs": [
    {
     "name": "stdout",
     "output_type": "stream",
     "text": [
      "VGGplus(\n",
      "  (backend): VGG(\n",
      "    (features): Sequential(\n",
      "      (0): Conv2d(3, 64, kernel_size=(3, 3), stride=(1, 1), padding=(1, 1))\n",
      "      (1): ReLU(inplace=True)\n",
      "      (2): Conv2d(64, 64, kernel_size=(3, 3), stride=(1, 1), padding=(1, 1))\n",
      "      (3): ReLU(inplace=True)\n",
      "      (4): MaxPool2d(kernel_size=2, stride=2, padding=0, dilation=1, ceil_mode=False)\n",
      "      (5): Conv2d(64, 128, kernel_size=(3, 3), stride=(1, 1), padding=(1, 1))\n",
      "      (6): ReLU(inplace=True)\n",
      "      (7): Conv2d(128, 128, kernel_size=(3, 3), stride=(1, 1), padding=(1, 1))\n",
      "      (8): ReLU(inplace=True)\n",
      "      (9): MaxPool2d(kernel_size=2, stride=2, padding=0, dilation=1, ceil_mode=False)\n",
      "      (10): Conv2d(128, 256, kernel_size=(3, 3), stride=(1, 1), padding=(1, 1))\n",
      "      (11): ReLU(inplace=True)\n",
      "      (12): Conv2d(256, 256, kernel_size=(3, 3), stride=(1, 1), padding=(1, 1))\n",
      "      (13): ReLU(inplace=True)\n",
      "      (14): Conv2d(256, 256, kernel_size=(3, 3), stride=(1, 1), padding=(1, 1))\n",
      "      (15): ReLU(inplace=True)\n",
      "      (16): MaxPool2d(kernel_size=2, stride=2, padding=0, dilation=1, ceil_mode=False)\n",
      "      (17): Conv2d(256, 512, kernel_size=(3, 3), stride=(1, 1), padding=(1, 1))\n",
      "      (18): ReLU(inplace=True)\n",
      "      (19): Conv2d(512, 512, kernel_size=(3, 3), stride=(1, 1), padding=(1, 1))\n",
      "      (20): ReLU(inplace=True)\n",
      "      (21): Conv2d(512, 512, kernel_size=(3, 3), stride=(1, 1), padding=(1, 1))\n",
      "      (22): ReLU(inplace=True)\n",
      "      (23): MaxPool2d(kernel_size=2, stride=2, padding=0, dilation=1, ceil_mode=False)\n",
      "      (24): Conv2d(512, 512, kernel_size=(3, 3), stride=(1, 1), padding=(1, 1))\n",
      "      (25): ReLU(inplace=True)\n",
      "      (26): Conv2d(512, 512, kernel_size=(3, 3), stride=(1, 1), padding=(1, 1))\n",
      "      (27): ReLU(inplace=True)\n",
      "      (28): Conv2d(512, 512, kernel_size=(3, 3), stride=(1, 1), padding=(1, 1))\n",
      "      (29): ReLU(inplace=True)\n",
      "      (30): Identity()\n",
      "    )\n",
      "    (avgpool): AdaptiveAvgPool2d(output_size=1)\n",
      "    (classifier): Identity()\n",
      "  )\n",
      "  (classifier): Sequential(\n",
      "    (0): Linear(in_features=514, out_features=3, bias=True)\n",
      "  )\n",
      "  (softmax): Softmax(dim=1)\n",
      ")\n"
     ]
    }
   ],
   "source": [
    "model = VGGplus(num_classes = 3)\n",
    "print(model)\n",
    "del model"
   ]
  },
  {
   "cell_type": "markdown",
   "id": "ad0586bd",
   "metadata": {
    "papermill": {
     "duration": 0.006554,
     "end_time": "2023-10-17T12:30:49.724557",
     "exception": false,
     "start_time": "2023-10-17T12:30:49.718003",
     "status": "completed"
    },
    "tags": []
   },
   "source": [
    "### 1. 導入 vgg16 的架構和 ImageNet 訓練出來的權重 (**transfer learning**)"
   ]
  },
  {
   "cell_type": "code",
   "execution_count": 102,
   "id": "da47e96b",
   "metadata": {
    "execution": {
     "iopub.execute_input": "2023-10-17T12:30:49.739531Z",
     "iopub.status.busy": "2023-10-17T12:30:49.739262Z",
     "iopub.status.idle": "2023-10-17T12:30:51.608522Z",
     "shell.execute_reply": "2023-10-17T12:30:51.607442Z"
    },
    "papermill": {
     "duration": 1.879678,
     "end_time": "2023-10-17T12:30:51.611180",
     "exception": false,
     "start_time": "2023-10-17T12:30:49.731502",
     "status": "completed"
    },
    "tags": []
   },
   "outputs": [
    {
     "name": "stdout",
     "output_type": "stream",
     "text": [
      "VGG(\n",
      "  (features): Sequential(\n",
      "    (0): Conv2d(3, 64, kernel_size=(3, 3), stride=(1, 1), padding=(1, 1))\n",
      "    (1): ReLU(inplace=True)\n",
      "    (2): Conv2d(64, 64, kernel_size=(3, 3), stride=(1, 1), padding=(1, 1))\n",
      "    (3): ReLU(inplace=True)\n",
      "    (4): MaxPool2d(kernel_size=2, stride=2, padding=0, dilation=1, ceil_mode=False)\n",
      "    (5): Conv2d(64, 128, kernel_size=(3, 3), stride=(1, 1), padding=(1, 1))\n",
      "    (6): ReLU(inplace=True)\n",
      "    (7): Conv2d(128, 128, kernel_size=(3, 3), stride=(1, 1), padding=(1, 1))\n",
      "    (8): ReLU(inplace=True)\n",
      "    (9): MaxPool2d(kernel_size=2, stride=2, padding=0, dilation=1, ceil_mode=False)\n",
      "    (10): Conv2d(128, 256, kernel_size=(3, 3), stride=(1, 1), padding=(1, 1))\n",
      "    (11): ReLU(inplace=True)\n",
      "    (12): Conv2d(256, 256, kernel_size=(3, 3), stride=(1, 1), padding=(1, 1))\n",
      "    (13): ReLU(inplace=True)\n",
      "    (14): Conv2d(256, 256, kernel_size=(3, 3), stride=(1, 1), padding=(1, 1))\n",
      "    (15): ReLU(inplace=True)\n",
      "    (16): MaxPool2d(kernel_size=2, stride=2, padding=0, dilation=1, ceil_mode=False)\n",
      "    (17): Conv2d(256, 512, kernel_size=(3, 3), stride=(1, 1), padding=(1, 1))\n",
      "    (18): ReLU(inplace=True)\n",
      "    (19): Conv2d(512, 512, kernel_size=(3, 3), stride=(1, 1), padding=(1, 1))\n",
      "    (20): ReLU(inplace=True)\n",
      "    (21): Conv2d(512, 512, kernel_size=(3, 3), stride=(1, 1), padding=(1, 1))\n",
      "    (22): ReLU(inplace=True)\n",
      "    (23): MaxPool2d(kernel_size=2, stride=2, padding=0, dilation=1, ceil_mode=False)\n",
      "    (24): Conv2d(512, 512, kernel_size=(3, 3), stride=(1, 1), padding=(1, 1))\n",
      "    (25): ReLU(inplace=True)\n",
      "    (26): Conv2d(512, 512, kernel_size=(3, 3), stride=(1, 1), padding=(1, 1))\n",
      "    (27): ReLU(inplace=True)\n",
      "    (28): Conv2d(512, 512, kernel_size=(3, 3), stride=(1, 1), padding=(1, 1))\n",
      "    (29): ReLU(inplace=True)\n",
      "    (30): MaxPool2d(kernel_size=2, stride=2, padding=0, dilation=1, ceil_mode=False)\n",
      "  )\n",
      "  (avgpool): AdaptiveAvgPool2d(output_size=(7, 7))\n",
      "  (classifier): Sequential(\n",
      "    (0): Linear(in_features=25088, out_features=4096, bias=True)\n",
      "    (1): ReLU(inplace=True)\n",
      "    (2): Dropout(p=0.5, inplace=False)\n",
      "    (3): Linear(in_features=4096, out_features=4096, bias=True)\n",
      "    (4): ReLU(inplace=True)\n",
      "    (5): Dropout(p=0.5, inplace=False)\n",
      "    (6): Linear(in_features=4096, out_features=1000, bias=True)\n",
      "  )\n",
      ")\n"
     ]
    }
   ],
   "source": [
    "vgg16 = models.vgg16(weights='IMAGENET1K_V1', progress = True)\n",
    "print(vgg16)"
   ]
  },
  {
   "cell_type": "markdown",
   "id": "39df2f34",
   "metadata": {
    "papermill": {
     "duration": 0.006611,
     "end_time": "2023-10-17T12:30:51.624785",
     "exception": false,
     "start_time": "2023-10-17T12:30:51.618174",
     "status": "completed"
    },
    "tags": []
   },
   "source": [
    "以下簡單介紹vgg16中使用到的函式: (以下函式的輸入都需要四個維度: (N = number of data, C = number of channels, H = Height, W = Width))"
   ]
  },
  {
   "cell_type": "markdown",
   "id": "3a7370b3",
   "metadata": {
    "papermill": {
     "duration": 0.006516,
     "end_time": "2023-10-17T12:30:51.638063",
     "exception": false,
     "start_time": "2023-10-17T12:30:51.631547",
     "status": "completed"
    },
    "tags": []
   },
   "source": [
    "> [Conv2d](https://pytorch.org/docs/stable/generated/torch.nn.Conv2d.html)(3, 64, kernel_size=(3, 3), stride=(1, 1), padding=(1, 1))\n",
    "\n",
    "> * 3: in_channels\n",
    "> * 64: out_channels \n",
    "> * stride = (1, 1): kernel的移動由左至右, 由上至下, 步長皆為1\n",
    "> * padding = (1, 1): 在輸入的周圍填充一層0\n",
    "\n",
    "> Note:\n",
    "> * 雖然是2d的convolution, 但實際的輸入是和kernel都是3維陣列, 而2d指的是kernel移動的方向。\n",
    "> * 因為1個(3, 3, 3)的kernel和1個bias遍歷一次輸入就會產生一層輸出, 這邊的輸出有64層, 就需要64個(3, 3, 3)的kernal和對應的64個bias。\n",
    "> * 這樣的stride和padding的設定可以讓輸出和輸入的長寬不變。"
   ]
  },
  {
   "cell_type": "markdown",
   "id": "54e87414",
   "metadata": {
    "papermill": {
     "duration": 0.006724,
     "end_time": "2023-10-17T12:30:51.651571",
     "exception": false,
     "start_time": "2023-10-17T12:30:51.644847",
     "status": "completed"
    },
    "tags": []
   },
   "source": [
    "![](https://discuss.pytorch.org/uploads/default/original/3X/6/0/60994f2ed1f8c34ee6e83741e2e87fca0a1b4655.jpeg)"
   ]
  },
  {
   "cell_type": "code",
   "execution_count": 103,
   "id": "c917b9db",
   "metadata": {
    "execution": {
     "iopub.execute_input": "2023-10-17T12:30:51.665989Z",
     "iopub.status.busy": "2023-10-17T12:30:51.665679Z",
     "iopub.status.idle": "2023-10-17T12:30:51.752787Z",
     "shell.execute_reply": "2023-10-17T12:30:51.751467Z"
    },
    "papermill": {
     "duration": 0.098029,
     "end_time": "2023-10-17T12:30:51.756200",
     "exception": false,
     "start_time": "2023-10-17T12:30:51.658171",
     "status": "completed"
    },
    "tags": []
   },
   "outputs": [
    {
     "name": "stdout",
     "output_type": "stream",
     "text": [
      "Conv2d(3, 64, kernel_size=(3, 3), stride=(1, 1), padding=(1, 1))\n",
      "torch.Size([1, 3, 50, 50])\n",
      "torch.Size([1, 64, 50, 50])\n",
      "torch.Size([64, 3, 3, 3])\n",
      "torch.Size([64])\n"
     ]
    }
   ],
   "source": [
    "m = nn.Conv2d(3, 64, kernel_size=(3, 3), stride=(1, 1), padding=(1, 1))\n",
    "print(m)\n",
    "input = torch.randn(1, 3, 50, 50)\n",
    "print(input.shape)\n",
    "output = m(input)\n",
    "print(output.shape)\n",
    "for param in m.parameters():\n",
    "    print(param.shape)\n",
    "    \n",
    "del m, input, output"
   ]
  },
  {
   "cell_type": "markdown",
   "id": "56b9d32f",
   "metadata": {
    "papermill": {
     "duration": 0.006734,
     "end_time": "2023-10-17T12:30:51.769563",
     "exception": false,
     "start_time": "2023-10-17T12:30:51.762829",
     "status": "completed"
    },
    "tags": []
   },
   "source": [
    "> [MaxPool2d](https://pytorch.org/docs/stable/generated/torch.nn.MaxPool2d.html#torch.nn.MaxPool2d)(kernel_size=2, stride=2, padding=0, dilation=1, ceil_mode=False)\n",
    "\n",
    "> * ceil_mode: True = 將不足的邊用NAN補齊, False = 將不足的邊直接刪除"
   ]
  },
  {
   "cell_type": "code",
   "execution_count": 104,
   "id": "7fbcd753",
   "metadata": {
    "execution": {
     "iopub.execute_input": "2023-10-17T12:30:51.784296Z",
     "iopub.status.busy": "2023-10-17T12:30:51.783988Z",
     "iopub.status.idle": "2023-10-17T12:30:51.840137Z",
     "shell.execute_reply": "2023-10-17T12:30:51.838898Z"
    },
    "papermill": {
     "duration": 0.066842,
     "end_time": "2023-10-17T12:30:51.843043",
     "exception": false,
     "start_time": "2023-10-17T12:30:51.776201",
     "status": "completed"
    },
    "tags": []
   },
   "outputs": [
    {
     "name": "stdout",
     "output_type": "stream",
     "text": [
      "tensor([[[[1., 1., 1.],\n",
      "          [2., 2., 2.],\n",
      "          [3., 3., 3.]]]])\n",
      "ceil_mode = False\n",
      "tensor([[[[2.]]]])\n",
      "ceil_mode = True\n",
      "tensor([[[[2., 2.],\n",
      "          [3., 3.]]]])\n"
     ]
    }
   ],
   "source": [
    "input = torch.tensor([[1, 1, 1], [2, 2, 2], [3, 3, 3]]).reshape(1, 1, 3, 3).float()\n",
    "print(input)\n",
    "\n",
    "print(\"ceil_mode = False\")\n",
    "m1 = nn.MaxPool2d(2, stride=2, ceil_mode = False)\n",
    "output1 = m1(input)\n",
    "print(output1)\n",
    "\n",
    "print(\"ceil_mode = True\")\n",
    "m2 = nn.MaxPool2d(2, stride=2, ceil_mode = True)\n",
    "output2 = m2(input)\n",
    "print(output2)\n",
    "\n",
    "del m1, m2, input, output1, output2"
   ]
  },
  {
   "cell_type": "markdown",
   "id": "fe446a2d",
   "metadata": {
    "papermill": {
     "duration": 0.007429,
     "end_time": "2023-10-17T12:30:51.858248",
     "exception": false,
     "start_time": "2023-10-17T12:30:51.850819",
     "status": "completed"
    },
    "tags": []
   },
   "source": [
    "> [AdaptiveAvgPool2d](https://pytorch.org/docs/stable/generated/torch.nn.AdaptiveAvgPool2d.html)(output_size=(7, 7)) \n",
    "\n",
    "> 按照期望的輸出大小對輸入做平均"
   ]
  },
  {
   "cell_type": "code",
   "execution_count": 105,
   "id": "a2101bc2",
   "metadata": {
    "execution": {
     "iopub.execute_input": "2023-10-17T12:30:51.873786Z",
     "iopub.status.busy": "2023-10-17T12:30:51.873124Z",
     "iopub.status.idle": "2023-10-17T12:30:51.885259Z",
     "shell.execute_reply": "2023-10-17T12:30:51.884283Z"
    },
    "papermill": {
     "duration": 0.02177,
     "end_time": "2023-10-17T12:30:51.887112",
     "exception": false,
     "start_time": "2023-10-17T12:30:51.865342",
     "status": "completed"
    },
    "tags": []
   },
   "outputs": [
    {
     "name": "stdout",
     "output_type": "stream",
     "text": [
      "tensor([[[[1., 1., 1.],\n",
      "          [2., 2., 2.],\n",
      "          [3., 3., 3.]]]])\n",
      "tensor([[[[1.0000, 1.0000, 1.0000, 1.0000, 1.0000, 1.0000, 1.0000],\n",
      "          [1.0000, 1.0000, 1.0000, 1.0000, 1.0000, 1.0000, 1.0000],\n",
      "          [1.5000, 1.5000, 1.5000, 1.5000, 1.5000, 1.5000, 1.5000],\n",
      "          [2.0000, 2.0000, 2.0000, 2.0000, 2.0000, 2.0000, 2.0000],\n",
      "          [2.5000, 2.5000, 2.5000, 2.5000, 2.5000, 2.5000, 2.5000],\n",
      "          [3.0000, 3.0000, 3.0000, 3.0000, 3.0000, 3.0000, 3.0000],\n",
      "          [3.0000, 3.0000, 3.0000, 3.0000, 3.0000, 3.0000, 3.0000]]]])\n",
      "tensor([[[[1.5000, 1.5000],\n",
      "          [2.5000, 2.5000]]]])\n"
     ]
    }
   ],
   "source": [
    "input = torch.tensor([[1, 1, 1], [2, 2, 2], [3, 3, 3]]).reshape(1, 1, 3, 3).float()\n",
    "print(input)\n",
    "\n",
    "m7 = nn.AdaptiveAvgPool2d(output_size=(7, 7))\n",
    "output = m7(input)\n",
    "print(output)\n",
    "\n",
    "m2 = nn.AdaptiveAvgPool2d(output_size=(2, 2))\n",
    "output = m2(input)\n",
    "print(output)\n",
    "\n",
    "del input, m7, m2, output"
   ]
  },
  {
   "cell_type": "markdown",
   "id": "7bd906ed",
   "metadata": {
    "papermill": {
     "duration": 0.006942,
     "end_time": "2023-10-17T12:30:51.900788",
     "exception": false,
     "start_time": "2023-10-17T12:30:51.893846",
     "status": "completed"
    },
    "tags": []
   },
   "source": [
    "雖然AdaptiveAvgPool2d()的輸出大小可以大於輸入大小，但這種作法可能導致訊息的丟失。"
   ]
  },
  {
   "cell_type": "markdown",
   "id": "0a85db80",
   "metadata": {
    "papermill": {
     "duration": 0.006652,
     "end_time": "2023-10-17T12:30:51.914394",
     "exception": false,
     "start_time": "2023-10-17T12:30:51.907742",
     "status": "completed"
    },
    "tags": []
   },
   "source": [
    "### 2. 觀察 vgg16 的 Output Shape 去設計 feature layers 和 classifier layers 之間的連接層"
   ]
  },
  {
   "cell_type": "code",
   "execution_count": 106,
   "id": "66f79a89",
   "metadata": {
    "execution": {
     "iopub.execute_input": "2023-10-17T12:30:51.968332Z",
     "iopub.status.busy": "2023-10-17T12:30:51.967975Z",
     "iopub.status.idle": "2023-10-17T12:31:04.642534Z",
     "shell.execute_reply": "2023-10-17T12:31:04.641614Z"
    },
    "papermill": {
     "duration": 12.685355,
     "end_time": "2023-10-17T12:31:04.645447",
     "exception": false,
     "start_time": "2023-10-17T12:30:51.960092",
     "status": "completed"
    },
    "tags": []
   },
   "outputs": [
    {
     "name": "stdout",
     "output_type": "stream",
     "text": [
      "----------------------------------------------------------------\n",
      "        Layer (type)               Output Shape         Param #\n",
      "================================================================\n",
      "            Conv2d-1           [-1, 64, 50, 50]           1,792\n",
      "              ReLU-2           [-1, 64, 50, 50]               0\n",
      "            Conv2d-3           [-1, 64, 50, 50]          36,928\n",
      "              ReLU-4           [-1, 64, 50, 50]               0\n",
      "         MaxPool2d-5           [-1, 64, 25, 25]               0\n",
      "            Conv2d-6          [-1, 128, 25, 25]          73,856\n",
      "              ReLU-7          [-1, 128, 25, 25]               0\n",
      "            Conv2d-8          [-1, 128, 25, 25]         147,584\n",
      "              ReLU-9          [-1, 128, 25, 25]               0\n",
      "        MaxPool2d-10          [-1, 128, 12, 12]               0\n",
      "           Conv2d-11          [-1, 256, 12, 12]         295,168\n",
      "             ReLU-12          [-1, 256, 12, 12]               0\n",
      "           Conv2d-13          [-1, 256, 12, 12]         590,080\n",
      "             ReLU-14          [-1, 256, 12, 12]               0\n",
      "           Conv2d-15          [-1, 256, 12, 12]         590,080\n",
      "             ReLU-16          [-1, 256, 12, 12]               0\n",
      "        MaxPool2d-17            [-1, 256, 6, 6]               0\n",
      "           Conv2d-18            [-1, 512, 6, 6]       1,180,160\n",
      "             ReLU-19            [-1, 512, 6, 6]               0\n",
      "           Conv2d-20            [-1, 512, 6, 6]       2,359,808\n",
      "             ReLU-21            [-1, 512, 6, 6]               0\n",
      "           Conv2d-22            [-1, 512, 6, 6]       2,359,808\n",
      "             ReLU-23            [-1, 512, 6, 6]               0\n",
      "        MaxPool2d-24            [-1, 512, 3, 3]               0\n",
      "           Conv2d-25            [-1, 512, 3, 3]       2,359,808\n",
      "             ReLU-26            [-1, 512, 3, 3]               0\n",
      "           Conv2d-27            [-1, 512, 3, 3]       2,359,808\n",
      "             ReLU-28            [-1, 512, 3, 3]               0\n",
      "           Conv2d-29            [-1, 512, 3, 3]       2,359,808\n",
      "             ReLU-30            [-1, 512, 3, 3]               0\n",
      "        MaxPool2d-31            [-1, 512, 1, 1]               0\n",
      "AdaptiveAvgPool2d-32            [-1, 512, 7, 7]               0\n",
      "           Linear-33                 [-1, 4096]     102,764,544\n",
      "             ReLU-34                 [-1, 4096]               0\n",
      "          Dropout-35                 [-1, 4096]               0\n",
      "           Linear-36                 [-1, 4096]      16,781,312\n",
      "             ReLU-37                 [-1, 4096]               0\n",
      "          Dropout-38                 [-1, 4096]               0\n",
      "           Linear-39                 [-1, 1000]       4,097,000\n",
      "================================================================\n",
      "Total params: 138,357,544\n",
      "Trainable params: 138,357,544\n",
      "Non-trainable params: 0\n",
      "----------------------------------------------------------------\n",
      "Input size (MB): 0.03\n",
      "Forward/backward pass size (MB): 11.01\n",
      "Params size (MB): 527.79\n",
      "Estimated Total Size (MB): 538.83\n",
      "----------------------------------------------------------------\n"
     ]
    }
   ],
   "source": [
    "# 因summary()的input存在GPU中, 要將model也移至GPU上才能運行\n",
    "vgg16.to(config.device)\n",
    "summary(vgg16, input_size = (3, 50, 50)) "
   ]
  },
  {
   "cell_type": "markdown",
   "id": "80809994",
   "metadata": {
    "papermill": {
     "duration": 0.006846,
     "end_time": "2023-10-17T12:31:04.659672",
     "exception": false,
     "start_time": "2023-10-17T12:31:04.652826",
     "status": "completed"
    },
    "tags": []
   },
   "source": [
    "在ReLU-30得到的輸出大小已經是(512, 3, 3), 如果使用模型中的MaxPool2d-31:MaxPool2d(kernel_size=2, stride=2, padding=0, dilation=1, **ceil_mode=False**), 會有些資訊被忽略, 所以接下來會更改31層和32層。"
   ]
  },
  {
   "cell_type": "code",
   "execution_count": 107,
   "id": "db29e07f",
   "metadata": {
    "execution": {
     "iopub.execute_input": "2023-10-17T12:31:04.675433Z",
     "iopub.status.busy": "2023-10-17T12:31:04.674661Z",
     "iopub.status.idle": "2023-10-17T12:31:04.690012Z",
     "shell.execute_reply": "2023-10-17T12:31:04.688973Z"
    },
    "papermill": {
     "duration": 0.025344,
     "end_time": "2023-10-17T12:31:04.692272",
     "exception": false,
     "start_time": "2023-10-17T12:31:04.666928",
     "status": "completed"
    },
    "tags": []
   },
   "outputs": [
    {
     "name": "stdout",
     "output_type": "stream",
     "text": [
      "----------------------------------------------------------------\n",
      "        Layer (type)               Output Shape         Param #\n",
      "================================================================\n",
      "            Conv2d-1           [-1, 64, 50, 50]           1,792\n",
      "              ReLU-2           [-1, 64, 50, 50]               0\n",
      "            Conv2d-3           [-1, 64, 50, 50]          36,928\n",
      "              ReLU-4           [-1, 64, 50, 50]               0\n",
      "         MaxPool2d-5           [-1, 64, 25, 25]               0\n",
      "            Conv2d-6          [-1, 128, 25, 25]          73,856\n",
      "              ReLU-7          [-1, 128, 25, 25]               0\n",
      "            Conv2d-8          [-1, 128, 25, 25]         147,584\n",
      "              ReLU-9          [-1, 128, 25, 25]               0\n",
      "        MaxPool2d-10          [-1, 128, 12, 12]               0\n",
      "           Conv2d-11          [-1, 256, 12, 12]         295,168\n",
      "             ReLU-12          [-1, 256, 12, 12]               0\n",
      "           Conv2d-13          [-1, 256, 12, 12]         590,080\n",
      "             ReLU-14          [-1, 256, 12, 12]               0\n",
      "           Conv2d-15          [-1, 256, 12, 12]         590,080\n",
      "             ReLU-16          [-1, 256, 12, 12]               0\n",
      "        MaxPool2d-17            [-1, 256, 6, 6]               0\n",
      "           Conv2d-18            [-1, 512, 6, 6]       1,180,160\n",
      "             ReLU-19            [-1, 512, 6, 6]               0\n",
      "           Conv2d-20            [-1, 512, 6, 6]       2,359,808\n",
      "             ReLU-21            [-1, 512, 6, 6]               0\n",
      "           Conv2d-22            [-1, 512, 6, 6]       2,359,808\n",
      "             ReLU-23            [-1, 512, 6, 6]               0\n",
      "        MaxPool2d-24            [-1, 512, 3, 3]               0\n",
      "           Conv2d-25            [-1, 512, 3, 3]       2,359,808\n",
      "             ReLU-26            [-1, 512, 3, 3]               0\n",
      "           Conv2d-27            [-1, 512, 3, 3]       2,359,808\n",
      "             ReLU-28            [-1, 512, 3, 3]               0\n",
      "           Conv2d-29            [-1, 512, 3, 3]       2,359,808\n",
      "             ReLU-30            [-1, 512, 3, 3]               0\n",
      "         Identity-31            [-1, 512, 3, 3]               0\n",
      "AdaptiveAvgPool2d-32            [-1, 512, 1, 1]               0\n",
      "         Identity-33                  [-1, 512]               0\n",
      "================================================================\n",
      "Total params: 14,714,688\n",
      "Trainable params: 14,714,688\n",
      "Non-trainable params: 0\n",
      "----------------------------------------------------------------\n",
      "Input size (MB): 0.03\n",
      "Forward/backward pass size (MB): 10.66\n",
      "Params size (MB): 56.13\n",
      "Estimated Total Size (MB): 66.82\n",
      "----------------------------------------------------------------\n"
     ]
    }
   ],
   "source": [
    "vgg16.features[30] = nn.Identity()\n",
    "vgg16.avgpool = nn.AdaptiveAvgPool2d(1)\n",
    "vgg16.classifier = nn.Identity()\n",
    "summary(vgg16, (3, 50, 50))"
   ]
  },
  {
   "cell_type": "markdown",
   "id": "ce4037e6",
   "metadata": {
    "papermill": {
     "duration": 0.00745,
     "end_time": "2023-10-17T12:31:04.707021",
     "exception": false,
     "start_time": "2023-10-17T12:31:04.699571",
     "status": "completed"
    },
    "tags": []
   },
   "source": [
    "Note: \n",
    "* 在avgpool和classifier之間, vgg16模型會把(-1, 512, 1, 1)reshape成(-1, 512)。\n",
    "* 每一個(3, 50, 50)的影像經過更改後的vgg16模型就會產生512個數值。"
   ]
  },
  {
   "cell_type": "markdown",
   "id": "decf7b65",
   "metadata": {
    "papermill": {
     "duration": 0.006942,
     "end_time": "2023-10-17T12:31:04.721119",
     "exception": false,
     "start_time": "2023-10-17T12:31:04.714177",
     "status": "completed"
    },
    "tags": []
   },
   "source": [
    "### 3. 增加影像之外的變數(ex. 性別, 年齡, ...)去建立 classifier layers\n",
    "\n",
    "這裡想建立一個特徵層可以考慮剛剛影像經過特徵層所得到的512個數值和性別, 年齡這兩個數值, 所以分類層的一開始會有512+2 = 514個神經元。"
   ]
  },
  {
   "cell_type": "code",
   "execution_count": 108,
   "id": "3725e5da",
   "metadata": {
    "execution": {
     "iopub.execute_input": "2023-10-17T12:31:04.736528Z",
     "iopub.status.busy": "2023-10-17T12:31:04.736261Z",
     "iopub.status.idle": "2023-10-17T12:31:04.740751Z",
     "shell.execute_reply": "2023-10-17T12:31:04.739785Z"
    },
    "papermill": {
     "duration": 0.014432,
     "end_time": "2023-10-17T12:31:04.742566",
     "exception": false,
     "start_time": "2023-10-17T12:31:04.728134",
     "status": "completed"
    },
    "tags": []
   },
   "outputs": [],
   "source": [
    "del vgg16"
   ]
  },
  {
   "cell_type": "code",
   "execution_count": 109,
   "id": "1dfe9495",
   "metadata": {
    "execution": {
     "iopub.execute_input": "2023-10-17T12:31:04.758132Z",
     "iopub.status.busy": "2023-10-17T12:31:04.757902Z",
     "iopub.status.idle": "2023-10-17T12:32:18.687374Z",
     "shell.execute_reply": "2023-10-17T12:32:18.686366Z"
    },
    "papermill": {
     "duration": 73.939389,
     "end_time": "2023-10-17T12:32:18.689140",
     "exception": false,
     "start_time": "2023-10-17T12:31:04.749751",
     "status": "completed"
    },
    "tags": []
   },
   "outputs": [
    {
     "name": "stdout",
     "output_type": "stream",
     "text": [
      "Initializing dataset...\n",
      "Initializing test_dataset...\n",
      "Number of samples in train_dataset: Counter({3: 54, 2: 30, 1: 29})\n",
      "Number of samples in val_dataset: Counter({3: 21, 1: 15, 2: 12})\n",
      "Initializing model...\n",
      "Epoch[1/150], Train Loss: 1.0806, Train Accuracy: 36.28%, Train F1: 27.86% | Valid Loss: 1.0798, Valid Accuracy: 54.17%, Valid F1: 40.74% | LR: 0.000004\n"
     ]
    },
    {
     "name": "stderr",
     "output_type": "stream",
     "text": [
      "C:\\Users\\mikai\\AppData\\Local\\Temp\\ipykernel_44772\\997093738.py:88: FutureWarning: You are using `torch.load` with `weights_only=False` (the current default value), which uses the default pickle module implicitly. It is possible to construct malicious pickle data which will execute arbitrary code during unpickling (See https://github.com/pytorch/pytorch/blob/main/SECURITY.md#untrusted-models for more details). In a future release, the default value for `weights_only` will be flipped to `True`. This limits the functions that could be executed during unpickling. Arbitrary objects will no longer be allowed to be loaded via this mode unless they are explicitly allowlisted by the user via `torch.serialization.add_safe_globals`. We recommend you start setting `weights_only=True` for any use case where you don't have full control of the loaded file. Please open an issue on GitHub for any issues related to this experimental feature.\n",
      "  best_ckpt = torch.load(\"checkpointFiles/checkpointDownload2.pth\", map_location=config.device)\n"
     ]
    },
    {
     "name": "stdout",
     "output_type": "stream",
     "text": [
      "Epoch[2/150], Train Loss: 1.0716, Train Accuracy: 50.44%, Train F1: 34.58% | Valid Loss: 1.0728, Valid Accuracy: 56.25%, Valid F1: 40.34% | LR: 0.000004\n"
     ]
    },
    {
     "name": "stderr",
     "output_type": "stream",
     "text": [
      "C:\\Users\\mikai\\AppData\\Local\\Temp\\ipykernel_44772\\997093738.py:88: FutureWarning: You are using `torch.load` with `weights_only=False` (the current default value), which uses the default pickle module implicitly. It is possible to construct malicious pickle data which will execute arbitrary code during unpickling (See https://github.com/pytorch/pytorch/blob/main/SECURITY.md#untrusted-models for more details). In a future release, the default value for `weights_only` will be flipped to `True`. This limits the functions that could be executed during unpickling. Arbitrary objects will no longer be allowed to be loaded via this mode unless they are explicitly allowlisted by the user via `torch.serialization.add_safe_globals`. We recommend you start setting `weights_only=True` for any use case where you don't have full control of the loaded file. Please open an issue on GitHub for any issues related to this experimental feature.\n",
      "  best_ckpt = torch.load(\"checkpointFiles/checkpointDownload2.pth\", map_location=config.device)\n"
     ]
    },
    {
     "name": "stdout",
     "output_type": "stream",
     "text": [
      "Epoch[3/150], Train Loss: 1.0724, Train Accuracy: 50.44%, Train F1: 32.54% | Valid Loss: 1.0666, Valid Accuracy: 52.08%, Valid F1: 35.21% | LR: 0.000005\n"
     ]
    },
    {
     "name": "stderr",
     "output_type": "stream",
     "text": [
      "C:\\Users\\mikai\\AppData\\Local\\Temp\\ipykernel_44772\\997093738.py:88: FutureWarning: You are using `torch.load` with `weights_only=False` (the current default value), which uses the default pickle module implicitly. It is possible to construct malicious pickle data which will execute arbitrary code during unpickling (See https://github.com/pytorch/pytorch/blob/main/SECURITY.md#untrusted-models for more details). In a future release, the default value for `weights_only` will be flipped to `True`. This limits the functions that could be executed during unpickling. Arbitrary objects will no longer be allowed to be loaded via this mode unless they are explicitly allowlisted by the user via `torch.serialization.add_safe_globals`. We recommend you start setting `weights_only=True` for any use case where you don't have full control of the loaded file. Please open an issue on GitHub for any issues related to this experimental feature.\n",
      "  best_ckpt = torch.load(\"checkpointFiles/checkpointDownload2.pth\", map_location=config.device)\n"
     ]
    },
    {
     "name": "stdout",
     "output_type": "stream",
     "text": [
      "Epoch[4/150], Train Loss: 1.0605, Train Accuracy: 53.10%, Train F1: 35.85% | Valid Loss: 1.0603, Valid Accuracy: 52.08%, Valid F1: 34.92% | LR: 0.000006\n"
     ]
    },
    {
     "name": "stderr",
     "output_type": "stream",
     "text": [
      "C:\\Users\\mikai\\AppData\\Local\\Temp\\ipykernel_44772\\997093738.py:88: FutureWarning: You are using `torch.load` with `weights_only=False` (the current default value), which uses the default pickle module implicitly. It is possible to construct malicious pickle data which will execute arbitrary code during unpickling (See https://github.com/pytorch/pytorch/blob/main/SECURITY.md#untrusted-models for more details). In a future release, the default value for `weights_only` will be flipped to `True`. This limits the functions that could be executed during unpickling. Arbitrary objects will no longer be allowed to be loaded via this mode unless they are explicitly allowlisted by the user via `torch.serialization.add_safe_globals`. We recommend you start setting `weights_only=True` for any use case where you don't have full control of the loaded file. Please open an issue on GitHub for any issues related to this experimental feature.\n",
      "  best_ckpt = torch.load(\"checkpointFiles/checkpointDownload2.pth\", map_location=config.device)\n"
     ]
    },
    {
     "name": "stdout",
     "output_type": "stream",
     "text": [
      "Epoch[5/150], Train Loss: 1.0403, Train Accuracy: 55.75%, Train F1: 39.64% | Valid Loss: 1.0525, Valid Accuracy: 52.08%, Valid F1: 35.21% | LR: 0.000007\n"
     ]
    },
    {
     "name": "stderr",
     "output_type": "stream",
     "text": [
      "C:\\Users\\mikai\\AppData\\Local\\Temp\\ipykernel_44772\\997093738.py:88: FutureWarning: You are using `torch.load` with `weights_only=False` (the current default value), which uses the default pickle module implicitly. It is possible to construct malicious pickle data which will execute arbitrary code during unpickling (See https://github.com/pytorch/pytorch/blob/main/SECURITY.md#untrusted-models for more details). In a future release, the default value for `weights_only` will be flipped to `True`. This limits the functions that could be executed during unpickling. Arbitrary objects will no longer be allowed to be loaded via this mode unless they are explicitly allowlisted by the user via `torch.serialization.add_safe_globals`. We recommend you start setting `weights_only=True` for any use case where you don't have full control of the loaded file. Please open an issue on GitHub for any issues related to this experimental feature.\n",
      "  best_ckpt = torch.load(\"checkpointFiles/checkpointDownload2.pth\", map_location=config.device)\n"
     ]
    },
    {
     "name": "stdout",
     "output_type": "stream",
     "text": [
      "Epoch[6/150], Train Loss: 1.0247, Train Accuracy: 52.21%, Train F1: 32.76% | Valid Loss: 1.0413, Valid Accuracy: 45.83%, Valid F1: 24.75% | LR: 0.000008\n"
     ]
    },
    {
     "name": "stderr",
     "output_type": "stream",
     "text": [
      "C:\\Users\\mikai\\AppData\\Local\\Temp\\ipykernel_44772\\997093738.py:88: FutureWarning: You are using `torch.load` with `weights_only=False` (the current default value), which uses the default pickle module implicitly. It is possible to construct malicious pickle data which will execute arbitrary code during unpickling (See https://github.com/pytorch/pytorch/blob/main/SECURITY.md#untrusted-models for more details). In a future release, the default value for `weights_only` will be flipped to `True`. This limits the functions that could be executed during unpickling. Arbitrary objects will no longer be allowed to be loaded via this mode unless they are explicitly allowlisted by the user via `torch.serialization.add_safe_globals`. We recommend you start setting `weights_only=True` for any use case where you don't have full control of the loaded file. Please open an issue on GitHub for any issues related to this experimental feature.\n",
      "  best_ckpt = torch.load(\"checkpointFiles/checkpointDownload2.pth\", map_location=config.device)\n"
     ]
    },
    {
     "name": "stdout",
     "output_type": "stream",
     "text": [
      "Epoch[7/150], Train Loss: 1.0679, Train Accuracy: 47.79%, Train F1: 21.56% | Valid Loss: 1.0341, Valid Accuracy: 43.75%, Valid F1: 20.29% | LR: 0.000010\n"
     ]
    },
    {
     "name": "stderr",
     "output_type": "stream",
     "text": [
      "C:\\Users\\mikai\\AppData\\Local\\Temp\\ipykernel_44772\\997093738.py:88: FutureWarning: You are using `torch.load` with `weights_only=False` (the current default value), which uses the default pickle module implicitly. It is possible to construct malicious pickle data which will execute arbitrary code during unpickling (See https://github.com/pytorch/pytorch/blob/main/SECURITY.md#untrusted-models for more details). In a future release, the default value for `weights_only` will be flipped to `True`. This limits the functions that could be executed during unpickling. Arbitrary objects will no longer be allowed to be loaded via this mode unless they are explicitly allowlisted by the user via `torch.serialization.add_safe_globals`. We recommend you start setting `weights_only=True` for any use case where you don't have full control of the loaded file. Please open an issue on GitHub for any issues related to this experimental feature.\n",
      "  best_ckpt = torch.load(\"checkpointFiles/checkpointDownload2.pth\", map_location=config.device)\n"
     ]
    },
    {
     "name": "stdout",
     "output_type": "stream",
     "text": [
      "Epoch[8/150], Train Loss: 0.9869, Train Accuracy: 47.79%, Train F1: 21.56% | Valid Loss: 1.0212, Valid Accuracy: 43.75%, Valid F1: 20.29% | LR: 0.000011\n"
     ]
    },
    {
     "name": "stderr",
     "output_type": "stream",
     "text": [
      "C:\\Users\\mikai\\AppData\\Local\\Temp\\ipykernel_44772\\997093738.py:88: FutureWarning: You are using `torch.load` with `weights_only=False` (the current default value), which uses the default pickle module implicitly. It is possible to construct malicious pickle data which will execute arbitrary code during unpickling (See https://github.com/pytorch/pytorch/blob/main/SECURITY.md#untrusted-models for more details). In a future release, the default value for `weights_only` will be flipped to `True`. This limits the functions that could be executed during unpickling. Arbitrary objects will no longer be allowed to be loaded via this mode unless they are explicitly allowlisted by the user via `torch.serialization.add_safe_globals`. We recommend you start setting `weights_only=True` for any use case where you don't have full control of the loaded file. Please open an issue on GitHub for any issues related to this experimental feature.\n",
      "  best_ckpt = torch.load(\"checkpointFiles/checkpointDownload2.pth\", map_location=config.device)\n"
     ]
    },
    {
     "name": "stdout",
     "output_type": "stream",
     "text": [
      "Epoch[9/150], Train Loss: 0.9624, Train Accuracy: 47.79%, Train F1: 21.56% | Valid Loss: 1.0059, Valid Accuracy: 45.83%, Valid F1: 24.75% | LR: 0.000013\n"
     ]
    },
    {
     "name": "stderr",
     "output_type": "stream",
     "text": [
      "C:\\Users\\mikai\\AppData\\Local\\Temp\\ipykernel_44772\\997093738.py:88: FutureWarning: You are using `torch.load` with `weights_only=False` (the current default value), which uses the default pickle module implicitly. It is possible to construct malicious pickle data which will execute arbitrary code during unpickling (See https://github.com/pytorch/pytorch/blob/main/SECURITY.md#untrusted-models for more details). In a future release, the default value for `weights_only` will be flipped to `True`. This limits the functions that could be executed during unpickling. Arbitrary objects will no longer be allowed to be loaded via this mode unless they are explicitly allowlisted by the user via `torch.serialization.add_safe_globals`. We recommend you start setting `weights_only=True` for any use case where you don't have full control of the loaded file. Please open an issue on GitHub for any issues related to this experimental feature.\n",
      "  best_ckpt = torch.load(\"checkpointFiles/checkpointDownload2.pth\", map_location=config.device)\n"
     ]
    },
    {
     "name": "stdout",
     "output_type": "stream",
     "text": [
      "Epoch[10/150], Train Loss: 0.9395, Train Accuracy: 50.44%, Train F1: 29.65% | Valid Loss: 0.9601, Valid Accuracy: 58.33%, Valid F1: 42.78% | LR: 0.000015\n"
     ]
    },
    {
     "name": "stderr",
     "output_type": "stream",
     "text": [
      "C:\\Users\\mikai\\AppData\\Local\\Temp\\ipykernel_44772\\997093738.py:88: FutureWarning: You are using `torch.load` with `weights_only=False` (the current default value), which uses the default pickle module implicitly. It is possible to construct malicious pickle data which will execute arbitrary code during unpickling (See https://github.com/pytorch/pytorch/blob/main/SECURITY.md#untrusted-models for more details). In a future release, the default value for `weights_only` will be flipped to `True`. This limits the functions that could be executed during unpickling. Arbitrary objects will no longer be allowed to be loaded via this mode unless they are explicitly allowlisted by the user via `torch.serialization.add_safe_globals`. We recommend you start setting `weights_only=True` for any use case where you don't have full control of the loaded file. Please open an issue on GitHub for any issues related to this experimental feature.\n",
      "  best_ckpt = torch.load(\"checkpointFiles/checkpointDownload2.pth\", map_location=config.device)\n"
     ]
    },
    {
     "name": "stdout",
     "output_type": "stream",
     "text": [
      "Epoch[11/150], Train Loss: 0.9041, Train Accuracy: 58.41%, Train F1: 41.70% | Valid Loss: 0.9260, Valid Accuracy: 70.83%, Valid F1: 54.01% | LR: 0.000018\n"
     ]
    },
    {
     "name": "stderr",
     "output_type": "stream",
     "text": [
      "C:\\Users\\mikai\\AppData\\Local\\Temp\\ipykernel_44772\\997093738.py:88: FutureWarning: You are using `torch.load` with `weights_only=False` (the current default value), which uses the default pickle module implicitly. It is possible to construct malicious pickle data which will execute arbitrary code during unpickling (See https://github.com/pytorch/pytorch/blob/main/SECURITY.md#untrusted-models for more details). In a future release, the default value for `weights_only` will be flipped to `True`. This limits the functions that could be executed during unpickling. Arbitrary objects will no longer be allowed to be loaded via this mode unless they are explicitly allowlisted by the user via `torch.serialization.add_safe_globals`. We recommend you start setting `weights_only=True` for any use case where you don't have full control of the loaded file. Please open an issue on GitHub for any issues related to this experimental feature.\n",
      "  best_ckpt = torch.load(\"checkpointFiles/checkpointDownload2.pth\", map_location=config.device)\n"
     ]
    },
    {
     "name": "stdout",
     "output_type": "stream",
     "text": [
      "Epoch[12/150], Train Loss: 0.9107, Train Accuracy: 62.83%, Train F1: 46.05% | Valid Loss: 0.8955, Valid Accuracy: 68.75%, Valid F1: 52.10% | LR: 0.000020\n"
     ]
    },
    {
     "name": "stderr",
     "output_type": "stream",
     "text": [
      "C:\\Users\\mikai\\AppData\\Local\\Temp\\ipykernel_44772\\997093738.py:88: FutureWarning: You are using `torch.load` with `weights_only=False` (the current default value), which uses the default pickle module implicitly. It is possible to construct malicious pickle data which will execute arbitrary code during unpickling (See https://github.com/pytorch/pytorch/blob/main/SECURITY.md#untrusted-models for more details). In a future release, the default value for `weights_only` will be flipped to `True`. This limits the functions that could be executed during unpickling. Arbitrary objects will no longer be allowed to be loaded via this mode unless they are explicitly allowlisted by the user via `torch.serialization.add_safe_globals`. We recommend you start setting `weights_only=True` for any use case where you don't have full control of the loaded file. Please open an issue on GitHub for any issues related to this experimental feature.\n",
      "  best_ckpt = torch.load(\"checkpointFiles/checkpointDownload2.pth\", map_location=config.device)\n"
     ]
    },
    {
     "name": "stdout",
     "output_type": "stream",
     "text": [
      "Epoch[13/150], Train Loss: 0.8641, Train Accuracy: 61.95%, Train F1: 45.64% | Valid Loss: 0.8803, Valid Accuracy: 66.67%, Valid F1: 50.61% | LR: 0.000023\n"
     ]
    },
    {
     "name": "stderr",
     "output_type": "stream",
     "text": [
      "C:\\Users\\mikai\\AppData\\Local\\Temp\\ipykernel_44772\\997093738.py:88: FutureWarning: You are using `torch.load` with `weights_only=False` (the current default value), which uses the default pickle module implicitly. It is possible to construct malicious pickle data which will execute arbitrary code during unpickling (See https://github.com/pytorch/pytorch/blob/main/SECURITY.md#untrusted-models for more details). In a future release, the default value for `weights_only` will be flipped to `True`. This limits the functions that could be executed during unpickling. Arbitrary objects will no longer be allowed to be loaded via this mode unless they are explicitly allowlisted by the user via `torch.serialization.add_safe_globals`. We recommend you start setting `weights_only=True` for any use case where you don't have full control of the loaded file. Please open an issue on GitHub for any issues related to this experimental feature.\n",
      "  best_ckpt = torch.load(\"checkpointFiles/checkpointDownload2.pth\", map_location=config.device)\n"
     ]
    },
    {
     "name": "stdout",
     "output_type": "stream",
     "text": [
      "Epoch[14/150], Train Loss: 0.9178, Train Accuracy: 66.37%, Train F1: 50.02% | Valid Loss: 0.8705, Valid Accuracy: 70.83%, Valid F1: 53.49% | LR: 0.000025\n"
     ]
    },
    {
     "name": "stderr",
     "output_type": "stream",
     "text": [
      "C:\\Users\\mikai\\AppData\\Local\\Temp\\ipykernel_44772\\997093738.py:88: FutureWarning: You are using `torch.load` with `weights_only=False` (the current default value), which uses the default pickle module implicitly. It is possible to construct malicious pickle data which will execute arbitrary code during unpickling (See https://github.com/pytorch/pytorch/blob/main/SECURITY.md#untrusted-models for more details). In a future release, the default value for `weights_only` will be flipped to `True`. This limits the functions that could be executed during unpickling. Arbitrary objects will no longer be allowed to be loaded via this mode unless they are explicitly allowlisted by the user via `torch.serialization.add_safe_globals`. We recommend you start setting `weights_only=True` for any use case where you don't have full control of the loaded file. Please open an issue on GitHub for any issues related to this experimental feature.\n",
      "  best_ckpt = torch.load(\"checkpointFiles/checkpointDownload2.pth\", map_location=config.device)\n"
     ]
    },
    {
     "name": "stdout",
     "output_type": "stream",
     "text": [
      "Epoch[15/150], Train Loss: 0.8661, Train Accuracy: 67.26%, Train F1: 59.10% | Valid Loss: 0.8793, Valid Accuracy: 70.83%, Valid F1: 68.59% | LR: 0.000028\n"
     ]
    },
    {
     "name": "stderr",
     "output_type": "stream",
     "text": [
      "C:\\Users\\mikai\\AppData\\Local\\Temp\\ipykernel_44772\\997093738.py:88: FutureWarning: You are using `torch.load` with `weights_only=False` (the current default value), which uses the default pickle module implicitly. It is possible to construct malicious pickle data which will execute arbitrary code during unpickling (See https://github.com/pytorch/pytorch/blob/main/SECURITY.md#untrusted-models for more details). In a future release, the default value for `weights_only` will be flipped to `True`. This limits the functions that could be executed during unpickling. Arbitrary objects will no longer be allowed to be loaded via this mode unless they are explicitly allowlisted by the user via `torch.serialization.add_safe_globals`. We recommend you start setting `weights_only=True` for any use case where you don't have full control of the loaded file. Please open an issue on GitHub for any issues related to this experimental feature.\n",
      "  best_ckpt = torch.load(\"checkpointFiles/checkpointDownload2.pth\", map_location=config.device)\n"
     ]
    },
    {
     "name": "stdout",
     "output_type": "stream",
     "text": [
      "Epoch[16/150], Train Loss: 0.8777, Train Accuracy: 61.95%, Train F1: 47.44% | Valid Loss: 0.8586, Valid Accuracy: 66.67%, Valid F1: 50.60% | LR: 0.000031\n"
     ]
    },
    {
     "name": "stderr",
     "output_type": "stream",
     "text": [
      "C:\\Users\\mikai\\AppData\\Local\\Temp\\ipykernel_44772\\997093738.py:88: FutureWarning: You are using `torch.load` with `weights_only=False` (the current default value), which uses the default pickle module implicitly. It is possible to construct malicious pickle data which will execute arbitrary code during unpickling (See https://github.com/pytorch/pytorch/blob/main/SECURITY.md#untrusted-models for more details). In a future release, the default value for `weights_only` will be flipped to `True`. This limits the functions that could be executed during unpickling. Arbitrary objects will no longer be allowed to be loaded via this mode unless they are explicitly allowlisted by the user via `torch.serialization.add_safe_globals`. We recommend you start setting `weights_only=True` for any use case where you don't have full control of the loaded file. Please open an issue on GitHub for any issues related to this experimental feature.\n",
      "  best_ckpt = torch.load(\"checkpointFiles/checkpointDownload2.pth\", map_location=config.device)\n"
     ]
    },
    {
     "name": "stdout",
     "output_type": "stream",
     "text": [
      "Epoch[17/150], Train Loss: 0.8104, Train Accuracy: 67.26%, Train F1: 50.27% | Valid Loss: 0.8478, Valid Accuracy: 66.67%, Valid F1: 50.61% | LR: 0.000034\n"
     ]
    },
    {
     "name": "stderr",
     "output_type": "stream",
     "text": [
      "C:\\Users\\mikai\\AppData\\Local\\Temp\\ipykernel_44772\\997093738.py:88: FutureWarning: You are using `torch.load` with `weights_only=False` (the current default value), which uses the default pickle module implicitly. It is possible to construct malicious pickle data which will execute arbitrary code during unpickling (See https://github.com/pytorch/pytorch/blob/main/SECURITY.md#untrusted-models for more details). In a future release, the default value for `weights_only` will be flipped to `True`. This limits the functions that could be executed during unpickling. Arbitrary objects will no longer be allowed to be loaded via this mode unless they are explicitly allowlisted by the user via `torch.serialization.add_safe_globals`. We recommend you start setting `weights_only=True` for any use case where you don't have full control of the loaded file. Please open an issue on GitHub for any issues related to this experimental feature.\n",
      "  best_ckpt = torch.load(\"checkpointFiles/checkpointDownload2.pth\", map_location=config.device)\n"
     ]
    },
    {
     "name": "stdout",
     "output_type": "stream",
     "text": [
      "Epoch[18/150], Train Loss: 0.7811, Train Accuracy: 72.57%, Train F1: 64.99% | Valid Loss: 0.8417, Valid Accuracy: 72.92%, Valid F1: 70.43% | LR: 0.000037\n"
     ]
    },
    {
     "name": "stderr",
     "output_type": "stream",
     "text": [
      "C:\\Users\\mikai\\AppData\\Local\\Temp\\ipykernel_44772\\997093738.py:88: FutureWarning: You are using `torch.load` with `weights_only=False` (the current default value), which uses the default pickle module implicitly. It is possible to construct malicious pickle data which will execute arbitrary code during unpickling (See https://github.com/pytorch/pytorch/blob/main/SECURITY.md#untrusted-models for more details). In a future release, the default value for `weights_only` will be flipped to `True`. This limits the functions that could be executed during unpickling. Arbitrary objects will no longer be allowed to be loaded via this mode unless they are explicitly allowlisted by the user via `torch.serialization.add_safe_globals`. We recommend you start setting `weights_only=True` for any use case where you don't have full control of the loaded file. Please open an issue on GitHub for any issues related to this experimental feature.\n",
      "  best_ckpt = torch.load(\"checkpointFiles/checkpointDownload2.pth\", map_location=config.device)\n"
     ]
    },
    {
     "name": "stdout",
     "output_type": "stream",
     "text": [
      "Epoch[19/150], Train Loss: 0.7329, Train Accuracy: 84.96%, Train F1: 82.99% | Valid Loss: 0.8477, Valid Accuracy: 66.67%, Valid F1: 57.78% | LR: 0.000041\n"
     ]
    },
    {
     "name": "stderr",
     "output_type": "stream",
     "text": [
      "C:\\Users\\mikai\\AppData\\Local\\Temp\\ipykernel_44772\\997093738.py:88: FutureWarning: You are using `torch.load` with `weights_only=False` (the current default value), which uses the default pickle module implicitly. It is possible to construct malicious pickle data which will execute arbitrary code during unpickling (See https://github.com/pytorch/pytorch/blob/main/SECURITY.md#untrusted-models for more details). In a future release, the default value for `weights_only` will be flipped to `True`. This limits the functions that could be executed during unpickling. Arbitrary objects will no longer be allowed to be loaded via this mode unless they are explicitly allowlisted by the user via `torch.serialization.add_safe_globals`. We recommend you start setting `weights_only=True` for any use case where you don't have full control of the loaded file. Please open an issue on GitHub for any issues related to this experimental feature.\n",
      "  best_ckpt = torch.load(\"checkpointFiles/checkpointDownload2.pth\", map_location=config.device)\n"
     ]
    },
    {
     "name": "stdout",
     "output_type": "stream",
     "text": [
      "Epoch[20/150], Train Loss: 0.7240, Train Accuracy: 84.07%, Train F1: 81.46% | Valid Loss: 0.8108, Valid Accuracy: 72.92%, Valid F1: 69.45% | LR: 0.000044\n"
     ]
    },
    {
     "name": "stderr",
     "output_type": "stream",
     "text": [
      "C:\\Users\\mikai\\AppData\\Local\\Temp\\ipykernel_44772\\997093738.py:88: FutureWarning: You are using `torch.load` with `weights_only=False` (the current default value), which uses the default pickle module implicitly. It is possible to construct malicious pickle data which will execute arbitrary code during unpickling (See https://github.com/pytorch/pytorch/blob/main/SECURITY.md#untrusted-models for more details). In a future release, the default value for `weights_only` will be flipped to `True`. This limits the functions that could be executed during unpickling. Arbitrary objects will no longer be allowed to be loaded via this mode unless they are explicitly allowlisted by the user via `torch.serialization.add_safe_globals`. We recommend you start setting `weights_only=True` for any use case where you don't have full control of the loaded file. Please open an issue on GitHub for any issues related to this experimental feature.\n",
      "  best_ckpt = torch.load(\"checkpointFiles/checkpointDownload2.pth\", map_location=config.device)\n"
     ]
    },
    {
     "name": "stdout",
     "output_type": "stream",
     "text": [
      "Epoch[21/150], Train Loss: 0.6729, Train Accuracy: 87.61%, Train F1: 86.61% | Valid Loss: 0.9419, Valid Accuracy: 58.33%, Valid F1: 45.49% | LR: 0.000047\n"
     ]
    },
    {
     "name": "stderr",
     "output_type": "stream",
     "text": [
      "C:\\Users\\mikai\\AppData\\Local\\Temp\\ipykernel_44772\\997093738.py:88: FutureWarning: You are using `torch.load` with `weights_only=False` (the current default value), which uses the default pickle module implicitly. It is possible to construct malicious pickle data which will execute arbitrary code during unpickling (See https://github.com/pytorch/pytorch/blob/main/SECURITY.md#untrusted-models for more details). In a future release, the default value for `weights_only` will be flipped to `True`. This limits the functions that could be executed during unpickling. Arbitrary objects will no longer be allowed to be loaded via this mode unless they are explicitly allowlisted by the user via `torch.serialization.add_safe_globals`. We recommend you start setting `weights_only=True` for any use case where you don't have full control of the loaded file. Please open an issue on GitHub for any issues related to this experimental feature.\n",
      "  best_ckpt = torch.load(\"checkpointFiles/checkpointDownload2.pth\", map_location=config.device)\n"
     ]
    },
    {
     "name": "stdout",
     "output_type": "stream",
     "text": [
      "Epoch[22/150], Train Loss: 0.8697, Train Accuracy: 70.80%, Train F1: 66.13% | Valid Loss: 0.8937, Valid Accuracy: 64.58%, Valid F1: 62.04% | LR: 0.000051\n"
     ]
    },
    {
     "name": "stderr",
     "output_type": "stream",
     "text": [
      "C:\\Users\\mikai\\AppData\\Local\\Temp\\ipykernel_44772\\997093738.py:88: FutureWarning: You are using `torch.load` with `weights_only=False` (the current default value), which uses the default pickle module implicitly. It is possible to construct malicious pickle data which will execute arbitrary code during unpickling (See https://github.com/pytorch/pytorch/blob/main/SECURITY.md#untrusted-models for more details). In a future release, the default value for `weights_only` will be flipped to `True`. This limits the functions that could be executed during unpickling. Arbitrary objects will no longer be allowed to be loaded via this mode unless they are explicitly allowlisted by the user via `torch.serialization.add_safe_globals`. We recommend you start setting `weights_only=True` for any use case where you don't have full control of the loaded file. Please open an issue on GitHub for any issues related to this experimental feature.\n",
      "  best_ckpt = torch.load(\"checkpointFiles/checkpointDownload2.pth\", map_location=config.device)\n"
     ]
    },
    {
     "name": "stdout",
     "output_type": "stream",
     "text": [
      "Epoch[23/150], Train Loss: 0.8024, Train Accuracy: 85.84%, Train F1: 84.32% | Valid Loss: 0.8448, Valid Accuracy: 68.75%, Valid F1: 62.54% | LR: 0.000054\n"
     ]
    },
    {
     "name": "stderr",
     "output_type": "stream",
     "text": [
      "C:\\Users\\mikai\\AppData\\Local\\Temp\\ipykernel_44772\\997093738.py:88: FutureWarning: You are using `torch.load` with `weights_only=False` (the current default value), which uses the default pickle module implicitly. It is possible to construct malicious pickle data which will execute arbitrary code during unpickling (See https://github.com/pytorch/pytorch/blob/main/SECURITY.md#untrusted-models for more details). In a future release, the default value for `weights_only` will be flipped to `True`. This limits the functions that could be executed during unpickling. Arbitrary objects will no longer be allowed to be loaded via this mode unless they are explicitly allowlisted by the user via `torch.serialization.add_safe_globals`. We recommend you start setting `weights_only=True` for any use case where you don't have full control of the loaded file. Please open an issue on GitHub for any issues related to this experimental feature.\n",
      "  best_ckpt = torch.load(\"checkpointFiles/checkpointDownload2.pth\", map_location=config.device)\n"
     ]
    },
    {
     "name": "stdout",
     "output_type": "stream",
     "text": [
      "Epoch[24/150], Train Loss: 0.6754, Train Accuracy: 85.84%, Train F1: 84.32% | Valid Loss: 0.8308, Valid Accuracy: 68.75%, Valid F1: 52.18% | LR: 0.000057\n"
     ]
    },
    {
     "name": "stderr",
     "output_type": "stream",
     "text": [
      "C:\\Users\\mikai\\AppData\\Local\\Temp\\ipykernel_44772\\997093738.py:88: FutureWarning: You are using `torch.load` with `weights_only=False` (the current default value), which uses the default pickle module implicitly. It is possible to construct malicious pickle data which will execute arbitrary code during unpickling (See https://github.com/pytorch/pytorch/blob/main/SECURITY.md#untrusted-models for more details). In a future release, the default value for `weights_only` will be flipped to `True`. This limits the functions that could be executed during unpickling. Arbitrary objects will no longer be allowed to be loaded via this mode unless they are explicitly allowlisted by the user via `torch.serialization.add_safe_globals`. We recommend you start setting `weights_only=True` for any use case where you don't have full control of the loaded file. Please open an issue on GitHub for any issues related to this experimental feature.\n",
      "  best_ckpt = torch.load(\"checkpointFiles/checkpointDownload2.pth\", map_location=config.device)\n"
     ]
    },
    {
     "name": "stdout",
     "output_type": "stream",
     "text": [
      "Epoch[25/150], Train Loss: 0.6766, Train Accuracy: 90.27%, Train F1: 88.93% | Valid Loss: 0.8020, Valid Accuracy: 77.08%, Valid F1: 70.88% | LR: 0.000061\n"
     ]
    },
    {
     "name": "stderr",
     "output_type": "stream",
     "text": [
      "C:\\Users\\mikai\\AppData\\Local\\Temp\\ipykernel_44772\\997093738.py:88: FutureWarning: You are using `torch.load` with `weights_only=False` (the current default value), which uses the default pickle module implicitly. It is possible to construct malicious pickle data which will execute arbitrary code during unpickling (See https://github.com/pytorch/pytorch/blob/main/SECURITY.md#untrusted-models for more details). In a future release, the default value for `weights_only` will be flipped to `True`. This limits the functions that could be executed during unpickling. Arbitrary objects will no longer be allowed to be loaded via this mode unless they are explicitly allowlisted by the user via `torch.serialization.add_safe_globals`. We recommend you start setting `weights_only=True` for any use case where you don't have full control of the loaded file. Please open an issue on GitHub for any issues related to this experimental feature.\n",
      "  best_ckpt = torch.load(\"checkpointFiles/checkpointDownload2.pth\", map_location=config.device)\n"
     ]
    },
    {
     "name": "stdout",
     "output_type": "stream",
     "text": [
      "Epoch[26/150], Train Loss: 0.7639, Train Accuracy: 76.11%, Train F1: 75.04% | Valid Loss: 0.8450, Valid Accuracy: 68.75%, Valid F1: 66.98% | LR: 0.000064\n"
     ]
    },
    {
     "name": "stderr",
     "output_type": "stream",
     "text": [
      "C:\\Users\\mikai\\AppData\\Local\\Temp\\ipykernel_44772\\997093738.py:88: FutureWarning: You are using `torch.load` with `weights_only=False` (the current default value), which uses the default pickle module implicitly. It is possible to construct malicious pickle data which will execute arbitrary code during unpickling (See https://github.com/pytorch/pytorch/blob/main/SECURITY.md#untrusted-models for more details). In a future release, the default value for `weights_only` will be flipped to `True`. This limits the functions that could be executed during unpickling. Arbitrary objects will no longer be allowed to be loaded via this mode unless they are explicitly allowlisted by the user via `torch.serialization.add_safe_globals`. We recommend you start setting `weights_only=True` for any use case where you don't have full control of the loaded file. Please open an issue on GitHub for any issues related to this experimental feature.\n",
      "  best_ckpt = torch.load(\"checkpointFiles/checkpointDownload2.pth\", map_location=config.device)\n"
     ]
    },
    {
     "name": "stdout",
     "output_type": "stream",
     "text": [
      "Epoch[27/150], Train Loss: 0.6434, Train Accuracy: 93.81%, Train F1: 93.35% | Valid Loss: 0.8415, Valid Accuracy: 68.75%, Valid F1: 67.79% | LR: 0.000067\n"
     ]
    },
    {
     "name": "stderr",
     "output_type": "stream",
     "text": [
      "C:\\Users\\mikai\\AppData\\Local\\Temp\\ipykernel_44772\\997093738.py:88: FutureWarning: You are using `torch.load` with `weights_only=False` (the current default value), which uses the default pickle module implicitly. It is possible to construct malicious pickle data which will execute arbitrary code during unpickling (See https://github.com/pytorch/pytorch/blob/main/SECURITY.md#untrusted-models for more details). In a future release, the default value for `weights_only` will be flipped to `True`. This limits the functions that could be executed during unpickling. Arbitrary objects will no longer be allowed to be loaded via this mode unless they are explicitly allowlisted by the user via `torch.serialization.add_safe_globals`. We recommend you start setting `weights_only=True` for any use case where you don't have full control of the loaded file. Please open an issue on GitHub for any issues related to this experimental feature.\n",
      "  best_ckpt = torch.load(\"checkpointFiles/checkpointDownload2.pth\", map_location=config.device)\n"
     ]
    },
    {
     "name": "stdout",
     "output_type": "stream",
     "text": [
      "Epoch[28/150], Train Loss: 0.6564, Train Accuracy: 87.61%, Train F1: 86.74% | Valid Loss: 0.8380, Valid Accuracy: 70.83%, Valid F1: 65.99% | LR: 0.000070\n"
     ]
    },
    {
     "name": "stderr",
     "output_type": "stream",
     "text": [
      "C:\\Users\\mikai\\AppData\\Local\\Temp\\ipykernel_44772\\997093738.py:88: FutureWarning: You are using `torch.load` with `weights_only=False` (the current default value), which uses the default pickle module implicitly. It is possible to construct malicious pickle data which will execute arbitrary code during unpickling (See https://github.com/pytorch/pytorch/blob/main/SECURITY.md#untrusted-models for more details). In a future release, the default value for `weights_only` will be flipped to `True`. This limits the functions that could be executed during unpickling. Arbitrary objects will no longer be allowed to be loaded via this mode unless they are explicitly allowlisted by the user via `torch.serialization.add_safe_globals`. We recommend you start setting `weights_only=True` for any use case where you don't have full control of the loaded file. Please open an issue on GitHub for any issues related to this experimental feature.\n",
      "  best_ckpt = torch.load(\"checkpointFiles/checkpointDownload2.pth\", map_location=config.device)\n"
     ]
    },
    {
     "name": "stdout",
     "output_type": "stream",
     "text": [
      "Epoch[29/150], Train Loss: 0.6976, Train Accuracy: 85.84%, Train F1: 82.02% | Valid Loss: 0.9817, Valid Accuracy: 56.25%, Valid F1: 42.96% | LR: 0.000073\n"
     ]
    },
    {
     "name": "stderr",
     "output_type": "stream",
     "text": [
      "C:\\Users\\mikai\\AppData\\Local\\Temp\\ipykernel_44772\\997093738.py:88: FutureWarning: You are using `torch.load` with `weights_only=False` (the current default value), which uses the default pickle module implicitly. It is possible to construct malicious pickle data which will execute arbitrary code during unpickling (See https://github.com/pytorch/pytorch/blob/main/SECURITY.md#untrusted-models for more details). In a future release, the default value for `weights_only` will be flipped to `True`. This limits the functions that could be executed during unpickling. Arbitrary objects will no longer be allowed to be loaded via this mode unless they are explicitly allowlisted by the user via `torch.serialization.add_safe_globals`. We recommend you start setting `weights_only=True` for any use case where you don't have full control of the loaded file. Please open an issue on GitHub for any issues related to this experimental feature.\n",
      "  best_ckpt = torch.load(\"checkpointFiles/checkpointDownload2.pth\", map_location=config.device)\n"
     ]
    },
    {
     "name": "stdout",
     "output_type": "stream",
     "text": [
      "Epoch[30/150], Train Loss: 0.7310, Train Accuracy: 93.81%, Train F1: 93.00% | Valid Loss: 0.8071, Valid Accuracy: 77.08%, Valid F1: 73.92% | LR: 0.000076\n"
     ]
    },
    {
     "name": "stderr",
     "output_type": "stream",
     "text": [
      "C:\\Users\\mikai\\AppData\\Local\\Temp\\ipykernel_44772\\997093738.py:88: FutureWarning: You are using `torch.load` with `weights_only=False` (the current default value), which uses the default pickle module implicitly. It is possible to construct malicious pickle data which will execute arbitrary code during unpickling (See https://github.com/pytorch/pytorch/blob/main/SECURITY.md#untrusted-models for more details). In a future release, the default value for `weights_only` will be flipped to `True`. This limits the functions that could be executed during unpickling. Arbitrary objects will no longer be allowed to be loaded via this mode unless they are explicitly allowlisted by the user via `torch.serialization.add_safe_globals`. We recommend you start setting `weights_only=True` for any use case where you don't have full control of the loaded file. Please open an issue on GitHub for any issues related to this experimental feature.\n",
      "  best_ckpt = torch.load(\"checkpointFiles/checkpointDownload2.pth\", map_location=config.device)\n"
     ]
    },
    {
     "name": "stdout",
     "output_type": "stream",
     "text": [
      "Epoch[31/150], Train Loss: 0.6131, Train Accuracy: 95.58%, Train F1: 95.15% | Valid Loss: 0.7861, Valid Accuracy: 77.08%, Valid F1: 71.25% | LR: 0.000079\n"
     ]
    },
    {
     "name": "stderr",
     "output_type": "stream",
     "text": [
      "C:\\Users\\mikai\\AppData\\Local\\Temp\\ipykernel_44772\\997093738.py:88: FutureWarning: You are using `torch.load` with `weights_only=False` (the current default value), which uses the default pickle module implicitly. It is possible to construct malicious pickle data which will execute arbitrary code during unpickling (See https://github.com/pytorch/pytorch/blob/main/SECURITY.md#untrusted-models for more details). In a future release, the default value for `weights_only` will be flipped to `True`. This limits the functions that could be executed during unpickling. Arbitrary objects will no longer be allowed to be loaded via this mode unless they are explicitly allowlisted by the user via `torch.serialization.add_safe_globals`. We recommend you start setting `weights_only=True` for any use case where you don't have full control of the loaded file. Please open an issue on GitHub for any issues related to this experimental feature.\n",
      "  best_ckpt = torch.load(\"checkpointFiles/checkpointDownload2.pth\", map_location=config.device)\n"
     ]
    },
    {
     "name": "stdout",
     "output_type": "stream",
     "text": [
      "Epoch[32/150], Train Loss: 0.6007, Train Accuracy: 97.35%, Train F1: 96.91% | Valid Loss: 0.8473, Valid Accuracy: 68.75%, Valid F1: 62.43% | LR: 0.000082\n"
     ]
    },
    {
     "name": "stderr",
     "output_type": "stream",
     "text": [
      "C:\\Users\\mikai\\AppData\\Local\\Temp\\ipykernel_44772\\997093738.py:88: FutureWarning: You are using `torch.load` with `weights_only=False` (the current default value), which uses the default pickle module implicitly. It is possible to construct malicious pickle data which will execute arbitrary code during unpickling (See https://github.com/pytorch/pytorch/blob/main/SECURITY.md#untrusted-models for more details). In a future release, the default value for `weights_only` will be flipped to `True`. This limits the functions that could be executed during unpickling. Arbitrary objects will no longer be allowed to be loaded via this mode unless they are explicitly allowlisted by the user via `torch.serialization.add_safe_globals`. We recommend you start setting `weights_only=True` for any use case where you don't have full control of the loaded file. Please open an issue on GitHub for any issues related to this experimental feature.\n",
      "  best_ckpt = torch.load(\"checkpointFiles/checkpointDownload2.pth\", map_location=config.device)\n"
     ]
    },
    {
     "name": "stdout",
     "output_type": "stream",
     "text": [
      "Epoch[33/150], Train Loss: 0.6042, Train Accuracy: 94.69%, Train F1: 93.87% | Valid Loss: 0.8795, Valid Accuracy: 62.50%, Valid F1: 56.54% | LR: 0.000084\n"
     ]
    },
    {
     "name": "stderr",
     "output_type": "stream",
     "text": [
      "C:\\Users\\mikai\\AppData\\Local\\Temp\\ipykernel_44772\\997093738.py:88: FutureWarning: You are using `torch.load` with `weights_only=False` (the current default value), which uses the default pickle module implicitly. It is possible to construct malicious pickle data which will execute arbitrary code during unpickling (See https://github.com/pytorch/pytorch/blob/main/SECURITY.md#untrusted-models for more details). In a future release, the default value for `weights_only` will be flipped to `True`. This limits the functions that could be executed during unpickling. Arbitrary objects will no longer be allowed to be loaded via this mode unless they are explicitly allowlisted by the user via `torch.serialization.add_safe_globals`. We recommend you start setting `weights_only=True` for any use case where you don't have full control of the loaded file. Please open an issue on GitHub for any issues related to this experimental feature.\n",
      "  best_ckpt = torch.load(\"checkpointFiles/checkpointDownload2.pth\", map_location=config.device)\n"
     ]
    },
    {
     "name": "stdout",
     "output_type": "stream",
     "text": [
      "Epoch[34/150], Train Loss: 0.6582, Train Accuracy: 93.81%, Train F1: 92.41% | Valid Loss: 1.1127, Valid Accuracy: 43.75%, Valid F1: 20.90% | LR: 0.000087\n"
     ]
    },
    {
     "name": "stderr",
     "output_type": "stream",
     "text": [
      "C:\\Users\\mikai\\AppData\\Local\\Temp\\ipykernel_44772\\997093738.py:88: FutureWarning: You are using `torch.load` with `weights_only=False` (the current default value), which uses the default pickle module implicitly. It is possible to construct malicious pickle data which will execute arbitrary code during unpickling (See https://github.com/pytorch/pytorch/blob/main/SECURITY.md#untrusted-models for more details). In a future release, the default value for `weights_only` will be flipped to `True`. This limits the functions that could be executed during unpickling. Arbitrary objects will no longer be allowed to be loaded via this mode unless they are explicitly allowlisted by the user via `torch.serialization.add_safe_globals`. We recommend you start setting `weights_only=True` for any use case where you don't have full control of the loaded file. Please open an issue on GitHub for any issues related to this experimental feature.\n",
      "  best_ckpt = torch.load(\"checkpointFiles/checkpointDownload2.pth\", map_location=config.device)\n"
     ]
    },
    {
     "name": "stdout",
     "output_type": "stream",
     "text": [
      "Epoch[35/150], Train Loss: 0.9408, Train Accuracy: 55.75%, Train F1: 39.71% | Valid Loss: 1.1139, Valid Accuracy: 43.75%, Valid F1: 20.29% | LR: 0.000089\n"
     ]
    },
    {
     "name": "stderr",
     "output_type": "stream",
     "text": [
      "C:\\Users\\mikai\\AppData\\Local\\Temp\\ipykernel_44772\\997093738.py:88: FutureWarning: You are using `torch.load` with `weights_only=False` (the current default value), which uses the default pickle module implicitly. It is possible to construct malicious pickle data which will execute arbitrary code during unpickling (See https://github.com/pytorch/pytorch/blob/main/SECURITY.md#untrusted-models for more details). In a future release, the default value for `weights_only` will be flipped to `True`. This limits the functions that could be executed during unpickling. Arbitrary objects will no longer be allowed to be loaded via this mode unless they are explicitly allowlisted by the user via `torch.serialization.add_safe_globals`. We recommend you start setting `weights_only=True` for any use case where you don't have full control of the loaded file. Please open an issue on GitHub for any issues related to this experimental feature.\n",
      "  best_ckpt = torch.load(\"checkpointFiles/checkpointDownload2.pth\", map_location=config.device)\n"
     ]
    },
    {
     "name": "stdout",
     "output_type": "stream",
     "text": [
      "Epoch[36/150], Train Loss: 0.7980, Train Accuracy: 74.34%, Train F1: 63.26% | Valid Loss: 1.0584, Valid Accuracy: 50.00%, Valid F1: 40.91% | LR: 0.000091\n"
     ]
    },
    {
     "name": "stderr",
     "output_type": "stream",
     "text": [
      "C:\\Users\\mikai\\AppData\\Local\\Temp\\ipykernel_44772\\997093738.py:88: FutureWarning: You are using `torch.load` with `weights_only=False` (the current default value), which uses the default pickle module implicitly. It is possible to construct malicious pickle data which will execute arbitrary code during unpickling (See https://github.com/pytorch/pytorch/blob/main/SECURITY.md#untrusted-models for more details). In a future release, the default value for `weights_only` will be flipped to `True`. This limits the functions that could be executed during unpickling. Arbitrary objects will no longer be allowed to be loaded via this mode unless they are explicitly allowlisted by the user via `torch.serialization.add_safe_globals`. We recommend you start setting `weights_only=True` for any use case where you don't have full control of the loaded file. Please open an issue on GitHub for any issues related to this experimental feature.\n",
      "  best_ckpt = torch.load(\"checkpointFiles/checkpointDownload2.pth\", map_location=config.device)\n"
     ]
    },
    {
     "name": "stdout",
     "output_type": "stream",
     "text": [
      "Epoch[37/150], Train Loss: 0.7243, Train Accuracy: 83.19%, Train F1: 83.73% | Valid Loss: 0.8625, Valid Accuracy: 68.75%, Valid F1: 66.72% | LR: 0.000093\n"
     ]
    },
    {
     "name": "stderr",
     "output_type": "stream",
     "text": [
      "C:\\Users\\mikai\\AppData\\Local\\Temp\\ipykernel_44772\\997093738.py:88: FutureWarning: You are using `torch.load` with `weights_only=False` (the current default value), which uses the default pickle module implicitly. It is possible to construct malicious pickle data which will execute arbitrary code during unpickling (See https://github.com/pytorch/pytorch/blob/main/SECURITY.md#untrusted-models for more details). In a future release, the default value for `weights_only` will be flipped to `True`. This limits the functions that could be executed during unpickling. Arbitrary objects will no longer be allowed to be loaded via this mode unless they are explicitly allowlisted by the user via `torch.serialization.add_safe_globals`. We recommend you start setting `weights_only=True` for any use case where you don't have full control of the loaded file. Please open an issue on GitHub for any issues related to this experimental feature.\n",
      "  best_ckpt = torch.load(\"checkpointFiles/checkpointDownload2.pth\", map_location=config.device)\n"
     ]
    },
    {
     "name": "stdout",
     "output_type": "stream",
     "text": [
      "Epoch[38/150], Train Loss: 0.6376, Train Accuracy: 92.04%, Train F1: 90.60% | Valid Loss: 0.9799, Valid Accuracy: 56.25%, Valid F1: 42.99% | LR: 0.000095\n"
     ]
    },
    {
     "name": "stderr",
     "output_type": "stream",
     "text": [
      "C:\\Users\\mikai\\AppData\\Local\\Temp\\ipykernel_44772\\997093738.py:88: FutureWarning: You are using `torch.load` with `weights_only=False` (the current default value), which uses the default pickle module implicitly. It is possible to construct malicious pickle data which will execute arbitrary code during unpickling (See https://github.com/pytorch/pytorch/blob/main/SECURITY.md#untrusted-models for more details). In a future release, the default value for `weights_only` will be flipped to `True`. This limits the functions that could be executed during unpickling. Arbitrary objects will no longer be allowed to be loaded via this mode unless they are explicitly allowlisted by the user via `torch.serialization.add_safe_globals`. We recommend you start setting `weights_only=True` for any use case where you don't have full control of the loaded file. Please open an issue on GitHub for any issues related to this experimental feature.\n",
      "  best_ckpt = torch.load(\"checkpointFiles/checkpointDownload2.pth\", map_location=config.device)\n"
     ]
    },
    {
     "name": "stdout",
     "output_type": "stream",
     "text": [
      "Epoch[39/150], Train Loss: 0.8996, Train Accuracy: 64.60%, Train F1: 54.55% | Valid Loss: 1.1132, Valid Accuracy: 43.75%, Valid F1: 20.59% | LR: 0.000096\n"
     ]
    },
    {
     "name": "stderr",
     "output_type": "stream",
     "text": [
      "C:\\Users\\mikai\\AppData\\Local\\Temp\\ipykernel_44772\\997093738.py:88: FutureWarning: You are using `torch.load` with `weights_only=False` (the current default value), which uses the default pickle module implicitly. It is possible to construct malicious pickle data which will execute arbitrary code during unpickling (See https://github.com/pytorch/pytorch/blob/main/SECURITY.md#untrusted-models for more details). In a future release, the default value for `weights_only` will be flipped to `True`. This limits the functions that could be executed during unpickling. Arbitrary objects will no longer be allowed to be loaded via this mode unless they are explicitly allowlisted by the user via `torch.serialization.add_safe_globals`. We recommend you start setting `weights_only=True` for any use case where you don't have full control of the loaded file. Please open an issue on GitHub for any issues related to this experimental feature.\n",
      "  best_ckpt = torch.load(\"checkpointFiles/checkpointDownload2.pth\", map_location=config.device)\n"
     ]
    },
    {
     "name": "stdout",
     "output_type": "stream",
     "text": [
      "Epoch[40/150], Train Loss: 1.0461, Train Accuracy: 57.52%, Train F1: 43.86% | Valid Loss: 1.1139, Valid Accuracy: 43.75%, Valid F1: 20.29% | LR: 0.000097\n"
     ]
    },
    {
     "name": "stderr",
     "output_type": "stream",
     "text": [
      "C:\\Users\\mikai\\AppData\\Local\\Temp\\ipykernel_44772\\997093738.py:88: FutureWarning: You are using `torch.load` with `weights_only=False` (the current default value), which uses the default pickle module implicitly. It is possible to construct malicious pickle data which will execute arbitrary code during unpickling (See https://github.com/pytorch/pytorch/blob/main/SECURITY.md#untrusted-models for more details). In a future release, the default value for `weights_only` will be flipped to `True`. This limits the functions that could be executed during unpickling. Arbitrary objects will no longer be allowed to be loaded via this mode unless they are explicitly allowlisted by the user via `torch.serialization.add_safe_globals`. We recommend you start setting `weights_only=True` for any use case where you don't have full control of the loaded file. Please open an issue on GitHub for any issues related to this experimental feature.\n",
      "  best_ckpt = torch.load(\"checkpointFiles/checkpointDownload2.pth\", map_location=config.device)\n"
     ]
    },
    {
     "name": "stdout",
     "output_type": "stream",
     "text": [
      "Epoch[41/150], Train Loss: 0.6952, Train Accuracy: 84.96%, Train F1: 82.91% | Valid Loss: 0.8415, Valid Accuracy: 70.83%, Valid F1: 68.47% | LR: 0.000098\n"
     ]
    },
    {
     "name": "stderr",
     "output_type": "stream",
     "text": [
      "C:\\Users\\mikai\\AppData\\Local\\Temp\\ipykernel_44772\\997093738.py:88: FutureWarning: You are using `torch.load` with `weights_only=False` (the current default value), which uses the default pickle module implicitly. It is possible to construct malicious pickle data which will execute arbitrary code during unpickling (See https://github.com/pytorch/pytorch/blob/main/SECURITY.md#untrusted-models for more details). In a future release, the default value for `weights_only` will be flipped to `True`. This limits the functions that could be executed during unpickling. Arbitrary objects will no longer be allowed to be loaded via this mode unless they are explicitly allowlisted by the user via `torch.serialization.add_safe_globals`. We recommend you start setting `weights_only=True` for any use case where you don't have full control of the loaded file. Please open an issue on GitHub for any issues related to this experimental feature.\n",
      "  best_ckpt = torch.load(\"checkpointFiles/checkpointDownload2.pth\", map_location=config.device)\n"
     ]
    },
    {
     "name": "stdout",
     "output_type": "stream",
     "text": [
      "Epoch[42/150], Train Loss: 0.6129, Train Accuracy: 94.69%, Train F1: 93.51% | Valid Loss: 0.9763, Valid Accuracy: 58.33%, Valid F1: 45.64% | LR: 0.000099\n"
     ]
    },
    {
     "name": "stderr",
     "output_type": "stream",
     "text": [
      "C:\\Users\\mikai\\AppData\\Local\\Temp\\ipykernel_44772\\997093738.py:88: FutureWarning: You are using `torch.load` with `weights_only=False` (the current default value), which uses the default pickle module implicitly. It is possible to construct malicious pickle data which will execute arbitrary code during unpickling (See https://github.com/pytorch/pytorch/blob/main/SECURITY.md#untrusted-models for more details). In a future release, the default value for `weights_only` will be flipped to `True`. This limits the functions that could be executed during unpickling. Arbitrary objects will no longer be allowed to be loaded via this mode unless they are explicitly allowlisted by the user via `torch.serialization.add_safe_globals`. We recommend you start setting `weights_only=True` for any use case where you don't have full control of the loaded file. Please open an issue on GitHub for any issues related to this experimental feature.\n",
      "  best_ckpt = torch.load(\"checkpointFiles/checkpointDownload2.pth\", map_location=config.device)\n"
     ]
    },
    {
     "name": "stdout",
     "output_type": "stream",
     "text": [
      "Epoch[43/150], Train Loss: 0.6284, Train Accuracy: 92.92%, Train F1: 91.87% | Valid Loss: 0.9452, Valid Accuracy: 60.42%, Valid F1: 51.74% | LR: 0.000100\n"
     ]
    },
    {
     "name": "stderr",
     "output_type": "stream",
     "text": [
      "C:\\Users\\mikai\\AppData\\Local\\Temp\\ipykernel_44772\\997093738.py:88: FutureWarning: You are using `torch.load` with `weights_only=False` (the current default value), which uses the default pickle module implicitly. It is possible to construct malicious pickle data which will execute arbitrary code during unpickling (See https://github.com/pytorch/pytorch/blob/main/SECURITY.md#untrusted-models for more details). In a future release, the default value for `weights_only` will be flipped to `True`. This limits the functions that could be executed during unpickling. Arbitrary objects will no longer be allowed to be loaded via this mode unless they are explicitly allowlisted by the user via `torch.serialization.add_safe_globals`. We recommend you start setting `weights_only=True` for any use case where you don't have full control of the loaded file. Please open an issue on GitHub for any issues related to this experimental feature.\n",
      "  best_ckpt = torch.load(\"checkpointFiles/checkpointDownload2.pth\", map_location=config.device)\n"
     ]
    },
    {
     "name": "stdout",
     "output_type": "stream",
     "text": [
      "Epoch[44/150], Train Loss: 0.6755, Train Accuracy: 85.84%, Train F1: 84.13% | Valid Loss: 1.0301, Valid Accuracy: 52.08%, Valid F1: 37.78% | LR: 0.000100\n"
     ]
    },
    {
     "name": "stderr",
     "output_type": "stream",
     "text": [
      "C:\\Users\\mikai\\AppData\\Local\\Temp\\ipykernel_44772\\997093738.py:88: FutureWarning: You are using `torch.load` with `weights_only=False` (the current default value), which uses the default pickle module implicitly. It is possible to construct malicious pickle data which will execute arbitrary code during unpickling (See https://github.com/pytorch/pytorch/blob/main/SECURITY.md#untrusted-models for more details). In a future release, the default value for `weights_only` will be flipped to `True`. This limits the functions that could be executed during unpickling. Arbitrary objects will no longer be allowed to be loaded via this mode unless they are explicitly allowlisted by the user via `torch.serialization.add_safe_globals`. We recommend you start setting `weights_only=True` for any use case where you don't have full control of the loaded file. Please open an issue on GitHub for any issues related to this experimental feature.\n",
      "  best_ckpt = torch.load(\"checkpointFiles/checkpointDownload2.pth\", map_location=config.device)\n"
     ]
    },
    {
     "name": "stdout",
     "output_type": "stream",
     "text": [
      "Epoch[45/150], Train Loss: 0.6088, Train Accuracy: 94.69%, Train F1: 93.65% | Valid Loss: 0.9391, Valid Accuracy: 58.33%, Valid F1: 47.15% | LR: 0.000100\n"
     ]
    },
    {
     "name": "stderr",
     "output_type": "stream",
     "text": [
      "C:\\Users\\mikai\\AppData\\Local\\Temp\\ipykernel_44772\\997093738.py:88: FutureWarning: You are using `torch.load` with `weights_only=False` (the current default value), which uses the default pickle module implicitly. It is possible to construct malicious pickle data which will execute arbitrary code during unpickling (See https://github.com/pytorch/pytorch/blob/main/SECURITY.md#untrusted-models for more details). In a future release, the default value for `weights_only` will be flipped to `True`. This limits the functions that could be executed during unpickling. Arbitrary objects will no longer be allowed to be loaded via this mode unless they are explicitly allowlisted by the user via `torch.serialization.add_safe_globals`. We recommend you start setting `weights_only=True` for any use case where you don't have full control of the loaded file. Please open an issue on GitHub for any issues related to this experimental feature.\n",
      "  best_ckpt = torch.load(\"checkpointFiles/checkpointDownload2.pth\", map_location=config.device)\n"
     ]
    },
    {
     "name": "stdout",
     "output_type": "stream",
     "text": [
      "Epoch[46/150], Train Loss: 0.6307, Train Accuracy: 92.04%, Train F1: 91.35% | Valid Loss: 0.8496, Valid Accuracy: 68.75%, Valid F1: 56.34% | LR: 0.000100\n"
     ]
    },
    {
     "name": "stderr",
     "output_type": "stream",
     "text": [
      "C:\\Users\\mikai\\AppData\\Local\\Temp\\ipykernel_44772\\997093738.py:88: FutureWarning: You are using `torch.load` with `weights_only=False` (the current default value), which uses the default pickle module implicitly. It is possible to construct malicious pickle data which will execute arbitrary code during unpickling (See https://github.com/pytorch/pytorch/blob/main/SECURITY.md#untrusted-models for more details). In a future release, the default value for `weights_only` will be flipped to `True`. This limits the functions that could be executed during unpickling. Arbitrary objects will no longer be allowed to be loaded via this mode unless they are explicitly allowlisted by the user via `torch.serialization.add_safe_globals`. We recommend you start setting `weights_only=True` for any use case where you don't have full control of the loaded file. Please open an issue on GitHub for any issues related to this experimental feature.\n",
      "  best_ckpt = torch.load(\"checkpointFiles/checkpointDownload2.pth\", map_location=config.device)\n"
     ]
    },
    {
     "name": "stdout",
     "output_type": "stream",
     "text": [
      "Epoch[47/150], Train Loss: 0.7724, Train Accuracy: 75.22%, Train F1: 71.95% | Valid Loss: 0.8369, Valid Accuracy: 70.83%, Valid F1: 65.75% | LR: 0.000100\n"
     ]
    },
    {
     "name": "stderr",
     "output_type": "stream",
     "text": [
      "C:\\Users\\mikai\\AppData\\Local\\Temp\\ipykernel_44772\\997093738.py:88: FutureWarning: You are using `torch.load` with `weights_only=False` (the current default value), which uses the default pickle module implicitly. It is possible to construct malicious pickle data which will execute arbitrary code during unpickling (See https://github.com/pytorch/pytorch/blob/main/SECURITY.md#untrusted-models for more details). In a future release, the default value for `weights_only` will be flipped to `True`. This limits the functions that could be executed during unpickling. Arbitrary objects will no longer be allowed to be loaded via this mode unless they are explicitly allowlisted by the user via `torch.serialization.add_safe_globals`. We recommend you start setting `weights_only=True` for any use case where you don't have full control of the loaded file. Please open an issue on GitHub for any issues related to this experimental feature.\n",
      "  best_ckpt = torch.load(\"checkpointFiles/checkpointDownload2.pth\", map_location=config.device)\n"
     ]
    },
    {
     "name": "stdout",
     "output_type": "stream",
     "text": [
      "Epoch[48/150], Train Loss: 0.6085, Train Accuracy: 96.46%, Train F1: 95.77% | Valid Loss: 0.8162, Valid Accuracy: 72.92%, Valid F1: 67.72% | LR: 0.000100\n"
     ]
    },
    {
     "name": "stderr",
     "output_type": "stream",
     "text": [
      "C:\\Users\\mikai\\AppData\\Local\\Temp\\ipykernel_44772\\997093738.py:88: FutureWarning: You are using `torch.load` with `weights_only=False` (the current default value), which uses the default pickle module implicitly. It is possible to construct malicious pickle data which will execute arbitrary code during unpickling (See https://github.com/pytorch/pytorch/blob/main/SECURITY.md#untrusted-models for more details). In a future release, the default value for `weights_only` will be flipped to `True`. This limits the functions that could be executed during unpickling. Arbitrary objects will no longer be allowed to be loaded via this mode unless they are explicitly allowlisted by the user via `torch.serialization.add_safe_globals`. We recommend you start setting `weights_only=True` for any use case where you don't have full control of the loaded file. Please open an issue on GitHub for any issues related to this experimental feature.\n",
      "  best_ckpt = torch.load(\"checkpointFiles/checkpointDownload2.pth\", map_location=config.device)\n"
     ]
    },
    {
     "name": "stdout",
     "output_type": "stream",
     "text": [
      "Epoch[49/150], Train Loss: 0.5944, Train Accuracy: 96.46%, Train F1: 95.78% | Valid Loss: 0.8241, Valid Accuracy: 70.83%, Valid F1: 63.34% | LR: 0.000100\n"
     ]
    },
    {
     "name": "stderr",
     "output_type": "stream",
     "text": [
      "C:\\Users\\mikai\\AppData\\Local\\Temp\\ipykernel_44772\\997093738.py:88: FutureWarning: You are using `torch.load` with `weights_only=False` (the current default value), which uses the default pickle module implicitly. It is possible to construct malicious pickle data which will execute arbitrary code during unpickling (See https://github.com/pytorch/pytorch/blob/main/SECURITY.md#untrusted-models for more details). In a future release, the default value for `weights_only` will be flipped to `True`. This limits the functions that could be executed during unpickling. Arbitrary objects will no longer be allowed to be loaded via this mode unless they are explicitly allowlisted by the user via `torch.serialization.add_safe_globals`. We recommend you start setting `weights_only=True` for any use case where you don't have full control of the loaded file. Please open an issue on GitHub for any issues related to this experimental feature.\n",
      "  best_ckpt = torch.load(\"checkpointFiles/checkpointDownload2.pth\", map_location=config.device)\n"
     ]
    },
    {
     "name": "stdout",
     "output_type": "stream",
     "text": [
      "Epoch[50/150], Train Loss: 0.5921, Train Accuracy: 97.35%, Train F1: 96.90% | Valid Loss: 0.9634, Valid Accuracy: 58.33%, Valid F1: 46.68% | LR: 0.000099\n"
     ]
    },
    {
     "name": "stderr",
     "output_type": "stream",
     "text": [
      "C:\\Users\\mikai\\AppData\\Local\\Temp\\ipykernel_44772\\997093738.py:88: FutureWarning: You are using `torch.load` with `weights_only=False` (the current default value), which uses the default pickle module implicitly. It is possible to construct malicious pickle data which will execute arbitrary code during unpickling (See https://github.com/pytorch/pytorch/blob/main/SECURITY.md#untrusted-models for more details). In a future release, the default value for `weights_only` will be flipped to `True`. This limits the functions that could be executed during unpickling. Arbitrary objects will no longer be allowed to be loaded via this mode unless they are explicitly allowlisted by the user via `torch.serialization.add_safe_globals`. We recommend you start setting `weights_only=True` for any use case where you don't have full control of the loaded file. Please open an issue on GitHub for any issues related to this experimental feature.\n",
      "  best_ckpt = torch.load(\"checkpointFiles/checkpointDownload2.pth\", map_location=config.device)\n"
     ]
    },
    {
     "name": "stdout",
     "output_type": "stream",
     "text": [
      "Epoch[51/150], Train Loss: 0.6836, Train Accuracy: 86.73%, Train F1: 85.71% | Valid Loss: 0.8220, Valid Accuracy: 72.92%, Valid F1: 67.90% | LR: 0.000099\n"
     ]
    },
    {
     "name": "stderr",
     "output_type": "stream",
     "text": [
      "C:\\Users\\mikai\\AppData\\Local\\Temp\\ipykernel_44772\\997093738.py:88: FutureWarning: You are using `torch.load` with `weights_only=False` (the current default value), which uses the default pickle module implicitly. It is possible to construct malicious pickle data which will execute arbitrary code during unpickling (See https://github.com/pytorch/pytorch/blob/main/SECURITY.md#untrusted-models for more details). In a future release, the default value for `weights_only` will be flipped to `True`. This limits the functions that could be executed during unpickling. Arbitrary objects will no longer be allowed to be loaded via this mode unless they are explicitly allowlisted by the user via `torch.serialization.add_safe_globals`. We recommend you start setting `weights_only=True` for any use case where you don't have full control of the loaded file. Please open an issue on GitHub for any issues related to this experimental feature.\n",
      "  best_ckpt = torch.load(\"checkpointFiles/checkpointDownload2.pth\", map_location=config.device)\n"
     ]
    },
    {
     "name": "stdout",
     "output_type": "stream",
     "text": [
      "Epoch[52/150], Train Loss: 0.6354, Train Accuracy: 93.81%, Train F1: 93.00% | Valid Loss: 0.9650, Valid Accuracy: 58.33%, Valid F1: 45.50% | LR: 0.000099\n"
     ]
    },
    {
     "name": "stderr",
     "output_type": "stream",
     "text": [
      "C:\\Users\\mikai\\AppData\\Local\\Temp\\ipykernel_44772\\997093738.py:88: FutureWarning: You are using `torch.load` with `weights_only=False` (the current default value), which uses the default pickle module implicitly. It is possible to construct malicious pickle data which will execute arbitrary code during unpickling (See https://github.com/pytorch/pytorch/blob/main/SECURITY.md#untrusted-models for more details). In a future release, the default value for `weights_only` will be flipped to `True`. This limits the functions that could be executed during unpickling. Arbitrary objects will no longer be allowed to be loaded via this mode unless they are explicitly allowlisted by the user via `torch.serialization.add_safe_globals`. We recommend you start setting `weights_only=True` for any use case where you don't have full control of the loaded file. Please open an issue on GitHub for any issues related to this experimental feature.\n",
      "  best_ckpt = torch.load(\"checkpointFiles/checkpointDownload2.pth\", map_location=config.device)\n"
     ]
    },
    {
     "name": "stdout",
     "output_type": "stream",
     "text": [
      "Epoch[53/150], Train Loss: 0.7480, Train Accuracy: 80.53%, Train F1: 78.15% | Valid Loss: 1.0780, Valid Accuracy: 47.92%, Valid F1: 28.74% | LR: 0.000099\n"
     ]
    },
    {
     "name": "stderr",
     "output_type": "stream",
     "text": [
      "C:\\Users\\mikai\\AppData\\Local\\Temp\\ipykernel_44772\\997093738.py:88: FutureWarning: You are using `torch.load` with `weights_only=False` (the current default value), which uses the default pickle module implicitly. It is possible to construct malicious pickle data which will execute arbitrary code during unpickling (See https://github.com/pytorch/pytorch/blob/main/SECURITY.md#untrusted-models for more details). In a future release, the default value for `weights_only` will be flipped to `True`. This limits the functions that could be executed during unpickling. Arbitrary objects will no longer be allowed to be loaded via this mode unless they are explicitly allowlisted by the user via `torch.serialization.add_safe_globals`. We recommend you start setting `weights_only=True` for any use case where you don't have full control of the loaded file. Please open an issue on GitHub for any issues related to this experimental feature.\n",
      "  best_ckpt = torch.load(\"checkpointFiles/checkpointDownload2.pth\", map_location=config.device)\n"
     ]
    },
    {
     "name": "stdout",
     "output_type": "stream",
     "text": [
      "Epoch[54/150], Train Loss: 0.9153, Train Accuracy: 70.80%, Train F1: 61.24% | Valid Loss: 0.8674, Valid Accuracy: 66.67%, Valid F1: 50.37% | LR: 0.000098\n"
     ]
    },
    {
     "name": "stderr",
     "output_type": "stream",
     "text": [
      "C:\\Users\\mikai\\AppData\\Local\\Temp\\ipykernel_44772\\997093738.py:88: FutureWarning: You are using `torch.load` with `weights_only=False` (the current default value), which uses the default pickle module implicitly. It is possible to construct malicious pickle data which will execute arbitrary code during unpickling (See https://github.com/pytorch/pytorch/blob/main/SECURITY.md#untrusted-models for more details). In a future release, the default value for `weights_only` will be flipped to `True`. This limits the functions that could be executed during unpickling. Arbitrary objects will no longer be allowed to be loaded via this mode unless they are explicitly allowlisted by the user via `torch.serialization.add_safe_globals`. We recommend you start setting `weights_only=True` for any use case where you don't have full control of the loaded file. Please open an issue on GitHub for any issues related to this experimental feature.\n",
      "  best_ckpt = torch.load(\"checkpointFiles/checkpointDownload2.pth\", map_location=config.device)\n"
     ]
    },
    {
     "name": "stdout",
     "output_type": "stream",
     "text": [
      "Epoch[55/150], Train Loss: 0.6072, Train Accuracy: 96.46%, Train F1: 96.59% | Valid Loss: 0.8026, Valid Accuracy: 70.83%, Valid F1: 63.34% | LR: 0.000098\n"
     ]
    },
    {
     "name": "stderr",
     "output_type": "stream",
     "text": [
      "C:\\Users\\mikai\\AppData\\Local\\Temp\\ipykernel_44772\\997093738.py:88: FutureWarning: You are using `torch.load` with `weights_only=False` (the current default value), which uses the default pickle module implicitly. It is possible to construct malicious pickle data which will execute arbitrary code during unpickling (See https://github.com/pytorch/pytorch/blob/main/SECURITY.md#untrusted-models for more details). In a future release, the default value for `weights_only` will be flipped to `True`. This limits the functions that could be executed during unpickling. Arbitrary objects will no longer be allowed to be loaded via this mode unless they are explicitly allowlisted by the user via `torch.serialization.add_safe_globals`. We recommend you start setting `weights_only=True` for any use case where you don't have full control of the loaded file. Please open an issue on GitHub for any issues related to this experimental feature.\n",
      "  best_ckpt = torch.load(\"checkpointFiles/checkpointDownload2.pth\", map_location=config.device)\n"
     ]
    },
    {
     "name": "stdout",
     "output_type": "stream",
     "text": [
      "Epoch[56/150], Train Loss: 0.5798, Train Accuracy: 99.12%, Train F1: 99.12% | Valid Loss: 0.8523, Valid Accuracy: 68.75%, Valid F1: 66.22% | LR: 0.000097\n"
     ]
    },
    {
     "name": "stderr",
     "output_type": "stream",
     "text": [
      "C:\\Users\\mikai\\AppData\\Local\\Temp\\ipykernel_44772\\997093738.py:88: FutureWarning: You are using `torch.load` with `weights_only=False` (the current default value), which uses the default pickle module implicitly. It is possible to construct malicious pickle data which will execute arbitrary code during unpickling (See https://github.com/pytorch/pytorch/blob/main/SECURITY.md#untrusted-models for more details). In a future release, the default value for `weights_only` will be flipped to `True`. This limits the functions that could be executed during unpickling. Arbitrary objects will no longer be allowed to be loaded via this mode unless they are explicitly allowlisted by the user via `torch.serialization.add_safe_globals`. We recommend you start setting `weights_only=True` for any use case where you don't have full control of the loaded file. Please open an issue on GitHub for any issues related to this experimental feature.\n",
      "  best_ckpt = torch.load(\"checkpointFiles/checkpointDownload2.pth\", map_location=config.device)\n"
     ]
    },
    {
     "name": "stdout",
     "output_type": "stream",
     "text": [
      "Epoch[57/150], Train Loss: 0.7900, Train Accuracy: 86.73%, Train F1: 85.20% | Valid Loss: 0.9015, Valid Accuracy: 64.58%, Valid F1: 57.61% | LR: 0.000097\n"
     ]
    },
    {
     "name": "stderr",
     "output_type": "stream",
     "text": [
      "C:\\Users\\mikai\\AppData\\Local\\Temp\\ipykernel_44772\\997093738.py:88: FutureWarning: You are using `torch.load` with `weights_only=False` (the current default value), which uses the default pickle module implicitly. It is possible to construct malicious pickle data which will execute arbitrary code during unpickling (See https://github.com/pytorch/pytorch/blob/main/SECURITY.md#untrusted-models for more details). In a future release, the default value for `weights_only` will be flipped to `True`. This limits the functions that could be executed during unpickling. Arbitrary objects will no longer be allowed to be loaded via this mode unless they are explicitly allowlisted by the user via `torch.serialization.add_safe_globals`. We recommend you start setting `weights_only=True` for any use case where you don't have full control of the loaded file. Please open an issue on GitHub for any issues related to this experimental feature.\n",
      "  best_ckpt = torch.load(\"checkpointFiles/checkpointDownload2.pth\", map_location=config.device)\n"
     ]
    },
    {
     "name": "stdout",
     "output_type": "stream",
     "text": [
      "Epoch[58/150], Train Loss: 0.6336, Train Accuracy: 92.92%, Train F1: 91.87% | Valid Loss: 0.9373, Valid Accuracy: 60.42%, Valid F1: 51.68% | LR: 0.000096\n"
     ]
    },
    {
     "name": "stderr",
     "output_type": "stream",
     "text": [
      "C:\\Users\\mikai\\AppData\\Local\\Temp\\ipykernel_44772\\997093738.py:88: FutureWarning: You are using `torch.load` with `weights_only=False` (the current default value), which uses the default pickle module implicitly. It is possible to construct malicious pickle data which will execute arbitrary code during unpickling (See https://github.com/pytorch/pytorch/blob/main/SECURITY.md#untrusted-models for more details). In a future release, the default value for `weights_only` will be flipped to `True`. This limits the functions that could be executed during unpickling. Arbitrary objects will no longer be allowed to be loaded via this mode unless they are explicitly allowlisted by the user via `torch.serialization.add_safe_globals`. We recommend you start setting `weights_only=True` for any use case where you don't have full control of the loaded file. Please open an issue on GitHub for any issues related to this experimental feature.\n",
      "  best_ckpt = torch.load(\"checkpointFiles/checkpointDownload2.pth\", map_location=config.device)\n"
     ]
    },
    {
     "name": "stdout",
     "output_type": "stream",
     "text": [
      "Epoch[59/150], Train Loss: 0.6841, Train Accuracy: 84.96%, Train F1: 81.92% | Valid Loss: 0.9295, Valid Accuracy: 62.50%, Valid F1: 51.65% | LR: 0.000096\n"
     ]
    },
    {
     "name": "stderr",
     "output_type": "stream",
     "text": [
      "C:\\Users\\mikai\\AppData\\Local\\Temp\\ipykernel_44772\\997093738.py:88: FutureWarning: You are using `torch.load` with `weights_only=False` (the current default value), which uses the default pickle module implicitly. It is possible to construct malicious pickle data which will execute arbitrary code during unpickling (See https://github.com/pytorch/pytorch/blob/main/SECURITY.md#untrusted-models for more details). In a future release, the default value for `weights_only` will be flipped to `True`. This limits the functions that could be executed during unpickling. Arbitrary objects will no longer be allowed to be loaded via this mode unless they are explicitly allowlisted by the user via `torch.serialization.add_safe_globals`. We recommend you start setting `weights_only=True` for any use case where you don't have full control of the loaded file. Please open an issue on GitHub for any issues related to this experimental feature.\n",
      "  best_ckpt = torch.load(\"checkpointFiles/checkpointDownload2.pth\", map_location=config.device)\n"
     ]
    },
    {
     "name": "stdout",
     "output_type": "stream",
     "text": [
      "Epoch[60/150], Train Loss: 0.6229, Train Accuracy: 92.04%, Train F1: 90.64% | Valid Loss: 0.9369, Valid Accuracy: 60.42%, Valid F1: 51.68% | LR: 0.000095\n"
     ]
    },
    {
     "name": "stderr",
     "output_type": "stream",
     "text": [
      "C:\\Users\\mikai\\AppData\\Local\\Temp\\ipykernel_44772\\997093738.py:88: FutureWarning: You are using `torch.load` with `weights_only=False` (the current default value), which uses the default pickle module implicitly. It is possible to construct malicious pickle data which will execute arbitrary code during unpickling (See https://github.com/pytorch/pytorch/blob/main/SECURITY.md#untrusted-models for more details). In a future release, the default value for `weights_only` will be flipped to `True`. This limits the functions that could be executed during unpickling. Arbitrary objects will no longer be allowed to be loaded via this mode unless they are explicitly allowlisted by the user via `torch.serialization.add_safe_globals`. We recommend you start setting `weights_only=True` for any use case where you don't have full control of the loaded file. Please open an issue on GitHub for any issues related to this experimental feature.\n",
      "  best_ckpt = torch.load(\"checkpointFiles/checkpointDownload2.pth\", map_location=config.device)\n"
     ]
    },
    {
     "name": "stdout",
     "output_type": "stream",
     "text": [
      "Epoch[61/150], Train Loss: 0.6077, Train Accuracy: 93.81%, Train F1: 92.59% | Valid Loss: 0.9155, Valid Accuracy: 62.50%, Valid F1: 55.42% | LR: 0.000094\n"
     ]
    },
    {
     "name": "stderr",
     "output_type": "stream",
     "text": [
      "C:\\Users\\mikai\\AppData\\Local\\Temp\\ipykernel_44772\\997093738.py:88: FutureWarning: You are using `torch.load` with `weights_only=False` (the current default value), which uses the default pickle module implicitly. It is possible to construct malicious pickle data which will execute arbitrary code during unpickling (See https://github.com/pytorch/pytorch/blob/main/SECURITY.md#untrusted-models for more details). In a future release, the default value for `weights_only` will be flipped to `True`. This limits the functions that could be executed during unpickling. Arbitrary objects will no longer be allowed to be loaded via this mode unless they are explicitly allowlisted by the user via `torch.serialization.add_safe_globals`. We recommend you start setting `weights_only=True` for any use case where you don't have full control of the loaded file. Please open an issue on GitHub for any issues related to this experimental feature.\n",
      "  best_ckpt = torch.load(\"checkpointFiles/checkpointDownload2.pth\", map_location=config.device)\n"
     ]
    },
    {
     "name": "stdout",
     "output_type": "stream",
     "text": [
      "Epoch[62/150], Train Loss: 0.6651, Train Accuracy: 96.46%, Train F1: 95.77% | Valid Loss: 1.1070, Valid Accuracy: 43.75%, Valid F1: 32.36% | LR: 0.000094\n"
     ]
    },
    {
     "name": "stderr",
     "output_type": "stream",
     "text": [
      "C:\\Users\\mikai\\AppData\\Local\\Temp\\ipykernel_44772\\997093738.py:88: FutureWarning: You are using `torch.load` with `weights_only=False` (the current default value), which uses the default pickle module implicitly. It is possible to construct malicious pickle data which will execute arbitrary code during unpickling (See https://github.com/pytorch/pytorch/blob/main/SECURITY.md#untrusted-models for more details). In a future release, the default value for `weights_only` will be flipped to `True`. This limits the functions that could be executed during unpickling. Arbitrary objects will no longer be allowed to be loaded via this mode unless they are explicitly allowlisted by the user via `torch.serialization.add_safe_globals`. We recommend you start setting `weights_only=True` for any use case where you don't have full control of the loaded file. Please open an issue on GitHub for any issues related to this experimental feature.\n",
      "  best_ckpt = torch.load(\"checkpointFiles/checkpointDownload2.pth\", map_location=config.device)\n"
     ]
    },
    {
     "name": "stdout",
     "output_type": "stream",
     "text": [
      "Epoch[63/150], Train Loss: 1.1085, Train Accuracy: 36.28%, Train F1: 30.46% | Valid Loss: 1.2389, Valid Accuracy: 31.25%, Valid F1: 15.87% | LR: 0.000093\n"
     ]
    },
    {
     "name": "stderr",
     "output_type": "stream",
     "text": [
      "C:\\Users\\mikai\\AppData\\Local\\Temp\\ipykernel_44772\\997093738.py:88: FutureWarning: You are using `torch.load` with `weights_only=False` (the current default value), which uses the default pickle module implicitly. It is possible to construct malicious pickle data which will execute arbitrary code during unpickling (See https://github.com/pytorch/pytorch/blob/main/SECURITY.md#untrusted-models for more details). In a future release, the default value for `weights_only` will be flipped to `True`. This limits the functions that could be executed during unpickling. Arbitrary objects will no longer be allowed to be loaded via this mode unless they are explicitly allowlisted by the user via `torch.serialization.add_safe_globals`. We recommend you start setting `weights_only=True` for any use case where you don't have full control of the loaded file. Please open an issue on GitHub for any issues related to this experimental feature.\n",
      "  best_ckpt = torch.load(\"checkpointFiles/checkpointDownload2.pth\", map_location=config.device)\n"
     ]
    },
    {
     "name": "stdout",
     "output_type": "stream",
     "text": [
      "Epoch[64/150], Train Loss: 0.6330, Train Accuracy: 91.15%, Train F1: 89.13% | Valid Loss: 0.8110, Valid Accuracy: 72.92%, Valid F1: 70.43% | LR: 0.000092\n"
     ]
    },
    {
     "name": "stderr",
     "output_type": "stream",
     "text": [
      "C:\\Users\\mikai\\AppData\\Local\\Temp\\ipykernel_44772\\997093738.py:88: FutureWarning: You are using `torch.load` with `weights_only=False` (the current default value), which uses the default pickle module implicitly. It is possible to construct malicious pickle data which will execute arbitrary code during unpickling (See https://github.com/pytorch/pytorch/blob/main/SECURITY.md#untrusted-models for more details). In a future release, the default value for `weights_only` will be flipped to `True`. This limits the functions that could be executed during unpickling. Arbitrary objects will no longer be allowed to be loaded via this mode unless they are explicitly allowlisted by the user via `torch.serialization.add_safe_globals`. We recommend you start setting `weights_only=True` for any use case where you don't have full control of the loaded file. Please open an issue on GitHub for any issues related to this experimental feature.\n",
      "  best_ckpt = torch.load(\"checkpointFiles/checkpointDownload2.pth\", map_location=config.device)\n"
     ]
    },
    {
     "name": "stdout",
     "output_type": "stream",
     "text": [
      "Epoch[65/150], Train Loss: 0.6139, Train Accuracy: 95.58%, Train F1: 94.97% | Valid Loss: 0.8823, Valid Accuracy: 64.58%, Valid F1: 62.68% | LR: 0.000091\n"
     ]
    },
    {
     "name": "stderr",
     "output_type": "stream",
     "text": [
      "C:\\Users\\mikai\\AppData\\Local\\Temp\\ipykernel_44772\\997093738.py:88: FutureWarning: You are using `torch.load` with `weights_only=False` (the current default value), which uses the default pickle module implicitly. It is possible to construct malicious pickle data which will execute arbitrary code during unpickling (See https://github.com/pytorch/pytorch/blob/main/SECURITY.md#untrusted-models for more details). In a future release, the default value for `weights_only` will be flipped to `True`. This limits the functions that could be executed during unpickling. Arbitrary objects will no longer be allowed to be loaded via this mode unless they are explicitly allowlisted by the user via `torch.serialization.add_safe_globals`. We recommend you start setting `weights_only=True` for any use case where you don't have full control of the loaded file. Please open an issue on GitHub for any issues related to this experimental feature.\n",
      "  best_ckpt = torch.load(\"checkpointFiles/checkpointDownload2.pth\", map_location=config.device)\n"
     ]
    },
    {
     "name": "stdout",
     "output_type": "stream",
     "text": [
      "Epoch[66/150], Train Loss: 0.5939, Train Accuracy: 98.23%, Train F1: 98.03% | Valid Loss: 0.8134, Valid Accuracy: 70.83%, Valid F1: 61.43% | LR: 0.000090\n"
     ]
    },
    {
     "name": "stderr",
     "output_type": "stream",
     "text": [
      "C:\\Users\\mikai\\AppData\\Local\\Temp\\ipykernel_44772\\997093738.py:88: FutureWarning: You are using `torch.load` with `weights_only=False` (the current default value), which uses the default pickle module implicitly. It is possible to construct malicious pickle data which will execute arbitrary code during unpickling (See https://github.com/pytorch/pytorch/blob/main/SECURITY.md#untrusted-models for more details). In a future release, the default value for `weights_only` will be flipped to `True`. This limits the functions that could be executed during unpickling. Arbitrary objects will no longer be allowed to be loaded via this mode unless they are explicitly allowlisted by the user via `torch.serialization.add_safe_globals`. We recommend you start setting `weights_only=True` for any use case where you don't have full control of the loaded file. Please open an issue on GitHub for any issues related to this experimental feature.\n",
      "  best_ckpt = torch.load(\"checkpointFiles/checkpointDownload2.pth\", map_location=config.device)\n"
     ]
    },
    {
     "name": "stdout",
     "output_type": "stream",
     "text": [
      "Epoch[67/150], Train Loss: 0.5877, Train Accuracy: 98.23%, Train F1: 98.01% | Valid Loss: 0.8211, Valid Accuracy: 72.92%, Valid F1: 70.60% | LR: 0.000089\n"
     ]
    },
    {
     "name": "stderr",
     "output_type": "stream",
     "text": [
      "C:\\Users\\mikai\\AppData\\Local\\Temp\\ipykernel_44772\\997093738.py:88: FutureWarning: You are using `torch.load` with `weights_only=False` (the current default value), which uses the default pickle module implicitly. It is possible to construct malicious pickle data which will execute arbitrary code during unpickling (See https://github.com/pytorch/pytorch/blob/main/SECURITY.md#untrusted-models for more details). In a future release, the default value for `weights_only` will be flipped to `True`. This limits the functions that could be executed during unpickling. Arbitrary objects will no longer be allowed to be loaded via this mode unless they are explicitly allowlisted by the user via `torch.serialization.add_safe_globals`. We recommend you start setting `weights_only=True` for any use case where you don't have full control of the loaded file. Please open an issue on GitHub for any issues related to this experimental feature.\n",
      "  best_ckpt = torch.load(\"checkpointFiles/checkpointDownload2.pth\", map_location=config.device)\n"
     ]
    },
    {
     "name": "stdout",
     "output_type": "stream",
     "text": [
      "Epoch[68/150], Train Loss: 0.5863, Train Accuracy: 98.23%, Train F1: 98.01% | Valid Loss: 0.8174, Valid Accuracy: 70.83%, Valid F1: 69.65% | LR: 0.000089\n"
     ]
    },
    {
     "name": "stderr",
     "output_type": "stream",
     "text": [
      "C:\\Users\\mikai\\AppData\\Local\\Temp\\ipykernel_44772\\997093738.py:88: FutureWarning: You are using `torch.load` with `weights_only=False` (the current default value), which uses the default pickle module implicitly. It is possible to construct malicious pickle data which will execute arbitrary code during unpickling (See https://github.com/pytorch/pytorch/blob/main/SECURITY.md#untrusted-models for more details). In a future release, the default value for `weights_only` will be flipped to `True`. This limits the functions that could be executed during unpickling. Arbitrary objects will no longer be allowed to be loaded via this mode unless they are explicitly allowlisted by the user via `torch.serialization.add_safe_globals`. We recommend you start setting `weights_only=True` for any use case where you don't have full control of the loaded file. Please open an issue on GitHub for any issues related to this experimental feature.\n",
      "  best_ckpt = torch.load(\"checkpointFiles/checkpointDownload2.pth\", map_location=config.device)\n"
     ]
    },
    {
     "name": "stdout",
     "output_type": "stream",
     "text": [
      "Epoch[69/150], Train Loss: 0.5813, Train Accuracy: 98.23%, Train F1: 98.01% | Valid Loss: 0.8619, Valid Accuracy: 66.67%, Valid F1: 61.40% | LR: 0.000088\n"
     ]
    },
    {
     "name": "stderr",
     "output_type": "stream",
     "text": [
      "C:\\Users\\mikai\\AppData\\Local\\Temp\\ipykernel_44772\\997093738.py:88: FutureWarning: You are using `torch.load` with `weights_only=False` (the current default value), which uses the default pickle module implicitly. It is possible to construct malicious pickle data which will execute arbitrary code during unpickling (See https://github.com/pytorch/pytorch/blob/main/SECURITY.md#untrusted-models for more details). In a future release, the default value for `weights_only` will be flipped to `True`. This limits the functions that could be executed during unpickling. Arbitrary objects will no longer be allowed to be loaded via this mode unless they are explicitly allowlisted by the user via `torch.serialization.add_safe_globals`. We recommend you start setting `weights_only=True` for any use case where you don't have full control of the loaded file. Please open an issue on GitHub for any issues related to this experimental feature.\n",
      "  best_ckpt = torch.load(\"checkpointFiles/checkpointDownload2.pth\", map_location=config.device)\n"
     ]
    },
    {
     "name": "stdout",
     "output_type": "stream",
     "text": [
      "Epoch[70/150], Train Loss: 0.6147, Train Accuracy: 95.58%, Train F1: 95.11% | Valid Loss: 0.9390, Valid Accuracy: 62.50%, Valid F1: 52.99% | LR: 0.000087\n"
     ]
    },
    {
     "name": "stderr",
     "output_type": "stream",
     "text": [
      "C:\\Users\\mikai\\AppData\\Local\\Temp\\ipykernel_44772\\997093738.py:88: FutureWarning: You are using `torch.load` with `weights_only=False` (the current default value), which uses the default pickle module implicitly. It is possible to construct malicious pickle data which will execute arbitrary code during unpickling (See https://github.com/pytorch/pytorch/blob/main/SECURITY.md#untrusted-models for more details). In a future release, the default value for `weights_only` will be flipped to `True`. This limits the functions that could be executed during unpickling. Arbitrary objects will no longer be allowed to be loaded via this mode unless they are explicitly allowlisted by the user via `torch.serialization.add_safe_globals`. We recommend you start setting `weights_only=True` for any use case where you don't have full control of the loaded file. Please open an issue on GitHub for any issues related to this experimental feature.\n",
      "  best_ckpt = torch.load(\"checkpointFiles/checkpointDownload2.pth\", map_location=config.device)\n"
     ]
    },
    {
     "name": "stdout",
     "output_type": "stream",
     "text": [
      "Epoch[71/150], Train Loss: 0.5944, Train Accuracy: 96.46%, Train F1: 96.28% | Valid Loss: 0.8080, Valid Accuracy: 72.92%, Valid F1: 66.76% | LR: 0.000085\n"
     ]
    },
    {
     "name": "stderr",
     "output_type": "stream",
     "text": [
      "C:\\Users\\mikai\\AppData\\Local\\Temp\\ipykernel_44772\\997093738.py:88: FutureWarning: You are using `torch.load` with `weights_only=False` (the current default value), which uses the default pickle module implicitly. It is possible to construct malicious pickle data which will execute arbitrary code during unpickling (See https://github.com/pytorch/pytorch/blob/main/SECURITY.md#untrusted-models for more details). In a future release, the default value for `weights_only` will be flipped to `True`. This limits the functions that could be executed during unpickling. Arbitrary objects will no longer be allowed to be loaded via this mode unless they are explicitly allowlisted by the user via `torch.serialization.add_safe_globals`. We recommend you start setting `weights_only=True` for any use case where you don't have full control of the loaded file. Please open an issue on GitHub for any issues related to this experimental feature.\n",
      "  best_ckpt = torch.load(\"checkpointFiles/checkpointDownload2.pth\", map_location=config.device)\n"
     ]
    },
    {
     "name": "stdout",
     "output_type": "stream",
     "text": [
      "Epoch[72/150], Train Loss: 0.5790, Train Accuracy: 98.23%, Train F1: 98.01% | Valid Loss: 0.8352, Valid Accuracy: 68.75%, Valid F1: 67.08% | LR: 0.000084\n"
     ]
    },
    {
     "name": "stderr",
     "output_type": "stream",
     "text": [
      "C:\\Users\\mikai\\AppData\\Local\\Temp\\ipykernel_44772\\997093738.py:88: FutureWarning: You are using `torch.load` with `weights_only=False` (the current default value), which uses the default pickle module implicitly. It is possible to construct malicious pickle data which will execute arbitrary code during unpickling (See https://github.com/pytorch/pytorch/blob/main/SECURITY.md#untrusted-models for more details). In a future release, the default value for `weights_only` will be flipped to `True`. This limits the functions that could be executed during unpickling. Arbitrary objects will no longer be allowed to be loaded via this mode unless they are explicitly allowlisted by the user via `torch.serialization.add_safe_globals`. We recommend you start setting `weights_only=True` for any use case where you don't have full control of the loaded file. Please open an issue on GitHub for any issues related to this experimental feature.\n",
      "  best_ckpt = torch.load(\"checkpointFiles/checkpointDownload2.pth\", map_location=config.device)\n"
     ]
    },
    {
     "name": "stdout",
     "output_type": "stream",
     "text": [
      "Epoch[73/150], Train Loss: 0.6002, Train Accuracy: 96.46%, Train F1: 96.04% | Valid Loss: 0.8013, Valid Accuracy: 75.00%, Valid F1: 67.43% | LR: 0.000083\n"
     ]
    },
    {
     "name": "stderr",
     "output_type": "stream",
     "text": [
      "C:\\Users\\mikai\\AppData\\Local\\Temp\\ipykernel_44772\\997093738.py:88: FutureWarning: You are using `torch.load` with `weights_only=False` (the current default value), which uses the default pickle module implicitly. It is possible to construct malicious pickle data which will execute arbitrary code during unpickling (See https://github.com/pytorch/pytorch/blob/main/SECURITY.md#untrusted-models for more details). In a future release, the default value for `weights_only` will be flipped to `True`. This limits the functions that could be executed during unpickling. Arbitrary objects will no longer be allowed to be loaded via this mode unless they are explicitly allowlisted by the user via `torch.serialization.add_safe_globals`. We recommend you start setting `weights_only=True` for any use case where you don't have full control of the loaded file. Please open an issue on GitHub for any issues related to this experimental feature.\n",
      "  best_ckpt = torch.load(\"checkpointFiles/checkpointDownload2.pth\", map_location=config.device)\n"
     ]
    },
    {
     "name": "stdout",
     "output_type": "stream",
     "text": [
      "Epoch[74/150], Train Loss: 0.5921, Train Accuracy: 99.12%, Train F1: 99.14% | Valid Loss: 0.9111, Valid Accuracy: 64.58%, Valid F1: 58.02% | LR: 0.000082\n"
     ]
    },
    {
     "name": "stderr",
     "output_type": "stream",
     "text": [
      "C:\\Users\\mikai\\AppData\\Local\\Temp\\ipykernel_44772\\997093738.py:88: FutureWarning: You are using `torch.load` with `weights_only=False` (the current default value), which uses the default pickle module implicitly. It is possible to construct malicious pickle data which will execute arbitrary code during unpickling (See https://github.com/pytorch/pytorch/blob/main/SECURITY.md#untrusted-models for more details). In a future release, the default value for `weights_only` will be flipped to `True`. This limits the functions that could be executed during unpickling. Arbitrary objects will no longer be allowed to be loaded via this mode unless they are explicitly allowlisted by the user via `torch.serialization.add_safe_globals`. We recommend you start setting `weights_only=True` for any use case where you don't have full control of the loaded file. Please open an issue on GitHub for any issues related to this experimental feature.\n",
      "  best_ckpt = torch.load(\"checkpointFiles/checkpointDownload2.pth\", map_location=config.device)\n"
     ]
    },
    {
     "name": "stdout",
     "output_type": "stream",
     "text": [
      "Epoch[75/150], Train Loss: 0.6146, Train Accuracy: 93.81%, Train F1: 92.42% | Valid Loss: 0.9276, Valid Accuracy: 58.33%, Valid F1: 47.44% | LR: 0.000081\n"
     ]
    },
    {
     "name": "stderr",
     "output_type": "stream",
     "text": [
      "C:\\Users\\mikai\\AppData\\Local\\Temp\\ipykernel_44772\\997093738.py:88: FutureWarning: You are using `torch.load` with `weights_only=False` (the current default value), which uses the default pickle module implicitly. It is possible to construct malicious pickle data which will execute arbitrary code during unpickling (See https://github.com/pytorch/pytorch/blob/main/SECURITY.md#untrusted-models for more details). In a future release, the default value for `weights_only` will be flipped to `True`. This limits the functions that could be executed during unpickling. Arbitrary objects will no longer be allowed to be loaded via this mode unless they are explicitly allowlisted by the user via `torch.serialization.add_safe_globals`. We recommend you start setting `weights_only=True` for any use case where you don't have full control of the loaded file. Please open an issue on GitHub for any issues related to this experimental feature.\n",
      "  best_ckpt = torch.load(\"checkpointFiles/checkpointDownload2.pth\", map_location=config.device)\n"
     ]
    },
    {
     "name": "stdout",
     "output_type": "stream",
     "text": [
      "Epoch[76/150], Train Loss: 0.7326, Train Accuracy: 94.69%, Train F1: 94.11% | Valid Loss: 0.7974, Valid Accuracy: 75.00%, Valid F1: 68.83% | LR: 0.000080\n"
     ]
    },
    {
     "name": "stderr",
     "output_type": "stream",
     "text": [
      "C:\\Users\\mikai\\AppData\\Local\\Temp\\ipykernel_44772\\997093738.py:88: FutureWarning: You are using `torch.load` with `weights_only=False` (the current default value), which uses the default pickle module implicitly. It is possible to construct malicious pickle data which will execute arbitrary code during unpickling (See https://github.com/pytorch/pytorch/blob/main/SECURITY.md#untrusted-models for more details). In a future release, the default value for `weights_only` will be flipped to `True`. This limits the functions that could be executed during unpickling. Arbitrary objects will no longer be allowed to be loaded via this mode unless they are explicitly allowlisted by the user via `torch.serialization.add_safe_globals`. We recommend you start setting `weights_only=True` for any use case where you don't have full control of the loaded file. Please open an issue on GitHub for any issues related to this experimental feature.\n",
      "  best_ckpt = torch.load(\"checkpointFiles/checkpointDownload2.pth\", map_location=config.device)\n"
     ]
    },
    {
     "name": "stdout",
     "output_type": "stream",
     "text": [
      "Epoch[77/150], Train Loss: 0.6083, Train Accuracy: 96.46%, Train F1: 95.78% | Valid Loss: 0.7940, Valid Accuracy: 75.00%, Valid F1: 69.23% | LR: 0.000079\n"
     ]
    },
    {
     "name": "stderr",
     "output_type": "stream",
     "text": [
      "C:\\Users\\mikai\\AppData\\Local\\Temp\\ipykernel_44772\\997093738.py:88: FutureWarning: You are using `torch.load` with `weights_only=False` (the current default value), which uses the default pickle module implicitly. It is possible to construct malicious pickle data which will execute arbitrary code during unpickling (See https://github.com/pytorch/pytorch/blob/main/SECURITY.md#untrusted-models for more details). In a future release, the default value for `weights_only` will be flipped to `True`. This limits the functions that could be executed during unpickling. Arbitrary objects will no longer be allowed to be loaded via this mode unless they are explicitly allowlisted by the user via `torch.serialization.add_safe_globals`. We recommend you start setting `weights_only=True` for any use case where you don't have full control of the loaded file. Please open an issue on GitHub for any issues related to this experimental feature.\n",
      "  best_ckpt = torch.load(\"checkpointFiles/checkpointDownload2.pth\", map_location=config.device)\n"
     ]
    },
    {
     "name": "stdout",
     "output_type": "stream",
     "text": [
      "Epoch[78/150], Train Loss: 0.5950, Train Accuracy: 98.23%, Train F1: 97.74% | Valid Loss: 0.8209, Valid Accuracy: 70.83%, Valid F1: 69.65% | LR: 0.000077\n"
     ]
    },
    {
     "name": "stderr",
     "output_type": "stream",
     "text": [
      "C:\\Users\\mikai\\AppData\\Local\\Temp\\ipykernel_44772\\997093738.py:88: FutureWarning: You are using `torch.load` with `weights_only=False` (the current default value), which uses the default pickle module implicitly. It is possible to construct malicious pickle data which will execute arbitrary code during unpickling (See https://github.com/pytorch/pytorch/blob/main/SECURITY.md#untrusted-models for more details). In a future release, the default value for `weights_only` will be flipped to `True`. This limits the functions that could be executed during unpickling. Arbitrary objects will no longer be allowed to be loaded via this mode unless they are explicitly allowlisted by the user via `torch.serialization.add_safe_globals`. We recommend you start setting `weights_only=True` for any use case where you don't have full control of the loaded file. Please open an issue on GitHub for any issues related to this experimental feature.\n",
      "  best_ckpt = torch.load(\"checkpointFiles/checkpointDownload2.pth\", map_location=config.device)\n"
     ]
    },
    {
     "name": "stdout",
     "output_type": "stream",
     "text": [
      "Epoch[79/150], Train Loss: 0.5940, Train Accuracy: 96.46%, Train F1: 96.07% | Valid Loss: 0.8382, Valid Accuracy: 68.75%, Valid F1: 56.75% | LR: 0.000076\n"
     ]
    },
    {
     "name": "stderr",
     "output_type": "stream",
     "text": [
      "C:\\Users\\mikai\\AppData\\Local\\Temp\\ipykernel_44772\\997093738.py:88: FutureWarning: You are using `torch.load` with `weights_only=False` (the current default value), which uses the default pickle module implicitly. It is possible to construct malicious pickle data which will execute arbitrary code during unpickling (See https://github.com/pytorch/pytorch/blob/main/SECURITY.md#untrusted-models for more details). In a future release, the default value for `weights_only` will be flipped to `True`. This limits the functions that could be executed during unpickling. Arbitrary objects will no longer be allowed to be loaded via this mode unless they are explicitly allowlisted by the user via `torch.serialization.add_safe_globals`. We recommend you start setting `weights_only=True` for any use case where you don't have full control of the loaded file. Please open an issue on GitHub for any issues related to this experimental feature.\n",
      "  best_ckpt = torch.load(\"checkpointFiles/checkpointDownload2.pth\", map_location=config.device)\n"
     ]
    },
    {
     "name": "stdout",
     "output_type": "stream",
     "text": [
      "Epoch[80/150], Train Loss: 0.5905, Train Accuracy: 98.23%, Train F1: 98.01% | Valid Loss: 0.8341, Valid Accuracy: 70.83%, Valid F1: 69.65% | LR: 0.000075\n"
     ]
    },
    {
     "name": "stderr",
     "output_type": "stream",
     "text": [
      "C:\\Users\\mikai\\AppData\\Local\\Temp\\ipykernel_44772\\997093738.py:88: FutureWarning: You are using `torch.load` with `weights_only=False` (the current default value), which uses the default pickle module implicitly. It is possible to construct malicious pickle data which will execute arbitrary code during unpickling (See https://github.com/pytorch/pytorch/blob/main/SECURITY.md#untrusted-models for more details). In a future release, the default value for `weights_only` will be flipped to `True`. This limits the functions that could be executed during unpickling. Arbitrary objects will no longer be allowed to be loaded via this mode unless they are explicitly allowlisted by the user via `torch.serialization.add_safe_globals`. We recommend you start setting `weights_only=True` for any use case where you don't have full control of the loaded file. Please open an issue on GitHub for any issues related to this experimental feature.\n",
      "  best_ckpt = torch.load(\"checkpointFiles/checkpointDownload2.pth\", map_location=config.device)\n"
     ]
    },
    {
     "name": "stdout",
     "output_type": "stream",
     "text": [
      "Epoch[81/150], Train Loss: 0.6167, Train Accuracy: 93.81%, Train F1: 92.74% | Valid Loss: 0.8054, Valid Accuracy: 75.00%, Valid F1: 69.58% | LR: 0.000074\n"
     ]
    },
    {
     "name": "stderr",
     "output_type": "stream",
     "text": [
      "C:\\Users\\mikai\\AppData\\Local\\Temp\\ipykernel_44772\\997093738.py:88: FutureWarning: You are using `torch.load` with `weights_only=False` (the current default value), which uses the default pickle module implicitly. It is possible to construct malicious pickle data which will execute arbitrary code during unpickling (See https://github.com/pytorch/pytorch/blob/main/SECURITY.md#untrusted-models for more details). In a future release, the default value for `weights_only` will be flipped to `True`. This limits the functions that could be executed during unpickling. Arbitrary objects will no longer be allowed to be loaded via this mode unless they are explicitly allowlisted by the user via `torch.serialization.add_safe_globals`. We recommend you start setting `weights_only=True` for any use case where you don't have full control of the loaded file. Please open an issue on GitHub for any issues related to this experimental feature.\n",
      "  best_ckpt = torch.load(\"checkpointFiles/checkpointDownload2.pth\", map_location=config.device)\n"
     ]
    },
    {
     "name": "stdout",
     "output_type": "stream",
     "text": [
      "Epoch[82/150], Train Loss: 0.5832, Train Accuracy: 99.12%, Train F1: 99.14% | Valid Loss: 0.8078, Valid Accuracy: 70.83%, Valid F1: 67.34% | LR: 0.000072\n"
     ]
    },
    {
     "name": "stderr",
     "output_type": "stream",
     "text": [
      "C:\\Users\\mikai\\AppData\\Local\\Temp\\ipykernel_44772\\997093738.py:88: FutureWarning: You are using `torch.load` with `weights_only=False` (the current default value), which uses the default pickle module implicitly. It is possible to construct malicious pickle data which will execute arbitrary code during unpickling (See https://github.com/pytorch/pytorch/blob/main/SECURITY.md#untrusted-models for more details). In a future release, the default value for `weights_only` will be flipped to `True`. This limits the functions that could be executed during unpickling. Arbitrary objects will no longer be allowed to be loaded via this mode unless they are explicitly allowlisted by the user via `torch.serialization.add_safe_globals`. We recommend you start setting `weights_only=True` for any use case where you don't have full control of the loaded file. Please open an issue on GitHub for any issues related to this experimental feature.\n",
      "  best_ckpt = torch.load(\"checkpointFiles/checkpointDownload2.pth\", map_location=config.device)\n"
     ]
    },
    {
     "name": "stdout",
     "output_type": "stream",
     "text": [
      "Epoch[83/150], Train Loss: 0.5920, Train Accuracy: 97.35%, Train F1: 96.90% | Valid Loss: 0.7953, Valid Accuracy: 77.08%, Valid F1: 71.29% | LR: 0.000071\n"
     ]
    },
    {
     "name": "stderr",
     "output_type": "stream",
     "text": [
      "C:\\Users\\mikai\\AppData\\Local\\Temp\\ipykernel_44772\\997093738.py:88: FutureWarning: You are using `torch.load` with `weights_only=False` (the current default value), which uses the default pickle module implicitly. It is possible to construct malicious pickle data which will execute arbitrary code during unpickling (See https://github.com/pytorch/pytorch/blob/main/SECURITY.md#untrusted-models for more details). In a future release, the default value for `weights_only` will be flipped to `True`. This limits the functions that could be executed during unpickling. Arbitrary objects will no longer be allowed to be loaded via this mode unless they are explicitly allowlisted by the user via `torch.serialization.add_safe_globals`. We recommend you start setting `weights_only=True` for any use case where you don't have full control of the loaded file. Please open an issue on GitHub for any issues related to this experimental feature.\n",
      "  best_ckpt = torch.load(\"checkpointFiles/checkpointDownload2.pth\", map_location=config.device)\n"
     ]
    },
    {
     "name": "stdout",
     "output_type": "stream",
     "text": [
      "Epoch[84/150], Train Loss: 0.6040, Train Accuracy: 96.46%, Train F1: 95.97% | Valid Loss: 0.8408, Valid Accuracy: 68.75%, Valid F1: 66.94% | LR: 0.000069\n"
     ]
    },
    {
     "name": "stderr",
     "output_type": "stream",
     "text": [
      "C:\\Users\\mikai\\AppData\\Local\\Temp\\ipykernel_44772\\997093738.py:88: FutureWarning: You are using `torch.load` with `weights_only=False` (the current default value), which uses the default pickle module implicitly. It is possible to construct malicious pickle data which will execute arbitrary code during unpickling (See https://github.com/pytorch/pytorch/blob/main/SECURITY.md#untrusted-models for more details). In a future release, the default value for `weights_only` will be flipped to `True`. This limits the functions that could be executed during unpickling. Arbitrary objects will no longer be allowed to be loaded via this mode unless they are explicitly allowlisted by the user via `torch.serialization.add_safe_globals`. We recommend you start setting `weights_only=True` for any use case where you don't have full control of the loaded file. Please open an issue on GitHub for any issues related to this experimental feature.\n",
      "  best_ckpt = torch.load(\"checkpointFiles/checkpointDownload2.pth\", map_location=config.device)\n"
     ]
    },
    {
     "name": "stdout",
     "output_type": "stream",
     "text": [
      "Epoch[85/150], Train Loss: 0.5912, Train Accuracy: 97.35%, Train F1: 96.91% | Valid Loss: 0.8332, Valid Accuracy: 70.83%, Valid F1: 61.53% | LR: 0.000068\n"
     ]
    },
    {
     "name": "stderr",
     "output_type": "stream",
     "text": [
      "C:\\Users\\mikai\\AppData\\Local\\Temp\\ipykernel_44772\\997093738.py:88: FutureWarning: You are using `torch.load` with `weights_only=False` (the current default value), which uses the default pickle module implicitly. It is possible to construct malicious pickle data which will execute arbitrary code during unpickling (See https://github.com/pytorch/pytorch/blob/main/SECURITY.md#untrusted-models for more details). In a future release, the default value for `weights_only` will be flipped to `True`. This limits the functions that could be executed during unpickling. Arbitrary objects will no longer be allowed to be loaded via this mode unless they are explicitly allowlisted by the user via `torch.serialization.add_safe_globals`. We recommend you start setting `weights_only=True` for any use case where you don't have full control of the loaded file. Please open an issue on GitHub for any issues related to this experimental feature.\n",
      "  best_ckpt = torch.load(\"checkpointFiles/checkpointDownload2.pth\", map_location=config.device)\n"
     ]
    },
    {
     "name": "stdout",
     "output_type": "stream",
     "text": [
      "Epoch[86/150], Train Loss: 0.5893, Train Accuracy: 98.23%, Train F1: 97.99% | Valid Loss: 0.8298, Valid Accuracy: 66.67%, Valid F1: 62.95% | LR: 0.000067\n"
     ]
    },
    {
     "name": "stderr",
     "output_type": "stream",
     "text": [
      "C:\\Users\\mikai\\AppData\\Local\\Temp\\ipykernel_44772\\997093738.py:88: FutureWarning: You are using `torch.load` with `weights_only=False` (the current default value), which uses the default pickle module implicitly. It is possible to construct malicious pickle data which will execute arbitrary code during unpickling (See https://github.com/pytorch/pytorch/blob/main/SECURITY.md#untrusted-models for more details). In a future release, the default value for `weights_only` will be flipped to `True`. This limits the functions that could be executed during unpickling. Arbitrary objects will no longer be allowed to be loaded via this mode unless they are explicitly allowlisted by the user via `torch.serialization.add_safe_globals`. We recommend you start setting `weights_only=True` for any use case where you don't have full control of the loaded file. Please open an issue on GitHub for any issues related to this experimental feature.\n",
      "  best_ckpt = torch.load(\"checkpointFiles/checkpointDownload2.pth\", map_location=config.device)\n"
     ]
    },
    {
     "name": "stdout",
     "output_type": "stream",
     "text": [
      "Epoch[87/150], Train Loss: 0.5897, Train Accuracy: 99.12%, Train F1: 99.14% | Valid Loss: 0.8211, Valid Accuracy: 70.83%, Valid F1: 65.83% | LR: 0.000065\n"
     ]
    },
    {
     "name": "stderr",
     "output_type": "stream",
     "text": [
      "C:\\Users\\mikai\\AppData\\Local\\Temp\\ipykernel_44772\\997093738.py:88: FutureWarning: You are using `torch.load` with `weights_only=False` (the current default value), which uses the default pickle module implicitly. It is possible to construct malicious pickle data which will execute arbitrary code during unpickling (See https://github.com/pytorch/pytorch/blob/main/SECURITY.md#untrusted-models for more details). In a future release, the default value for `weights_only` will be flipped to `True`. This limits the functions that could be executed during unpickling. Arbitrary objects will no longer be allowed to be loaded via this mode unless they are explicitly allowlisted by the user via `torch.serialization.add_safe_globals`. We recommend you start setting `weights_only=True` for any use case where you don't have full control of the loaded file. Please open an issue on GitHub for any issues related to this experimental feature.\n",
      "  best_ckpt = torch.load(\"checkpointFiles/checkpointDownload2.pth\", map_location=config.device)\n"
     ]
    },
    {
     "name": "stdout",
     "output_type": "stream",
     "text": [
      "Epoch[88/150], Train Loss: 0.5870, Train Accuracy: 98.23%, Train F1: 98.03% | Valid Loss: 0.7964, Valid Accuracy: 75.00%, Valid F1: 68.83% | LR: 0.000064\n"
     ]
    },
    {
     "name": "stderr",
     "output_type": "stream",
     "text": [
      "C:\\Users\\mikai\\AppData\\Local\\Temp\\ipykernel_44772\\997093738.py:88: FutureWarning: You are using `torch.load` with `weights_only=False` (the current default value), which uses the default pickle module implicitly. It is possible to construct malicious pickle data which will execute arbitrary code during unpickling (See https://github.com/pytorch/pytorch/blob/main/SECURITY.md#untrusted-models for more details). In a future release, the default value for `weights_only` will be flipped to `True`. This limits the functions that could be executed during unpickling. Arbitrary objects will no longer be allowed to be loaded via this mode unless they are explicitly allowlisted by the user via `torch.serialization.add_safe_globals`. We recommend you start setting `weights_only=True` for any use case where you don't have full control of the loaded file. Please open an issue on GitHub for any issues related to this experimental feature.\n",
      "  best_ckpt = torch.load(\"checkpointFiles/checkpointDownload2.pth\", map_location=config.device)\n"
     ]
    },
    {
     "name": "stdout",
     "output_type": "stream",
     "text": [
      "Epoch[89/150], Train Loss: 0.5861, Train Accuracy: 98.23%, Train F1: 97.98% | Valid Loss: 0.8347, Valid Accuracy: 68.75%, Valid F1: 66.94% | LR: 0.000062\n"
     ]
    },
    {
     "name": "stderr",
     "output_type": "stream",
     "text": [
      "C:\\Users\\mikai\\AppData\\Local\\Temp\\ipykernel_44772\\997093738.py:88: FutureWarning: You are using `torch.load` with `weights_only=False` (the current default value), which uses the default pickle module implicitly. It is possible to construct malicious pickle data which will execute arbitrary code during unpickling (See https://github.com/pytorch/pytorch/blob/main/SECURITY.md#untrusted-models for more details). In a future release, the default value for `weights_only` will be flipped to `True`. This limits the functions that could be executed during unpickling. Arbitrary objects will no longer be allowed to be loaded via this mode unless they are explicitly allowlisted by the user via `torch.serialization.add_safe_globals`. We recommend you start setting `weights_only=True` for any use case where you don't have full control of the loaded file. Please open an issue on GitHub for any issues related to this experimental feature.\n",
      "  best_ckpt = torch.load(\"checkpointFiles/checkpointDownload2.pth\", map_location=config.device)\n"
     ]
    },
    {
     "name": "stdout",
     "output_type": "stream",
     "text": [
      "Epoch[90/150], Train Loss: 0.5891, Train Accuracy: 96.46%, Train F1: 96.07% | Valid Loss: 0.8192, Valid Accuracy: 64.58%, Valid F1: 59.81% | LR: 0.000061\n"
     ]
    },
    {
     "name": "stderr",
     "output_type": "stream",
     "text": [
      "C:\\Users\\mikai\\AppData\\Local\\Temp\\ipykernel_44772\\997093738.py:88: FutureWarning: You are using `torch.load` with `weights_only=False` (the current default value), which uses the default pickle module implicitly. It is possible to construct malicious pickle data which will execute arbitrary code during unpickling (See https://github.com/pytorch/pytorch/blob/main/SECURITY.md#untrusted-models for more details). In a future release, the default value for `weights_only` will be flipped to `True`. This limits the functions that could be executed during unpickling. Arbitrary objects will no longer be allowed to be loaded via this mode unless they are explicitly allowlisted by the user via `torch.serialization.add_safe_globals`. We recommend you start setting `weights_only=True` for any use case where you don't have full control of the loaded file. Please open an issue on GitHub for any issues related to this experimental feature.\n",
      "  best_ckpt = torch.load(\"checkpointFiles/checkpointDownload2.pth\", map_location=config.device)\n"
     ]
    },
    {
     "name": "stdout",
     "output_type": "stream",
     "text": [
      "Epoch[91/150], Train Loss: 0.5829, Train Accuracy: 98.23%, Train F1: 98.01% | Valid Loss: 0.8077, Valid Accuracy: 70.83%, Valid F1: 65.83% | LR: 0.000059\n"
     ]
    },
    {
     "name": "stderr",
     "output_type": "stream",
     "text": [
      "C:\\Users\\mikai\\AppData\\Local\\Temp\\ipykernel_44772\\997093738.py:88: FutureWarning: You are using `torch.load` with `weights_only=False` (the current default value), which uses the default pickle module implicitly. It is possible to construct malicious pickle data which will execute arbitrary code during unpickling (See https://github.com/pytorch/pytorch/blob/main/SECURITY.md#untrusted-models for more details). In a future release, the default value for `weights_only` will be flipped to `True`. This limits the functions that could be executed during unpickling. Arbitrary objects will no longer be allowed to be loaded via this mode unless they are explicitly allowlisted by the user via `torch.serialization.add_safe_globals`. We recommend you start setting `weights_only=True` for any use case where you don't have full control of the loaded file. Please open an issue on GitHub for any issues related to this experimental feature.\n",
      "  best_ckpt = torch.load(\"checkpointFiles/checkpointDownload2.pth\", map_location=config.device)\n"
     ]
    },
    {
     "name": "stdout",
     "output_type": "stream",
     "text": [
      "Epoch[92/150], Train Loss: 0.5857, Train Accuracy: 97.35%, Train F1: 96.88% | Valid Loss: 0.8066, Valid Accuracy: 70.83%, Valid F1: 65.83% | LR: 0.000058\n"
     ]
    },
    {
     "name": "stderr",
     "output_type": "stream",
     "text": [
      "C:\\Users\\mikai\\AppData\\Local\\Temp\\ipykernel_44772\\997093738.py:88: FutureWarning: You are using `torch.load` with `weights_only=False` (the current default value), which uses the default pickle module implicitly. It is possible to construct malicious pickle data which will execute arbitrary code during unpickling (See https://github.com/pytorch/pytorch/blob/main/SECURITY.md#untrusted-models for more details). In a future release, the default value for `weights_only` will be flipped to `True`. This limits the functions that could be executed during unpickling. Arbitrary objects will no longer be allowed to be loaded via this mode unless they are explicitly allowlisted by the user via `torch.serialization.add_safe_globals`. We recommend you start setting `weights_only=True` for any use case where you don't have full control of the loaded file. Please open an issue on GitHub for any issues related to this experimental feature.\n",
      "  best_ckpt = torch.load(\"checkpointFiles/checkpointDownload2.pth\", map_location=config.device)\n"
     ]
    },
    {
     "name": "stdout",
     "output_type": "stream",
     "text": [
      "Epoch[93/150], Train Loss: 0.5856, Train Accuracy: 98.23%, Train F1: 98.01% | Valid Loss: 0.8070, Valid Accuracy: 70.83%, Valid F1: 67.42% | LR: 0.000057\n"
     ]
    },
    {
     "name": "stderr",
     "output_type": "stream",
     "text": [
      "C:\\Users\\mikai\\AppData\\Local\\Temp\\ipykernel_44772\\997093738.py:88: FutureWarning: You are using `torch.load` with `weights_only=False` (the current default value), which uses the default pickle module implicitly. It is possible to construct malicious pickle data which will execute arbitrary code during unpickling (See https://github.com/pytorch/pytorch/blob/main/SECURITY.md#untrusted-models for more details). In a future release, the default value for `weights_only` will be flipped to `True`. This limits the functions that could be executed during unpickling. Arbitrary objects will no longer be allowed to be loaded via this mode unless they are explicitly allowlisted by the user via `torch.serialization.add_safe_globals`. We recommend you start setting `weights_only=True` for any use case where you don't have full control of the loaded file. Please open an issue on GitHub for any issues related to this experimental feature.\n",
      "  best_ckpt = torch.load(\"checkpointFiles/checkpointDownload2.pth\", map_location=config.device)\n"
     ]
    },
    {
     "name": "stdout",
     "output_type": "stream",
     "text": [
      "Epoch[94/150], Train Loss: 0.5912, Train Accuracy: 97.35%, Train F1: 96.90% | Valid Loss: 0.8072, Valid Accuracy: 72.92%, Valid F1: 67.50% | LR: 0.000055\n"
     ]
    },
    {
     "name": "stderr",
     "output_type": "stream",
     "text": [
      "C:\\Users\\mikai\\AppData\\Local\\Temp\\ipykernel_44772\\997093738.py:88: FutureWarning: You are using `torch.load` with `weights_only=False` (the current default value), which uses the default pickle module implicitly. It is possible to construct malicious pickle data which will execute arbitrary code during unpickling (See https://github.com/pytorch/pytorch/blob/main/SECURITY.md#untrusted-models for more details). In a future release, the default value for `weights_only` will be flipped to `True`. This limits the functions that could be executed during unpickling. Arbitrary objects will no longer be allowed to be loaded via this mode unless they are explicitly allowlisted by the user via `torch.serialization.add_safe_globals`. We recommend you start setting `weights_only=True` for any use case where you don't have full control of the loaded file. Please open an issue on GitHub for any issues related to this experimental feature.\n",
      "  best_ckpt = torch.load(\"checkpointFiles/checkpointDownload2.pth\", map_location=config.device)\n"
     ]
    },
    {
     "name": "stdout",
     "output_type": "stream",
     "text": [
      "Epoch[95/150], Train Loss: 0.5909, Train Accuracy: 98.23%, Train F1: 98.01% | Valid Loss: 0.8143, Valid Accuracy: 72.92%, Valid F1: 69.07% | LR: 0.000054\n"
     ]
    },
    {
     "name": "stderr",
     "output_type": "stream",
     "text": [
      "C:\\Users\\mikai\\AppData\\Local\\Temp\\ipykernel_44772\\997093738.py:88: FutureWarning: You are using `torch.load` with `weights_only=False` (the current default value), which uses the default pickle module implicitly. It is possible to construct malicious pickle data which will execute arbitrary code during unpickling (See https://github.com/pytorch/pytorch/blob/main/SECURITY.md#untrusted-models for more details). In a future release, the default value for `weights_only` will be flipped to `True`. This limits the functions that could be executed during unpickling. Arbitrary objects will no longer be allowed to be loaded via this mode unless they are explicitly allowlisted by the user via `torch.serialization.add_safe_globals`. We recommend you start setting `weights_only=True` for any use case where you don't have full control of the loaded file. Please open an issue on GitHub for any issues related to this experimental feature.\n",
      "  best_ckpt = torch.load(\"checkpointFiles/checkpointDownload2.pth\", map_location=config.device)\n"
     ]
    },
    {
     "name": "stdout",
     "output_type": "stream",
     "text": [
      "Epoch[96/150], Train Loss: 0.5881, Train Accuracy: 98.23%, Train F1: 98.01% | Valid Loss: 0.8017, Valid Accuracy: 77.08%, Valid F1: 72.96% | LR: 0.000052\n"
     ]
    },
    {
     "name": "stderr",
     "output_type": "stream",
     "text": [
      "C:\\Users\\mikai\\AppData\\Local\\Temp\\ipykernel_44772\\997093738.py:88: FutureWarning: You are using `torch.load` with `weights_only=False` (the current default value), which uses the default pickle module implicitly. It is possible to construct malicious pickle data which will execute arbitrary code during unpickling (See https://github.com/pytorch/pytorch/blob/main/SECURITY.md#untrusted-models for more details). In a future release, the default value for `weights_only` will be flipped to `True`. This limits the functions that could be executed during unpickling. Arbitrary objects will no longer be allowed to be loaded via this mode unless they are explicitly allowlisted by the user via `torch.serialization.add_safe_globals`. We recommend you start setting `weights_only=True` for any use case where you don't have full control of the loaded file. Please open an issue on GitHub for any issues related to this experimental feature.\n",
      "  best_ckpt = torch.load(\"checkpointFiles/checkpointDownload2.pth\", map_location=config.device)\n"
     ]
    },
    {
     "name": "stdout",
     "output_type": "stream",
     "text": [
      "Epoch[97/150], Train Loss: 0.5834, Train Accuracy: 97.35%, Train F1: 96.88% | Valid Loss: 0.8313, Valid Accuracy: 70.83%, Valid F1: 68.57% | LR: 0.000051\n"
     ]
    },
    {
     "name": "stderr",
     "output_type": "stream",
     "text": [
      "C:\\Users\\mikai\\AppData\\Local\\Temp\\ipykernel_44772\\997093738.py:88: FutureWarning: You are using `torch.load` with `weights_only=False` (the current default value), which uses the default pickle module implicitly. It is possible to construct malicious pickle data which will execute arbitrary code during unpickling (See https://github.com/pytorch/pytorch/blob/main/SECURITY.md#untrusted-models for more details). In a future release, the default value for `weights_only` will be flipped to `True`. This limits the functions that could be executed during unpickling. Arbitrary objects will no longer be allowed to be loaded via this mode unless they are explicitly allowlisted by the user via `torch.serialization.add_safe_globals`. We recommend you start setting `weights_only=True` for any use case where you don't have full control of the loaded file. Please open an issue on GitHub for any issues related to this experimental feature.\n",
      "  best_ckpt = torch.load(\"checkpointFiles/checkpointDownload2.pth\", map_location=config.device)\n"
     ]
    },
    {
     "name": "stdout",
     "output_type": "stream",
     "text": [
      "Epoch[98/150], Train Loss: 0.5803, Train Accuracy: 98.23%, Train F1: 98.01% | Valid Loss: 0.8402, Valid Accuracy: 70.83%, Valid F1: 68.57% | LR: 0.000049\n"
     ]
    },
    {
     "name": "stderr",
     "output_type": "stream",
     "text": [
      "C:\\Users\\mikai\\AppData\\Local\\Temp\\ipykernel_44772\\997093738.py:88: FutureWarning: You are using `torch.load` with `weights_only=False` (the current default value), which uses the default pickle module implicitly. It is possible to construct malicious pickle data which will execute arbitrary code during unpickling (See https://github.com/pytorch/pytorch/blob/main/SECURITY.md#untrusted-models for more details). In a future release, the default value for `weights_only` will be flipped to `True`. This limits the functions that could be executed during unpickling. Arbitrary objects will no longer be allowed to be loaded via this mode unless they are explicitly allowlisted by the user via `torch.serialization.add_safe_globals`. We recommend you start setting `weights_only=True` for any use case where you don't have full control of the loaded file. Please open an issue on GitHub for any issues related to this experimental feature.\n",
      "  best_ckpt = torch.load(\"checkpointFiles/checkpointDownload2.pth\", map_location=config.device)\n"
     ]
    },
    {
     "name": "stdout",
     "output_type": "stream",
     "text": [
      "Epoch[99/150], Train Loss: 0.5866, Train Accuracy: 99.12%, Train F1: 99.14% | Valid Loss: 0.8040, Valid Accuracy: 72.92%, Valid F1: 69.22% | LR: 0.000048\n"
     ]
    },
    {
     "name": "stderr",
     "output_type": "stream",
     "text": [
      "C:\\Users\\mikai\\AppData\\Local\\Temp\\ipykernel_44772\\997093738.py:88: FutureWarning: You are using `torch.load` with `weights_only=False` (the current default value), which uses the default pickle module implicitly. It is possible to construct malicious pickle data which will execute arbitrary code during unpickling (See https://github.com/pytorch/pytorch/blob/main/SECURITY.md#untrusted-models for more details). In a future release, the default value for `weights_only` will be flipped to `True`. This limits the functions that could be executed during unpickling. Arbitrary objects will no longer be allowed to be loaded via this mode unless they are explicitly allowlisted by the user via `torch.serialization.add_safe_globals`. We recommend you start setting `weights_only=True` for any use case where you don't have full control of the loaded file. Please open an issue on GitHub for any issues related to this experimental feature.\n",
      "  best_ckpt = torch.load(\"checkpointFiles/checkpointDownload2.pth\", map_location=config.device)\n"
     ]
    },
    {
     "name": "stdout",
     "output_type": "stream",
     "text": [
      "Epoch[100/150], Train Loss: 0.5890, Train Accuracy: 98.23%, Train F1: 98.01% | Valid Loss: 0.8377, Valid Accuracy: 72.92%, Valid F1: 70.10% | LR: 0.000046\n"
     ]
    },
    {
     "name": "stderr",
     "output_type": "stream",
     "text": [
      "C:\\Users\\mikai\\AppData\\Local\\Temp\\ipykernel_44772\\997093738.py:88: FutureWarning: You are using `torch.load` with `weights_only=False` (the current default value), which uses the default pickle module implicitly. It is possible to construct malicious pickle data which will execute arbitrary code during unpickling (See https://github.com/pytorch/pytorch/blob/main/SECURITY.md#untrusted-models for more details). In a future release, the default value for `weights_only` will be flipped to `True`. This limits the functions that could be executed during unpickling. Arbitrary objects will no longer be allowed to be loaded via this mode unless they are explicitly allowlisted by the user via `torch.serialization.add_safe_globals`. We recommend you start setting `weights_only=True` for any use case where you don't have full control of the loaded file. Please open an issue on GitHub for any issues related to this experimental feature.\n",
      "  best_ckpt = torch.load(\"checkpointFiles/checkpointDownload2.pth\", map_location=config.device)\n"
     ]
    },
    {
     "name": "stdout",
     "output_type": "stream",
     "text": [
      "Epoch[101/150], Train Loss: 0.5855, Train Accuracy: 97.35%, Train F1: 97.12% | Valid Loss: 0.8279, Valid Accuracy: 70.83%, Valid F1: 69.52% | LR: 0.000045\n"
     ]
    },
    {
     "name": "stderr",
     "output_type": "stream",
     "text": [
      "C:\\Users\\mikai\\AppData\\Local\\Temp\\ipykernel_44772\\997093738.py:88: FutureWarning: You are using `torch.load` with `weights_only=False` (the current default value), which uses the default pickle module implicitly. It is possible to construct malicious pickle data which will execute arbitrary code during unpickling (See https://github.com/pytorch/pytorch/blob/main/SECURITY.md#untrusted-models for more details). In a future release, the default value for `weights_only` will be flipped to `True`. This limits the functions that could be executed during unpickling. Arbitrary objects will no longer be allowed to be loaded via this mode unless they are explicitly allowlisted by the user via `torch.serialization.add_safe_globals`. We recommend you start setting `weights_only=True` for any use case where you don't have full control of the loaded file. Please open an issue on GitHub for any issues related to this experimental feature.\n",
      "  best_ckpt = torch.load(\"checkpointFiles/checkpointDownload2.pth\", map_location=config.device)\n"
     ]
    },
    {
     "name": "stdout",
     "output_type": "stream",
     "text": [
      "Epoch[102/150], Train Loss: 0.5834, Train Accuracy: 97.35%, Train F1: 96.88% | Valid Loss: 0.8065, Valid Accuracy: 72.92%, Valid F1: 69.07% | LR: 0.000043\n"
     ]
    },
    {
     "name": "stderr",
     "output_type": "stream",
     "text": [
      "C:\\Users\\mikai\\AppData\\Local\\Temp\\ipykernel_44772\\997093738.py:88: FutureWarning: You are using `torch.load` with `weights_only=False` (the current default value), which uses the default pickle module implicitly. It is possible to construct malicious pickle data which will execute arbitrary code during unpickling (See https://github.com/pytorch/pytorch/blob/main/SECURITY.md#untrusted-models for more details). In a future release, the default value for `weights_only` will be flipped to `True`. This limits the functions that could be executed during unpickling. Arbitrary objects will no longer be allowed to be loaded via this mode unless they are explicitly allowlisted by the user via `torch.serialization.add_safe_globals`. We recommend you start setting `weights_only=True` for any use case where you don't have full control of the loaded file. Please open an issue on GitHub for any issues related to this experimental feature.\n",
      "  best_ckpt = torch.load(\"checkpointFiles/checkpointDownload2.pth\", map_location=config.device)\n"
     ]
    },
    {
     "name": "stdout",
     "output_type": "stream",
     "text": [
      "Epoch[103/150], Train Loss: 0.5854, Train Accuracy: 98.23%, Train F1: 98.01% | Valid Loss: 0.8202, Valid Accuracy: 68.75%, Valid F1: 65.73% | LR: 0.000042\n"
     ]
    },
    {
     "name": "stderr",
     "output_type": "stream",
     "text": [
      "C:\\Users\\mikai\\AppData\\Local\\Temp\\ipykernel_44772\\997093738.py:88: FutureWarning: You are using `torch.load` with `weights_only=False` (the current default value), which uses the default pickle module implicitly. It is possible to construct malicious pickle data which will execute arbitrary code during unpickling (See https://github.com/pytorch/pytorch/blob/main/SECURITY.md#untrusted-models for more details). In a future release, the default value for `weights_only` will be flipped to `True`. This limits the functions that could be executed during unpickling. Arbitrary objects will no longer be allowed to be loaded via this mode unless they are explicitly allowlisted by the user via `torch.serialization.add_safe_globals`. We recommend you start setting `weights_only=True` for any use case where you don't have full control of the loaded file. Please open an issue on GitHub for any issues related to this experimental feature.\n",
      "  best_ckpt = torch.load(\"checkpointFiles/checkpointDownload2.pth\", map_location=config.device)\n"
     ]
    },
    {
     "name": "stdout",
     "output_type": "stream",
     "text": [
      "Epoch[104/150], Train Loss: 0.5847, Train Accuracy: 98.23%, Train F1: 98.01% | Valid Loss: 0.8268, Valid Accuracy: 68.75%, Valid F1: 65.80% | LR: 0.000040\n"
     ]
    },
    {
     "name": "stderr",
     "output_type": "stream",
     "text": [
      "C:\\Users\\mikai\\AppData\\Local\\Temp\\ipykernel_44772\\997093738.py:88: FutureWarning: You are using `torch.load` with `weights_only=False` (the current default value), which uses the default pickle module implicitly. It is possible to construct malicious pickle data which will execute arbitrary code during unpickling (See https://github.com/pytorch/pytorch/blob/main/SECURITY.md#untrusted-models for more details). In a future release, the default value for `weights_only` will be flipped to `True`. This limits the functions that could be executed during unpickling. Arbitrary objects will no longer be allowed to be loaded via this mode unless they are explicitly allowlisted by the user via `torch.serialization.add_safe_globals`. We recommend you start setting `weights_only=True` for any use case where you don't have full control of the loaded file. Please open an issue on GitHub for any issues related to this experimental feature.\n",
      "  best_ckpt = torch.load(\"checkpointFiles/checkpointDownload2.pth\", map_location=config.device)\n"
     ]
    },
    {
     "name": "stdout",
     "output_type": "stream",
     "text": [
      "Epoch[105/150], Train Loss: 0.5895, Train Accuracy: 98.23%, Train F1: 98.01% | Valid Loss: 0.8175, Valid Accuracy: 70.83%, Valid F1: 68.31% | LR: 0.000039\n"
     ]
    },
    {
     "name": "stderr",
     "output_type": "stream",
     "text": [
      "C:\\Users\\mikai\\AppData\\Local\\Temp\\ipykernel_44772\\997093738.py:88: FutureWarning: You are using `torch.load` with `weights_only=False` (the current default value), which uses the default pickle module implicitly. It is possible to construct malicious pickle data which will execute arbitrary code during unpickling (See https://github.com/pytorch/pytorch/blob/main/SECURITY.md#untrusted-models for more details). In a future release, the default value for `weights_only` will be flipped to `True`. This limits the functions that could be executed during unpickling. Arbitrary objects will no longer be allowed to be loaded via this mode unless they are explicitly allowlisted by the user via `torch.serialization.add_safe_globals`. We recommend you start setting `weights_only=True` for any use case where you don't have full control of the loaded file. Please open an issue on GitHub for any issues related to this experimental feature.\n",
      "  best_ckpt = torch.load(\"checkpointFiles/checkpointDownload2.pth\", map_location=config.device)\n"
     ]
    },
    {
     "name": "stdout",
     "output_type": "stream",
     "text": [
      "Epoch[106/150], Train Loss: 0.5866, Train Accuracy: 97.35%, Train F1: 96.88% | Valid Loss: 0.8328, Valid Accuracy: 70.83%, Valid F1: 68.57% | LR: 0.000037\n"
     ]
    },
    {
     "name": "stderr",
     "output_type": "stream",
     "text": [
      "C:\\Users\\mikai\\AppData\\Local\\Temp\\ipykernel_44772\\997093738.py:88: FutureWarning: You are using `torch.load` with `weights_only=False` (the current default value), which uses the default pickle module implicitly. It is possible to construct malicious pickle data which will execute arbitrary code during unpickling (See https://github.com/pytorch/pytorch/blob/main/SECURITY.md#untrusted-models for more details). In a future release, the default value for `weights_only` will be flipped to `True`. This limits the functions that could be executed during unpickling. Arbitrary objects will no longer be allowed to be loaded via this mode unless they are explicitly allowlisted by the user via `torch.serialization.add_safe_globals`. We recommend you start setting `weights_only=True` for any use case where you don't have full control of the loaded file. Please open an issue on GitHub for any issues related to this experimental feature.\n",
      "  best_ckpt = torch.load(\"checkpointFiles/checkpointDownload2.pth\", map_location=config.device)\n"
     ]
    },
    {
     "name": "stdout",
     "output_type": "stream",
     "text": [
      "Epoch[107/150], Train Loss: 0.5962, Train Accuracy: 98.23%, Train F1: 98.01% | Valid Loss: 0.8011, Valid Accuracy: 72.92%, Valid F1: 67.57% | LR: 0.000036\n"
     ]
    },
    {
     "name": "stderr",
     "output_type": "stream",
     "text": [
      "C:\\Users\\mikai\\AppData\\Local\\Temp\\ipykernel_44772\\997093738.py:88: FutureWarning: You are using `torch.load` with `weights_only=False` (the current default value), which uses the default pickle module implicitly. It is possible to construct malicious pickle data which will execute arbitrary code during unpickling (See https://github.com/pytorch/pytorch/blob/main/SECURITY.md#untrusted-models for more details). In a future release, the default value for `weights_only` will be flipped to `True`. This limits the functions that could be executed during unpickling. Arbitrary objects will no longer be allowed to be loaded via this mode unless they are explicitly allowlisted by the user via `torch.serialization.add_safe_globals`. We recommend you start setting `weights_only=True` for any use case where you don't have full control of the loaded file. Please open an issue on GitHub for any issues related to this experimental feature.\n",
      "  best_ckpt = torch.load(\"checkpointFiles/checkpointDownload2.pth\", map_location=config.device)\n"
     ]
    },
    {
     "name": "stdout",
     "output_type": "stream",
     "text": [
      "Epoch[108/150], Train Loss: 0.6007, Train Accuracy: 96.46%, Train F1: 95.78% | Valid Loss: 0.8942, Valid Accuracy: 60.42%, Valid F1: 55.19% | LR: 0.000034\n"
     ]
    },
    {
     "name": "stderr",
     "output_type": "stream",
     "text": [
      "C:\\Users\\mikai\\AppData\\Local\\Temp\\ipykernel_44772\\997093738.py:88: FutureWarning: You are using `torch.load` with `weights_only=False` (the current default value), which uses the default pickle module implicitly. It is possible to construct malicious pickle data which will execute arbitrary code during unpickling (See https://github.com/pytorch/pytorch/blob/main/SECURITY.md#untrusted-models for more details). In a future release, the default value for `weights_only` will be flipped to `True`. This limits the functions that could be executed during unpickling. Arbitrary objects will no longer be allowed to be loaded via this mode unless they are explicitly allowlisted by the user via `torch.serialization.add_safe_globals`. We recommend you start setting `weights_only=True` for any use case where you don't have full control of the loaded file. Please open an issue on GitHub for any issues related to this experimental feature.\n",
      "  best_ckpt = torch.load(\"checkpointFiles/checkpointDownload2.pth\", map_location=config.device)\n"
     ]
    },
    {
     "name": "stdout",
     "output_type": "stream",
     "text": [
      "Epoch[109/150], Train Loss: 0.5895, Train Accuracy: 99.12%, Train F1: 99.14% | Valid Loss: 0.8155, Valid Accuracy: 72.92%, Valid F1: 69.07% | LR: 0.000033\n"
     ]
    },
    {
     "name": "stderr",
     "output_type": "stream",
     "text": [
      "C:\\Users\\mikai\\AppData\\Local\\Temp\\ipykernel_44772\\997093738.py:88: FutureWarning: You are using `torch.load` with `weights_only=False` (the current default value), which uses the default pickle module implicitly. It is possible to construct malicious pickle data which will execute arbitrary code during unpickling (See https://github.com/pytorch/pytorch/blob/main/SECURITY.md#untrusted-models for more details). In a future release, the default value for `weights_only` will be flipped to `True`. This limits the functions that could be executed during unpickling. Arbitrary objects will no longer be allowed to be loaded via this mode unless they are explicitly allowlisted by the user via `torch.serialization.add_safe_globals`. We recommend you start setting `weights_only=True` for any use case where you don't have full control of the loaded file. Please open an issue on GitHub for any issues related to this experimental feature.\n",
      "  best_ckpt = torch.load(\"checkpointFiles/checkpointDownload2.pth\", map_location=config.device)\n"
     ]
    },
    {
     "name": "stdout",
     "output_type": "stream",
     "text": [
      "Epoch[110/150], Train Loss: 0.6024, Train Accuracy: 96.46%, Train F1: 95.75% | Valid Loss: 0.8434, Valid Accuracy: 72.92%, Valid F1: 70.10% | LR: 0.000032\n"
     ]
    },
    {
     "name": "stderr",
     "output_type": "stream",
     "text": [
      "C:\\Users\\mikai\\AppData\\Local\\Temp\\ipykernel_44772\\997093738.py:88: FutureWarning: You are using `torch.load` with `weights_only=False` (the current default value), which uses the default pickle module implicitly. It is possible to construct malicious pickle data which will execute arbitrary code during unpickling (See https://github.com/pytorch/pytorch/blob/main/SECURITY.md#untrusted-models for more details). In a future release, the default value for `weights_only` will be flipped to `True`. This limits the functions that could be executed during unpickling. Arbitrary objects will no longer be allowed to be loaded via this mode unless they are explicitly allowlisted by the user via `torch.serialization.add_safe_globals`. We recommend you start setting `weights_only=True` for any use case where you don't have full control of the loaded file. Please open an issue on GitHub for any issues related to this experimental feature.\n",
      "  best_ckpt = torch.load(\"checkpointFiles/checkpointDownload2.pth\", map_location=config.device)\n"
     ]
    },
    {
     "name": "stdout",
     "output_type": "stream",
     "text": [
      "Epoch[111/150], Train Loss: 0.5861, Train Accuracy: 98.23%, Train F1: 98.01% | Valid Loss: 0.8419, Valid Accuracy: 70.83%, Valid F1: 68.56% | LR: 0.000030\n"
     ]
    },
    {
     "name": "stderr",
     "output_type": "stream",
     "text": [
      "C:\\Users\\mikai\\AppData\\Local\\Temp\\ipykernel_44772\\997093738.py:88: FutureWarning: You are using `torch.load` with `weights_only=False` (the current default value), which uses the default pickle module implicitly. It is possible to construct malicious pickle data which will execute arbitrary code during unpickling (See https://github.com/pytorch/pytorch/blob/main/SECURITY.md#untrusted-models for more details). In a future release, the default value for `weights_only` will be flipped to `True`. This limits the functions that could be executed during unpickling. Arbitrary objects will no longer be allowed to be loaded via this mode unless they are explicitly allowlisted by the user via `torch.serialization.add_safe_globals`. We recommend you start setting `weights_only=True` for any use case where you don't have full control of the loaded file. Please open an issue on GitHub for any issues related to this experimental feature.\n",
      "  best_ckpt = torch.load(\"checkpointFiles/checkpointDownload2.pth\", map_location=config.device)\n"
     ]
    },
    {
     "name": "stdout",
     "output_type": "stream",
     "text": [
      "Epoch[112/150], Train Loss: 0.5815, Train Accuracy: 98.23%, Train F1: 98.01% | Valid Loss: 0.8522, Valid Accuracy: 68.75%, Valid F1: 66.16% | LR: 0.000029\n"
     ]
    },
    {
     "name": "stderr",
     "output_type": "stream",
     "text": [
      "C:\\Users\\mikai\\AppData\\Local\\Temp\\ipykernel_44772\\997093738.py:88: FutureWarning: You are using `torch.load` with `weights_only=False` (the current default value), which uses the default pickle module implicitly. It is possible to construct malicious pickle data which will execute arbitrary code during unpickling (See https://github.com/pytorch/pytorch/blob/main/SECURITY.md#untrusted-models for more details). In a future release, the default value for `weights_only` will be flipped to `True`. This limits the functions that could be executed during unpickling. Arbitrary objects will no longer be allowed to be loaded via this mode unless they are explicitly allowlisted by the user via `torch.serialization.add_safe_globals`. We recommend you start setting `weights_only=True` for any use case where you don't have full control of the loaded file. Please open an issue on GitHub for any issues related to this experimental feature.\n",
      "  best_ckpt = torch.load(\"checkpointFiles/checkpointDownload2.pth\", map_location=config.device)\n"
     ]
    },
    {
     "name": "stdout",
     "output_type": "stream",
     "text": [
      "Epoch[113/150], Train Loss: 0.5785, Train Accuracy: 99.12%, Train F1: 99.14% | Valid Loss: 0.8241, Valid Accuracy: 72.92%, Valid F1: 70.10% | LR: 0.000027\n"
     ]
    },
    {
     "name": "stderr",
     "output_type": "stream",
     "text": [
      "C:\\Users\\mikai\\AppData\\Local\\Temp\\ipykernel_44772\\997093738.py:88: FutureWarning: You are using `torch.load` with `weights_only=False` (the current default value), which uses the default pickle module implicitly. It is possible to construct malicious pickle data which will execute arbitrary code during unpickling (See https://github.com/pytorch/pytorch/blob/main/SECURITY.md#untrusted-models for more details). In a future release, the default value for `weights_only` will be flipped to `True`. This limits the functions that could be executed during unpickling. Arbitrary objects will no longer be allowed to be loaded via this mode unless they are explicitly allowlisted by the user via `torch.serialization.add_safe_globals`. We recommend you start setting `weights_only=True` for any use case where you don't have full control of the loaded file. Please open an issue on GitHub for any issues related to this experimental feature.\n",
      "  best_ckpt = torch.load(\"checkpointFiles/checkpointDownload2.pth\", map_location=config.device)\n"
     ]
    },
    {
     "name": "stdout",
     "output_type": "stream",
     "text": [
      "Epoch[114/150], Train Loss: 0.5844, Train Accuracy: 98.23%, Train F1: 98.01% | Valid Loss: 0.8482, Valid Accuracy: 70.83%, Valid F1: 67.65% | LR: 0.000026\n"
     ]
    },
    {
     "name": "stderr",
     "output_type": "stream",
     "text": [
      "C:\\Users\\mikai\\AppData\\Local\\Temp\\ipykernel_44772\\997093738.py:88: FutureWarning: You are using `torch.load` with `weights_only=False` (the current default value), which uses the default pickle module implicitly. It is possible to construct malicious pickle data which will execute arbitrary code during unpickling (See https://github.com/pytorch/pytorch/blob/main/SECURITY.md#untrusted-models for more details). In a future release, the default value for `weights_only` will be flipped to `True`. This limits the functions that could be executed during unpickling. Arbitrary objects will no longer be allowed to be loaded via this mode unless they are explicitly allowlisted by the user via `torch.serialization.add_safe_globals`. We recommend you start setting `weights_only=True` for any use case where you don't have full control of the loaded file. Please open an issue on GitHub for any issues related to this experimental feature.\n",
      "  best_ckpt = torch.load(\"checkpointFiles/checkpointDownload2.pth\", map_location=config.device)\n"
     ]
    },
    {
     "name": "stdout",
     "output_type": "stream",
     "text": [
      "Epoch[115/150], Train Loss: 0.5853, Train Accuracy: 98.23%, Train F1: 98.01% | Valid Loss: 0.8301, Valid Accuracy: 72.92%, Valid F1: 70.10% | LR: 0.000025\n"
     ]
    },
    {
     "name": "stderr",
     "output_type": "stream",
     "text": [
      "C:\\Users\\mikai\\AppData\\Local\\Temp\\ipykernel_44772\\997093738.py:88: FutureWarning: You are using `torch.load` with `weights_only=False` (the current default value), which uses the default pickle module implicitly. It is possible to construct malicious pickle data which will execute arbitrary code during unpickling (See https://github.com/pytorch/pytorch/blob/main/SECURITY.md#untrusted-models for more details). In a future release, the default value for `weights_only` will be flipped to `True`. This limits the functions that could be executed during unpickling. Arbitrary objects will no longer be allowed to be loaded via this mode unless they are explicitly allowlisted by the user via `torch.serialization.add_safe_globals`. We recommend you start setting `weights_only=True` for any use case where you don't have full control of the loaded file. Please open an issue on GitHub for any issues related to this experimental feature.\n",
      "  best_ckpt = torch.load(\"checkpointFiles/checkpointDownload2.pth\", map_location=config.device)\n"
     ]
    },
    {
     "name": "stdout",
     "output_type": "stream",
     "text": [
      "Epoch[116/150], Train Loss: 0.6023, Train Accuracy: 97.35%, Train F1: 96.90% | Valid Loss: 0.8340, Valid Accuracy: 70.83%, Valid F1: 68.56% | LR: 0.000024\n"
     ]
    },
    {
     "name": "stderr",
     "output_type": "stream",
     "text": [
      "C:\\Users\\mikai\\AppData\\Local\\Temp\\ipykernel_44772\\997093738.py:88: FutureWarning: You are using `torch.load` with `weights_only=False` (the current default value), which uses the default pickle module implicitly. It is possible to construct malicious pickle data which will execute arbitrary code during unpickling (See https://github.com/pytorch/pytorch/blob/main/SECURITY.md#untrusted-models for more details). In a future release, the default value for `weights_only` will be flipped to `True`. This limits the functions that could be executed during unpickling. Arbitrary objects will no longer be allowed to be loaded via this mode unless they are explicitly allowlisted by the user via `torch.serialization.add_safe_globals`. We recommend you start setting `weights_only=True` for any use case where you don't have full control of the loaded file. Please open an issue on GitHub for any issues related to this experimental feature.\n",
      "  best_ckpt = torch.load(\"checkpointFiles/checkpointDownload2.pth\", map_location=config.device)\n"
     ]
    },
    {
     "name": "stdout",
     "output_type": "stream",
     "text": [
      "Epoch[117/150], Train Loss: 0.5874, Train Accuracy: 98.23%, Train F1: 98.01% | Valid Loss: 0.8048, Valid Accuracy: 75.00%, Valid F1: 71.73% | LR: 0.000022\n"
     ]
    },
    {
     "name": "stderr",
     "output_type": "stream",
     "text": [
      "C:\\Users\\mikai\\AppData\\Local\\Temp\\ipykernel_44772\\997093738.py:88: FutureWarning: You are using `torch.load` with `weights_only=False` (the current default value), which uses the default pickle module implicitly. It is possible to construct malicious pickle data which will execute arbitrary code during unpickling (See https://github.com/pytorch/pytorch/blob/main/SECURITY.md#untrusted-models for more details). In a future release, the default value for `weights_only` will be flipped to `True`. This limits the functions that could be executed during unpickling. Arbitrary objects will no longer be allowed to be loaded via this mode unless they are explicitly allowlisted by the user via `torch.serialization.add_safe_globals`. We recommend you start setting `weights_only=True` for any use case where you don't have full control of the loaded file. Please open an issue on GitHub for any issues related to this experimental feature.\n",
      "  best_ckpt = torch.load(\"checkpointFiles/checkpointDownload2.pth\", map_location=config.device)\n"
     ]
    },
    {
     "name": "stdout",
     "output_type": "stream",
     "text": [
      "Epoch[118/150], Train Loss: 0.5961, Train Accuracy: 98.23%, Train F1: 98.01% | Valid Loss: 0.8220, Valid Accuracy: 72.92%, Valid F1: 70.10% | LR: 0.000021\n"
     ]
    },
    {
     "name": "stderr",
     "output_type": "stream",
     "text": [
      "C:\\Users\\mikai\\AppData\\Local\\Temp\\ipykernel_44772\\997093738.py:88: FutureWarning: You are using `torch.load` with `weights_only=False` (the current default value), which uses the default pickle module implicitly. It is possible to construct malicious pickle data which will execute arbitrary code during unpickling (See https://github.com/pytorch/pytorch/blob/main/SECURITY.md#untrusted-models for more details). In a future release, the default value for `weights_only` will be flipped to `True`. This limits the functions that could be executed during unpickling. Arbitrary objects will no longer be allowed to be loaded via this mode unless they are explicitly allowlisted by the user via `torch.serialization.add_safe_globals`. We recommend you start setting `weights_only=True` for any use case where you don't have full control of the loaded file. Please open an issue on GitHub for any issues related to this experimental feature.\n",
      "  best_ckpt = torch.load(\"checkpointFiles/checkpointDownload2.pth\", map_location=config.device)\n"
     ]
    },
    {
     "name": "stdout",
     "output_type": "stream",
     "text": [
      "Epoch[119/150], Train Loss: 0.5964, Train Accuracy: 96.46%, Train F1: 95.75% | Valid Loss: 0.8093, Valid Accuracy: 72.92%, Valid F1: 70.13% | LR: 0.000020\n"
     ]
    },
    {
     "name": "stderr",
     "output_type": "stream",
     "text": [
      "C:\\Users\\mikai\\AppData\\Local\\Temp\\ipykernel_44772\\997093738.py:88: FutureWarning: You are using `torch.load` with `weights_only=False` (the current default value), which uses the default pickle module implicitly. It is possible to construct malicious pickle data which will execute arbitrary code during unpickling (See https://github.com/pytorch/pytorch/blob/main/SECURITY.md#untrusted-models for more details). In a future release, the default value for `weights_only` will be flipped to `True`. This limits the functions that could be executed during unpickling. Arbitrary objects will no longer be allowed to be loaded via this mode unless they are explicitly allowlisted by the user via `torch.serialization.add_safe_globals`. We recommend you start setting `weights_only=True` for any use case where you don't have full control of the loaded file. Please open an issue on GitHub for any issues related to this experimental feature.\n",
      "  best_ckpt = torch.load(\"checkpointFiles/checkpointDownload2.pth\", map_location=config.device)\n"
     ]
    },
    {
     "name": "stdout",
     "output_type": "stream",
     "text": [
      "Epoch[120/150], Train Loss: 0.5907, Train Accuracy: 98.23%, Train F1: 98.01% | Valid Loss: 0.8441, Valid Accuracy: 72.92%, Valid F1: 70.10% | LR: 0.000019\n"
     ]
    },
    {
     "name": "stderr",
     "output_type": "stream",
     "text": [
      "C:\\Users\\mikai\\AppData\\Local\\Temp\\ipykernel_44772\\997093738.py:88: FutureWarning: You are using `torch.load` with `weights_only=False` (the current default value), which uses the default pickle module implicitly. It is possible to construct malicious pickle data which will execute arbitrary code during unpickling (See https://github.com/pytorch/pytorch/blob/main/SECURITY.md#untrusted-models for more details). In a future release, the default value for `weights_only` will be flipped to `True`. This limits the functions that could be executed during unpickling. Arbitrary objects will no longer be allowed to be loaded via this mode unless they are explicitly allowlisted by the user via `torch.serialization.add_safe_globals`. We recommend you start setting `weights_only=True` for any use case where you don't have full control of the loaded file. Please open an issue on GitHub for any issues related to this experimental feature.\n",
      "  best_ckpt = torch.load(\"checkpointFiles/checkpointDownload2.pth\", map_location=config.device)\n"
     ]
    },
    {
     "name": "stdout",
     "output_type": "stream",
     "text": [
      "Epoch[121/150], Train Loss: 0.5899, Train Accuracy: 98.23%, Train F1: 98.01% | Valid Loss: 0.8311, Valid Accuracy: 70.83%, Valid F1: 68.57% | LR: 0.000018\n"
     ]
    },
    {
     "name": "stderr",
     "output_type": "stream",
     "text": [
      "C:\\Users\\mikai\\AppData\\Local\\Temp\\ipykernel_44772\\997093738.py:88: FutureWarning: You are using `torch.load` with `weights_only=False` (the current default value), which uses the default pickle module implicitly. It is possible to construct malicious pickle data which will execute arbitrary code during unpickling (See https://github.com/pytorch/pytorch/blob/main/SECURITY.md#untrusted-models for more details). In a future release, the default value for `weights_only` will be flipped to `True`. This limits the functions that could be executed during unpickling. Arbitrary objects will no longer be allowed to be loaded via this mode unless they are explicitly allowlisted by the user via `torch.serialization.add_safe_globals`. We recommend you start setting `weights_only=True` for any use case where you don't have full control of the loaded file. Please open an issue on GitHub for any issues related to this experimental feature.\n",
      "  best_ckpt = torch.load(\"checkpointFiles/checkpointDownload2.pth\", map_location=config.device)\n"
     ]
    },
    {
     "name": "stdout",
     "output_type": "stream",
     "text": [
      "Epoch[122/150], Train Loss: 0.5949, Train Accuracy: 97.35%, Train F1: 96.88% | Valid Loss: 0.8332, Valid Accuracy: 72.92%, Valid F1: 70.10% | LR: 0.000016\n"
     ]
    },
    {
     "name": "stderr",
     "output_type": "stream",
     "text": [
      "C:\\Users\\mikai\\AppData\\Local\\Temp\\ipykernel_44772\\997093738.py:88: FutureWarning: You are using `torch.load` with `weights_only=False` (the current default value), which uses the default pickle module implicitly. It is possible to construct malicious pickle data which will execute arbitrary code during unpickling (See https://github.com/pytorch/pytorch/blob/main/SECURITY.md#untrusted-models for more details). In a future release, the default value for `weights_only` will be flipped to `True`. This limits the functions that could be executed during unpickling. Arbitrary objects will no longer be allowed to be loaded via this mode unless they are explicitly allowlisted by the user via `torch.serialization.add_safe_globals`. We recommend you start setting `weights_only=True` for any use case where you don't have full control of the loaded file. Please open an issue on GitHub for any issues related to this experimental feature.\n",
      "  best_ckpt = torch.load(\"checkpointFiles/checkpointDownload2.pth\", map_location=config.device)\n"
     ]
    },
    {
     "name": "stdout",
     "output_type": "stream",
     "text": [
      "Epoch[123/150], Train Loss: 0.6859, Train Accuracy: 97.35%, Train F1: 96.88% | Valid Loss: 0.8236, Valid Accuracy: 75.00%, Valid F1: 71.65% | LR: 0.000015\n"
     ]
    },
    {
     "name": "stderr",
     "output_type": "stream",
     "text": [
      "C:\\Users\\mikai\\AppData\\Local\\Temp\\ipykernel_44772\\997093738.py:88: FutureWarning: You are using `torch.load` with `weights_only=False` (the current default value), which uses the default pickle module implicitly. It is possible to construct malicious pickle data which will execute arbitrary code during unpickling (See https://github.com/pytorch/pytorch/blob/main/SECURITY.md#untrusted-models for more details). In a future release, the default value for `weights_only` will be flipped to `True`. This limits the functions that could be executed during unpickling. Arbitrary objects will no longer be allowed to be loaded via this mode unless they are explicitly allowlisted by the user via `torch.serialization.add_safe_globals`. We recommend you start setting `weights_only=True` for any use case where you don't have full control of the loaded file. Please open an issue on GitHub for any issues related to this experimental feature.\n",
      "  best_ckpt = torch.load(\"checkpointFiles/checkpointDownload2.pth\", map_location=config.device)\n"
     ]
    },
    {
     "name": "stdout",
     "output_type": "stream",
     "text": [
      "Epoch[124/150], Train Loss: 0.6055, Train Accuracy: 94.69%, Train F1: 93.99% | Valid Loss: 0.8197, Valid Accuracy: 70.83%, Valid F1: 65.94% | LR: 0.000014\n"
     ]
    },
    {
     "name": "stderr",
     "output_type": "stream",
     "text": [
      "C:\\Users\\mikai\\AppData\\Local\\Temp\\ipykernel_44772\\997093738.py:88: FutureWarning: You are using `torch.load` with `weights_only=False` (the current default value), which uses the default pickle module implicitly. It is possible to construct malicious pickle data which will execute arbitrary code during unpickling (See https://github.com/pytorch/pytorch/blob/main/SECURITY.md#untrusted-models for more details). In a future release, the default value for `weights_only` will be flipped to `True`. This limits the functions that could be executed during unpickling. Arbitrary objects will no longer be allowed to be loaded via this mode unless they are explicitly allowlisted by the user via `torch.serialization.add_safe_globals`. We recommend you start setting `weights_only=True` for any use case where you don't have full control of the loaded file. Please open an issue on GitHub for any issues related to this experimental feature.\n",
      "  best_ckpt = torch.load(\"checkpointFiles/checkpointDownload2.pth\", map_location=config.device)\n"
     ]
    },
    {
     "name": "stdout",
     "output_type": "stream",
     "text": [
      "Epoch[125/150], Train Loss: 0.5899, Train Accuracy: 98.23%, Train F1: 98.01% | Valid Loss: 0.8234, Valid Accuracy: 70.83%, Valid F1: 67.98% | LR: 0.000013\n"
     ]
    },
    {
     "name": "stderr",
     "output_type": "stream",
     "text": [
      "C:\\Users\\mikai\\AppData\\Local\\Temp\\ipykernel_44772\\997093738.py:88: FutureWarning: You are using `torch.load` with `weights_only=False` (the current default value), which uses the default pickle module implicitly. It is possible to construct malicious pickle data which will execute arbitrary code during unpickling (See https://github.com/pytorch/pytorch/blob/main/SECURITY.md#untrusted-models for more details). In a future release, the default value for `weights_only` will be flipped to `True`. This limits the functions that could be executed during unpickling. Arbitrary objects will no longer be allowed to be loaded via this mode unless they are explicitly allowlisted by the user via `torch.serialization.add_safe_globals`. We recommend you start setting `weights_only=True` for any use case where you don't have full control of the loaded file. Please open an issue on GitHub for any issues related to this experimental feature.\n",
      "  best_ckpt = torch.load(\"checkpointFiles/checkpointDownload2.pth\", map_location=config.device)\n"
     ]
    },
    {
     "name": "stdout",
     "output_type": "stream",
     "text": [
      "Epoch[126/150], Train Loss: 0.5877, Train Accuracy: 98.23%, Train F1: 98.01% | Valid Loss: 0.8382, Valid Accuracy: 75.00%, Valid F1: 71.65% | LR: 0.000012\n"
     ]
    },
    {
     "name": "stderr",
     "output_type": "stream",
     "text": [
      "C:\\Users\\mikai\\AppData\\Local\\Temp\\ipykernel_44772\\997093738.py:88: FutureWarning: You are using `torch.load` with `weights_only=False` (the current default value), which uses the default pickle module implicitly. It is possible to construct malicious pickle data which will execute arbitrary code during unpickling (See https://github.com/pytorch/pytorch/blob/main/SECURITY.md#untrusted-models for more details). In a future release, the default value for `weights_only` will be flipped to `True`. This limits the functions that could be executed during unpickling. Arbitrary objects will no longer be allowed to be loaded via this mode unless they are explicitly allowlisted by the user via `torch.serialization.add_safe_globals`. We recommend you start setting `weights_only=True` for any use case where you don't have full control of the loaded file. Please open an issue on GitHub for any issues related to this experimental feature.\n",
      "  best_ckpt = torch.load(\"checkpointFiles/checkpointDownload2.pth\", map_location=config.device)\n"
     ]
    },
    {
     "name": "stdout",
     "output_type": "stream",
     "text": [
      "Epoch[127/150], Train Loss: 0.5865, Train Accuracy: 97.35%, Train F1: 96.88% | Valid Loss: 0.8295, Valid Accuracy: 72.92%, Valid F1: 70.10% | LR: 0.000011\n"
     ]
    },
    {
     "name": "stderr",
     "output_type": "stream",
     "text": [
      "C:\\Users\\mikai\\AppData\\Local\\Temp\\ipykernel_44772\\997093738.py:88: FutureWarning: You are using `torch.load` with `weights_only=False` (the current default value), which uses the default pickle module implicitly. It is possible to construct malicious pickle data which will execute arbitrary code during unpickling (See https://github.com/pytorch/pytorch/blob/main/SECURITY.md#untrusted-models for more details). In a future release, the default value for `weights_only` will be flipped to `True`. This limits the functions that could be executed during unpickling. Arbitrary objects will no longer be allowed to be loaded via this mode unless they are explicitly allowlisted by the user via `torch.serialization.add_safe_globals`. We recommend you start setting `weights_only=True` for any use case where you don't have full control of the loaded file. Please open an issue on GitHub for any issues related to this experimental feature.\n",
      "  best_ckpt = torch.load(\"checkpointFiles/checkpointDownload2.pth\", map_location=config.device)\n"
     ]
    },
    {
     "name": "stdout",
     "output_type": "stream",
     "text": [
      "Epoch[128/150], Train Loss: 0.5971, Train Accuracy: 99.12%, Train F1: 99.14% | Valid Loss: 0.8245, Valid Accuracy: 72.92%, Valid F1: 70.10% | LR: 0.000010\n"
     ]
    },
    {
     "name": "stderr",
     "output_type": "stream",
     "text": [
      "C:\\Users\\mikai\\AppData\\Local\\Temp\\ipykernel_44772\\997093738.py:88: FutureWarning: You are using `torch.load` with `weights_only=False` (the current default value), which uses the default pickle module implicitly. It is possible to construct malicious pickle data which will execute arbitrary code during unpickling (See https://github.com/pytorch/pytorch/blob/main/SECURITY.md#untrusted-models for more details). In a future release, the default value for `weights_only` will be flipped to `True`. This limits the functions that could be executed during unpickling. Arbitrary objects will no longer be allowed to be loaded via this mode unless they are explicitly allowlisted by the user via `torch.serialization.add_safe_globals`. We recommend you start setting `weights_only=True` for any use case where you don't have full control of the loaded file. Please open an issue on GitHub for any issues related to this experimental feature.\n",
      "  best_ckpt = torch.load(\"checkpointFiles/checkpointDownload2.pth\", map_location=config.device)\n"
     ]
    },
    {
     "name": "stdout",
     "output_type": "stream",
     "text": [
      "Epoch[129/150], Train Loss: 0.5936, Train Accuracy: 97.35%, Train F1: 96.88% | Valid Loss: 0.8226, Valid Accuracy: 70.83%, Valid F1: 67.96% | LR: 0.000009\n"
     ]
    },
    {
     "name": "stderr",
     "output_type": "stream",
     "text": [
      "C:\\Users\\mikai\\AppData\\Local\\Temp\\ipykernel_44772\\997093738.py:88: FutureWarning: You are using `torch.load` with `weights_only=False` (the current default value), which uses the default pickle module implicitly. It is possible to construct malicious pickle data which will execute arbitrary code during unpickling (See https://github.com/pytorch/pytorch/blob/main/SECURITY.md#untrusted-models for more details). In a future release, the default value for `weights_only` will be flipped to `True`. This limits the functions that could be executed during unpickling. Arbitrary objects will no longer be allowed to be loaded via this mode unless they are explicitly allowlisted by the user via `torch.serialization.add_safe_globals`. We recommend you start setting `weights_only=True` for any use case where you don't have full control of the loaded file. Please open an issue on GitHub for any issues related to this experimental feature.\n",
      "  best_ckpt = torch.load(\"checkpointFiles/checkpointDownload2.pth\", map_location=config.device)\n"
     ]
    },
    {
     "name": "stdout",
     "output_type": "stream",
     "text": [
      "Epoch[130/150], Train Loss: 0.5842, Train Accuracy: 99.12%, Train F1: 99.14% | Valid Loss: 0.8132, Valid Accuracy: 72.92%, Valid F1: 69.51% | LR: 0.000009\n"
     ]
    },
    {
     "name": "stderr",
     "output_type": "stream",
     "text": [
      "C:\\Users\\mikai\\AppData\\Local\\Temp\\ipykernel_44772\\997093738.py:88: FutureWarning: You are using `torch.load` with `weights_only=False` (the current default value), which uses the default pickle module implicitly. It is possible to construct malicious pickle data which will execute arbitrary code during unpickling (See https://github.com/pytorch/pytorch/blob/main/SECURITY.md#untrusted-models for more details). In a future release, the default value for `weights_only` will be flipped to `True`. This limits the functions that could be executed during unpickling. Arbitrary objects will no longer be allowed to be loaded via this mode unless they are explicitly allowlisted by the user via `torch.serialization.add_safe_globals`. We recommend you start setting `weights_only=True` for any use case where you don't have full control of the loaded file. Please open an issue on GitHub for any issues related to this experimental feature.\n",
      "  best_ckpt = torch.load(\"checkpointFiles/checkpointDownload2.pth\", map_location=config.device)\n"
     ]
    },
    {
     "name": "stdout",
     "output_type": "stream",
     "text": [
      "Epoch[131/150], Train Loss: 0.5894, Train Accuracy: 96.46%, Train F1: 95.75% | Valid Loss: 0.8252, Valid Accuracy: 72.92%, Valid F1: 70.10% | LR: 0.000008\n"
     ]
    },
    {
     "name": "stderr",
     "output_type": "stream",
     "text": [
      "C:\\Users\\mikai\\AppData\\Local\\Temp\\ipykernel_44772\\997093738.py:88: FutureWarning: You are using `torch.load` with `weights_only=False` (the current default value), which uses the default pickle module implicitly. It is possible to construct malicious pickle data which will execute arbitrary code during unpickling (See https://github.com/pytorch/pytorch/blob/main/SECURITY.md#untrusted-models for more details). In a future release, the default value for `weights_only` will be flipped to `True`. This limits the functions that could be executed during unpickling. Arbitrary objects will no longer be allowed to be loaded via this mode unless they are explicitly allowlisted by the user via `torch.serialization.add_safe_globals`. We recommend you start setting `weights_only=True` for any use case where you don't have full control of the loaded file. Please open an issue on GitHub for any issues related to this experimental feature.\n",
      "  best_ckpt = torch.load(\"checkpointFiles/checkpointDownload2.pth\", map_location=config.device)\n"
     ]
    },
    {
     "name": "stdout",
     "output_type": "stream",
     "text": [
      "Epoch[132/150], Train Loss: 0.5945, Train Accuracy: 98.23%, Train F1: 98.01% | Valid Loss: 0.8146, Valid Accuracy: 72.92%, Valid F1: 69.51% | LR: 0.000007\n"
     ]
    },
    {
     "name": "stderr",
     "output_type": "stream",
     "text": [
      "C:\\Users\\mikai\\AppData\\Local\\Temp\\ipykernel_44772\\997093738.py:88: FutureWarning: You are using `torch.load` with `weights_only=False` (the current default value), which uses the default pickle module implicitly. It is possible to construct malicious pickle data which will execute arbitrary code during unpickling (See https://github.com/pytorch/pytorch/blob/main/SECURITY.md#untrusted-models for more details). In a future release, the default value for `weights_only` will be flipped to `True`. This limits the functions that could be executed during unpickling. Arbitrary objects will no longer be allowed to be loaded via this mode unless they are explicitly allowlisted by the user via `torch.serialization.add_safe_globals`. We recommend you start setting `weights_only=True` for any use case where you don't have full control of the loaded file. Please open an issue on GitHub for any issues related to this experimental feature.\n",
      "  best_ckpt = torch.load(\"checkpointFiles/checkpointDownload2.pth\", map_location=config.device)\n"
     ]
    },
    {
     "name": "stdout",
     "output_type": "stream",
     "text": [
      "Epoch[133/150], Train Loss: 0.5887, Train Accuracy: 98.23%, Train F1: 98.01% | Valid Loss: 0.8343, Valid Accuracy: 72.92%, Valid F1: 70.10% | LR: 0.000006\n"
     ]
    },
    {
     "name": "stderr",
     "output_type": "stream",
     "text": [
      "C:\\Users\\mikai\\AppData\\Local\\Temp\\ipykernel_44772\\997093738.py:88: FutureWarning: You are using `torch.load` with `weights_only=False` (the current default value), which uses the default pickle module implicitly. It is possible to construct malicious pickle data which will execute arbitrary code during unpickling (See https://github.com/pytorch/pytorch/blob/main/SECURITY.md#untrusted-models for more details). In a future release, the default value for `weights_only` will be flipped to `True`. This limits the functions that could be executed during unpickling. Arbitrary objects will no longer be allowed to be loaded via this mode unless they are explicitly allowlisted by the user via `torch.serialization.add_safe_globals`. We recommend you start setting `weights_only=True` for any use case where you don't have full control of the loaded file. Please open an issue on GitHub for any issues related to this experimental feature.\n",
      "  best_ckpt = torch.load(\"checkpointFiles/checkpointDownload2.pth\", map_location=config.device)\n"
     ]
    },
    {
     "name": "stdout",
     "output_type": "stream",
     "text": [
      "Epoch[134/150], Train Loss: 0.5893, Train Accuracy: 97.35%, Train F1: 96.88% | Valid Loss: 0.8105, Valid Accuracy: 75.00%, Valid F1: 71.73% | LR: 0.000006\n"
     ]
    },
    {
     "name": "stderr",
     "output_type": "stream",
     "text": [
      "C:\\Users\\mikai\\AppData\\Local\\Temp\\ipykernel_44772\\997093738.py:88: FutureWarning: You are using `torch.load` with `weights_only=False` (the current default value), which uses the default pickle module implicitly. It is possible to construct malicious pickle data which will execute arbitrary code during unpickling (See https://github.com/pytorch/pytorch/blob/main/SECURITY.md#untrusted-models for more details). In a future release, the default value for `weights_only` will be flipped to `True`. This limits the functions that could be executed during unpickling. Arbitrary objects will no longer be allowed to be loaded via this mode unless they are explicitly allowlisted by the user via `torch.serialization.add_safe_globals`. We recommend you start setting `weights_only=True` for any use case where you don't have full control of the loaded file. Please open an issue on GitHub for any issues related to this experimental feature.\n",
      "  best_ckpt = torch.load(\"checkpointFiles/checkpointDownload2.pth\", map_location=config.device)\n"
     ]
    },
    {
     "name": "stdout",
     "output_type": "stream",
     "text": [
      "Epoch[135/150], Train Loss: 0.5876, Train Accuracy: 97.35%, Train F1: 96.88% | Valid Loss: 0.8031, Valid Accuracy: 72.92%, Valid F1: 68.59% | LR: 0.000005\n"
     ]
    },
    {
     "name": "stderr",
     "output_type": "stream",
     "text": [
      "C:\\Users\\mikai\\AppData\\Local\\Temp\\ipykernel_44772\\997093738.py:88: FutureWarning: You are using `torch.load` with `weights_only=False` (the current default value), which uses the default pickle module implicitly. It is possible to construct malicious pickle data which will execute arbitrary code during unpickling (See https://github.com/pytorch/pytorch/blob/main/SECURITY.md#untrusted-models for more details). In a future release, the default value for `weights_only` will be flipped to `True`. This limits the functions that could be executed during unpickling. Arbitrary objects will no longer be allowed to be loaded via this mode unless they are explicitly allowlisted by the user via `torch.serialization.add_safe_globals`. We recommend you start setting `weights_only=True` for any use case where you don't have full control of the loaded file. Please open an issue on GitHub for any issues related to this experimental feature.\n",
      "  best_ckpt = torch.load(\"checkpointFiles/checkpointDownload2.pth\", map_location=config.device)\n"
     ]
    },
    {
     "name": "stdout",
     "output_type": "stream",
     "text": [
      "Epoch[136/150], Train Loss: 0.5883, Train Accuracy: 97.35%, Train F1: 96.88% | Valid Loss: 0.8039, Valid Accuracy: 75.00%, Valid F1: 71.73% | LR: 0.000004\n"
     ]
    },
    {
     "name": "stderr",
     "output_type": "stream",
     "text": [
      "C:\\Users\\mikai\\AppData\\Local\\Temp\\ipykernel_44772\\997093738.py:88: FutureWarning: You are using `torch.load` with `weights_only=False` (the current default value), which uses the default pickle module implicitly. It is possible to construct malicious pickle data which will execute arbitrary code during unpickling (See https://github.com/pytorch/pytorch/blob/main/SECURITY.md#untrusted-models for more details). In a future release, the default value for `weights_only` will be flipped to `True`. This limits the functions that could be executed during unpickling. Arbitrary objects will no longer be allowed to be loaded via this mode unless they are explicitly allowlisted by the user via `torch.serialization.add_safe_globals`. We recommend you start setting `weights_only=True` for any use case where you don't have full control of the loaded file. Please open an issue on GitHub for any issues related to this experimental feature.\n",
      "  best_ckpt = torch.load(\"checkpointFiles/checkpointDownload2.pth\", map_location=config.device)\n"
     ]
    },
    {
     "name": "stdout",
     "output_type": "stream",
     "text": [
      "Epoch[137/150], Train Loss: 0.5889, Train Accuracy: 97.35%, Train F1: 96.88% | Valid Loss: 0.8007, Valid Accuracy: 72.92%, Valid F1: 68.59% | LR: 0.000004\n"
     ]
    },
    {
     "name": "stderr",
     "output_type": "stream",
     "text": [
      "C:\\Users\\mikai\\AppData\\Local\\Temp\\ipykernel_44772\\997093738.py:88: FutureWarning: You are using `torch.load` with `weights_only=False` (the current default value), which uses the default pickle module implicitly. It is possible to construct malicious pickle data which will execute arbitrary code during unpickling (See https://github.com/pytorch/pytorch/blob/main/SECURITY.md#untrusted-models for more details). In a future release, the default value for `weights_only` will be flipped to `True`. This limits the functions that could be executed during unpickling. Arbitrary objects will no longer be allowed to be loaded via this mode unless they are explicitly allowlisted by the user via `torch.serialization.add_safe_globals`. We recommend you start setting `weights_only=True` for any use case where you don't have full control of the loaded file. Please open an issue on GitHub for any issues related to this experimental feature.\n",
      "  best_ckpt = torch.load(\"checkpointFiles/checkpointDownload2.pth\", map_location=config.device)\n"
     ]
    },
    {
     "name": "stdout",
     "output_type": "stream",
     "text": [
      "Epoch[138/150], Train Loss: 0.5931, Train Accuracy: 98.23%, Train F1: 98.01% | Valid Loss: 0.7994, Valid Accuracy: 75.00%, Valid F1: 70.69% | LR: 0.000003\n"
     ]
    },
    {
     "name": "stderr",
     "output_type": "stream",
     "text": [
      "C:\\Users\\mikai\\AppData\\Local\\Temp\\ipykernel_44772\\997093738.py:88: FutureWarning: You are using `torch.load` with `weights_only=False` (the current default value), which uses the default pickle module implicitly. It is possible to construct malicious pickle data which will execute arbitrary code during unpickling (See https://github.com/pytorch/pytorch/blob/main/SECURITY.md#untrusted-models for more details). In a future release, the default value for `weights_only` will be flipped to `True`. This limits the functions that could be executed during unpickling. Arbitrary objects will no longer be allowed to be loaded via this mode unless they are explicitly allowlisted by the user via `torch.serialization.add_safe_globals`. We recommend you start setting `weights_only=True` for any use case where you don't have full control of the loaded file. Please open an issue on GitHub for any issues related to this experimental feature.\n",
      "  best_ckpt = torch.load(\"checkpointFiles/checkpointDownload2.pth\", map_location=config.device)\n"
     ]
    },
    {
     "name": "stdout",
     "output_type": "stream",
     "text": [
      "Epoch[139/150], Train Loss: 0.5933, Train Accuracy: 97.35%, Train F1: 96.88% | Valid Loss: 0.7935, Valid Accuracy: 75.00%, Valid F1: 70.69% | LR: 0.000003\n"
     ]
    },
    {
     "name": "stderr",
     "output_type": "stream",
     "text": [
      "C:\\Users\\mikai\\AppData\\Local\\Temp\\ipykernel_44772\\997093738.py:88: FutureWarning: You are using `torch.load` with `weights_only=False` (the current default value), which uses the default pickle module implicitly. It is possible to construct malicious pickle data which will execute arbitrary code during unpickling (See https://github.com/pytorch/pytorch/blob/main/SECURITY.md#untrusted-models for more details). In a future release, the default value for `weights_only` will be flipped to `True`. This limits the functions that could be executed during unpickling. Arbitrary objects will no longer be allowed to be loaded via this mode unless they are explicitly allowlisted by the user via `torch.serialization.add_safe_globals`. We recommend you start setting `weights_only=True` for any use case where you don't have full control of the loaded file. Please open an issue on GitHub for any issues related to this experimental feature.\n",
      "  best_ckpt = torch.load(\"checkpointFiles/checkpointDownload2.pth\", map_location=config.device)\n"
     ]
    },
    {
     "name": "stdout",
     "output_type": "stream",
     "text": [
      "Epoch[140/150], Train Loss: 0.5935, Train Accuracy: 98.23%, Train F1: 98.01% | Valid Loss: 0.7913, Valid Accuracy: 75.00%, Valid F1: 70.69% | LR: 0.000002\n"
     ]
    },
    {
     "name": "stderr",
     "output_type": "stream",
     "text": [
      "C:\\Users\\mikai\\AppData\\Local\\Temp\\ipykernel_44772\\997093738.py:88: FutureWarning: You are using `torch.load` with `weights_only=False` (the current default value), which uses the default pickle module implicitly. It is possible to construct malicious pickle data which will execute arbitrary code during unpickling (See https://github.com/pytorch/pytorch/blob/main/SECURITY.md#untrusted-models for more details). In a future release, the default value for `weights_only` will be flipped to `True`. This limits the functions that could be executed during unpickling. Arbitrary objects will no longer be allowed to be loaded via this mode unless they are explicitly allowlisted by the user via `torch.serialization.add_safe_globals`. We recommend you start setting `weights_only=True` for any use case where you don't have full control of the loaded file. Please open an issue on GitHub for any issues related to this experimental feature.\n",
      "  best_ckpt = torch.load(\"checkpointFiles/checkpointDownload2.pth\", map_location=config.device)\n"
     ]
    },
    {
     "name": "stdout",
     "output_type": "stream",
     "text": [
      "Epoch[141/150], Train Loss: 0.5925, Train Accuracy: 97.35%, Train F1: 96.88% | Valid Loss: 0.7899, Valid Accuracy: 75.00%, Valid F1: 70.69% | LR: 0.000002\n"
     ]
    },
    {
     "name": "stderr",
     "output_type": "stream",
     "text": [
      "C:\\Users\\mikai\\AppData\\Local\\Temp\\ipykernel_44772\\997093738.py:88: FutureWarning: You are using `torch.load` with `weights_only=False` (the current default value), which uses the default pickle module implicitly. It is possible to construct malicious pickle data which will execute arbitrary code during unpickling (See https://github.com/pytorch/pytorch/blob/main/SECURITY.md#untrusted-models for more details). In a future release, the default value for `weights_only` will be flipped to `True`. This limits the functions that could be executed during unpickling. Arbitrary objects will no longer be allowed to be loaded via this mode unless they are explicitly allowlisted by the user via `torch.serialization.add_safe_globals`. We recommend you start setting `weights_only=True` for any use case where you don't have full control of the loaded file. Please open an issue on GitHub for any issues related to this experimental feature.\n",
      "  best_ckpt = torch.load(\"checkpointFiles/checkpointDownload2.pth\", map_location=config.device)\n"
     ]
    },
    {
     "name": "stdout",
     "output_type": "stream",
     "text": [
      "Epoch[142/150], Train Loss: 0.5941, Train Accuracy: 97.35%, Train F1: 96.88% | Valid Loss: 0.7889, Valid Accuracy: 75.00%, Valid F1: 70.69% | LR: 0.000001\n"
     ]
    },
    {
     "name": "stderr",
     "output_type": "stream",
     "text": [
      "C:\\Users\\mikai\\AppData\\Local\\Temp\\ipykernel_44772\\997093738.py:88: FutureWarning: You are using `torch.load` with `weights_only=False` (the current default value), which uses the default pickle module implicitly. It is possible to construct malicious pickle data which will execute arbitrary code during unpickling (See https://github.com/pytorch/pytorch/blob/main/SECURITY.md#untrusted-models for more details). In a future release, the default value for `weights_only` will be flipped to `True`. This limits the functions that could be executed during unpickling. Arbitrary objects will no longer be allowed to be loaded via this mode unless they are explicitly allowlisted by the user via `torch.serialization.add_safe_globals`. We recommend you start setting `weights_only=True` for any use case where you don't have full control of the loaded file. Please open an issue on GitHub for any issues related to this experimental feature.\n",
      "  best_ckpt = torch.load(\"checkpointFiles/checkpointDownload2.pth\", map_location=config.device)\n"
     ]
    },
    {
     "name": "stdout",
     "output_type": "stream",
     "text": [
      "Epoch[143/150], Train Loss: 0.5936, Train Accuracy: 97.35%, Train F1: 96.88% | Valid Loss: 0.7873, Valid Accuracy: 77.08%, Valid F1: 72.77% | LR: 0.000001\n"
     ]
    },
    {
     "name": "stderr",
     "output_type": "stream",
     "text": [
      "C:\\Users\\mikai\\AppData\\Local\\Temp\\ipykernel_44772\\997093738.py:88: FutureWarning: You are using `torch.load` with `weights_only=False` (the current default value), which uses the default pickle module implicitly. It is possible to construct malicious pickle data which will execute arbitrary code during unpickling (See https://github.com/pytorch/pytorch/blob/main/SECURITY.md#untrusted-models for more details). In a future release, the default value for `weights_only` will be flipped to `True`. This limits the functions that could be executed during unpickling. Arbitrary objects will no longer be allowed to be loaded via this mode unless they are explicitly allowlisted by the user via `torch.serialization.add_safe_globals`. We recommend you start setting `weights_only=True` for any use case where you don't have full control of the loaded file. Please open an issue on GitHub for any issues related to this experimental feature.\n",
      "  best_ckpt = torch.load(\"checkpointFiles/checkpointDownload2.pth\", map_location=config.device)\n"
     ]
    },
    {
     "name": "stdout",
     "output_type": "stream",
     "text": [
      "Epoch[144/150], Train Loss: 0.6809, Train Accuracy: 97.35%, Train F1: 96.88% | Valid Loss: 0.7866, Valid Accuracy: 77.08%, Valid F1: 72.77% | LR: 0.000001\n"
     ]
    },
    {
     "name": "stderr",
     "output_type": "stream",
     "text": [
      "C:\\Users\\mikai\\AppData\\Local\\Temp\\ipykernel_44772\\997093738.py:88: FutureWarning: You are using `torch.load` with `weights_only=False` (the current default value), which uses the default pickle module implicitly. It is possible to construct malicious pickle data which will execute arbitrary code during unpickling (See https://github.com/pytorch/pytorch/blob/main/SECURITY.md#untrusted-models for more details). In a future release, the default value for `weights_only` will be flipped to `True`. This limits the functions that could be executed during unpickling. Arbitrary objects will no longer be allowed to be loaded via this mode unless they are explicitly allowlisted by the user via `torch.serialization.add_safe_globals`. We recommend you start setting `weights_only=True` for any use case where you don't have full control of the loaded file. Please open an issue on GitHub for any issues related to this experimental feature.\n",
      "  best_ckpt = torch.load(\"checkpointFiles/checkpointDownload2.pth\", map_location=config.device)\n"
     ]
    },
    {
     "name": "stdout",
     "output_type": "stream",
     "text": [
      "Epoch[145/150], Train Loss: 0.6039, Train Accuracy: 97.35%, Train F1: 96.88% | Valid Loss: 0.7856, Valid Accuracy: 77.08%, Valid F1: 72.77% | LR: 0.000001\n"
     ]
    },
    {
     "name": "stderr",
     "output_type": "stream",
     "text": [
      "C:\\Users\\mikai\\AppData\\Local\\Temp\\ipykernel_44772\\997093738.py:88: FutureWarning: You are using `torch.load` with `weights_only=False` (the current default value), which uses the default pickle module implicitly. It is possible to construct malicious pickle data which will execute arbitrary code during unpickling (See https://github.com/pytorch/pytorch/blob/main/SECURITY.md#untrusted-models for more details). In a future release, the default value for `weights_only` will be flipped to `True`. This limits the functions that could be executed during unpickling. Arbitrary objects will no longer be allowed to be loaded via this mode unless they are explicitly allowlisted by the user via `torch.serialization.add_safe_globals`. We recommend you start setting `weights_only=True` for any use case where you don't have full control of the loaded file. Please open an issue on GitHub for any issues related to this experimental feature.\n",
      "  best_ckpt = torch.load(\"checkpointFiles/checkpointDownload2.pth\", map_location=config.device)\n"
     ]
    },
    {
     "name": "stdout",
     "output_type": "stream",
     "text": [
      "Epoch[146/150], Train Loss: 0.5901, Train Accuracy: 98.23%, Train F1: 98.01% | Valid Loss: 0.7870, Valid Accuracy: 77.08%, Valid F1: 72.77% | LR: 0.000000\n"
     ]
    },
    {
     "name": "stderr",
     "output_type": "stream",
     "text": [
      "C:\\Users\\mikai\\AppData\\Local\\Temp\\ipykernel_44772\\997093738.py:88: FutureWarning: You are using `torch.load` with `weights_only=False` (the current default value), which uses the default pickle module implicitly. It is possible to construct malicious pickle data which will execute arbitrary code during unpickling (See https://github.com/pytorch/pytorch/blob/main/SECURITY.md#untrusted-models for more details). In a future release, the default value for `weights_only` will be flipped to `True`. This limits the functions that could be executed during unpickling. Arbitrary objects will no longer be allowed to be loaded via this mode unless they are explicitly allowlisted by the user via `torch.serialization.add_safe_globals`. We recommend you start setting `weights_only=True` for any use case where you don't have full control of the loaded file. Please open an issue on GitHub for any issues related to this experimental feature.\n",
      "  best_ckpt = torch.load(\"checkpointFiles/checkpointDownload2.pth\", map_location=config.device)\n"
     ]
    },
    {
     "name": "stdout",
     "output_type": "stream",
     "text": [
      "Epoch[147/150], Train Loss: 0.5913, Train Accuracy: 98.23%, Train F1: 98.01% | Valid Loss: 0.7861, Valid Accuracy: 77.08%, Valid F1: 72.77% | LR: 0.000000\n"
     ]
    },
    {
     "name": "stderr",
     "output_type": "stream",
     "text": [
      "C:\\Users\\mikai\\AppData\\Local\\Temp\\ipykernel_44772\\997093738.py:88: FutureWarning: You are using `torch.load` with `weights_only=False` (the current default value), which uses the default pickle module implicitly. It is possible to construct malicious pickle data which will execute arbitrary code during unpickling (See https://github.com/pytorch/pytorch/blob/main/SECURITY.md#untrusted-models for more details). In a future release, the default value for `weights_only` will be flipped to `True`. This limits the functions that could be executed during unpickling. Arbitrary objects will no longer be allowed to be loaded via this mode unless they are explicitly allowlisted by the user via `torch.serialization.add_safe_globals`. We recommend you start setting `weights_only=True` for any use case where you don't have full control of the loaded file. Please open an issue on GitHub for any issues related to this experimental feature.\n",
      "  best_ckpt = torch.load(\"checkpointFiles/checkpointDownload2.pth\", map_location=config.device)\n"
     ]
    },
    {
     "name": "stdout",
     "output_type": "stream",
     "text": [
      "Epoch[148/150], Train Loss: 0.5910, Train Accuracy: 98.23%, Train F1: 98.01% | Valid Loss: 0.7859, Valid Accuracy: 77.08%, Valid F1: 72.77% | LR: 0.000000\n"
     ]
    },
    {
     "name": "stderr",
     "output_type": "stream",
     "text": [
      "C:\\Users\\mikai\\AppData\\Local\\Temp\\ipykernel_44772\\997093738.py:88: FutureWarning: You are using `torch.load` with `weights_only=False` (the current default value), which uses the default pickle module implicitly. It is possible to construct malicious pickle data which will execute arbitrary code during unpickling (See https://github.com/pytorch/pytorch/blob/main/SECURITY.md#untrusted-models for more details). In a future release, the default value for `weights_only` will be flipped to `True`. This limits the functions that could be executed during unpickling. Arbitrary objects will no longer be allowed to be loaded via this mode unless they are explicitly allowlisted by the user via `torch.serialization.add_safe_globals`. We recommend you start setting `weights_only=True` for any use case where you don't have full control of the loaded file. Please open an issue on GitHub for any issues related to this experimental feature.\n",
      "  best_ckpt = torch.load(\"checkpointFiles/checkpointDownload2.pth\", map_location=config.device)\n"
     ]
    },
    {
     "name": "stdout",
     "output_type": "stream",
     "text": [
      "Epoch[149/150], Train Loss: 0.5911, Train Accuracy: 98.23%, Train F1: 98.01% | Valid Loss: 0.7857, Valid Accuracy: 77.08%, Valid F1: 72.77% | LR: 0.000000\n"
     ]
    },
    {
     "name": "stderr",
     "output_type": "stream",
     "text": [
      "C:\\Users\\mikai\\AppData\\Local\\Temp\\ipykernel_44772\\997093738.py:88: FutureWarning: You are using `torch.load` with `weights_only=False` (the current default value), which uses the default pickle module implicitly. It is possible to construct malicious pickle data which will execute arbitrary code during unpickling (See https://github.com/pytorch/pytorch/blob/main/SECURITY.md#untrusted-models for more details). In a future release, the default value for `weights_only` will be flipped to `True`. This limits the functions that could be executed during unpickling. Arbitrary objects will no longer be allowed to be loaded via this mode unless they are explicitly allowlisted by the user via `torch.serialization.add_safe_globals`. We recommend you start setting `weights_only=True` for any use case where you don't have full control of the loaded file. Please open an issue on GitHub for any issues related to this experimental feature.\n",
      "  best_ckpt = torch.load(\"checkpointFiles/checkpointDownload2.pth\", map_location=config.device)\n"
     ]
    },
    {
     "name": "stdout",
     "output_type": "stream",
     "text": [
      "Epoch[150/150], Train Loss: 0.5969, Train Accuracy: 98.23%, Train F1: 98.01% | Valid Loss: 0.7856, Valid Accuracy: 77.08%, Valid F1: 72.77% | LR: 0.000000\n"
     ]
    },
    {
     "name": "stderr",
     "output_type": "stream",
     "text": [
      "C:\\Users\\mikai\\AppData\\Local\\Temp\\ipykernel_44772\\997093738.py:88: FutureWarning: You are using `torch.load` with `weights_only=False` (the current default value), which uses the default pickle module implicitly. It is possible to construct malicious pickle data which will execute arbitrary code during unpickling (See https://github.com/pytorch/pytorch/blob/main/SECURITY.md#untrusted-models for more details). In a future release, the default value for `weights_only` will be flipped to `True`. This limits the functions that could be executed during unpickling. Arbitrary objects will no longer be allowed to be loaded via this mode unless they are explicitly allowlisted by the user via `torch.serialization.add_safe_globals`. We recommend you start setting `weights_only=True` for any use case where you don't have full control of the loaded file. Please open an issue on GitHub for any issues related to this experimental feature.\n",
      "  best_ckpt = torch.load(\"checkpointFiles/checkpointDownload2.pth\", map_location=config.device)\n"
     ]
    },
    {
     "data": {
      "image/png": "[encoded data removed]",
      "text/plain": [
       "<Figure size 1200x500 with 1 Axes>"
      ]
     },
     "metadata": {},
     "output_type": "display_data"
    },
    {
     "data": {
      "image/png": "[encoded data removed]",
      "text/plain": [
       "<Figure size 1200x500 with 1 Axes>"
      ]
     },
     "metadata": {},
     "output_type": "display_data"
    },
    {
     "data": {
      "image/png": "[encoded data removed]",
      "text/plain": [
       "<Figure size 1200x500 with 1 Axes>"
      ]
     },
     "metadata": {},
     "output_type": "display_data"
    }
   ],
   "source": [
    "def main():\n",
    "\n",
    "    seed_everything(config.seed)\n",
    "\n",
    "    # train & test dataframe\n",
    "    train_df = pd.read_csv(os.path.join(config.root, 'train.csv'))\n",
    "    test_df = pd.read_csv(os.path.join(config.root, 'test.csv'))\n",
    "\n",
    "    # Dataset\n",
    "    print(\"Initializing dataset...\")\n",
    "    dataset = ParkinsonsDataset(train_df, transforms = My_transforms)\n",
    "    print(\"Initializing test_dataset...\")\n",
    "    test_dataset = ParkinsonsDataset(test_df, transforms = My_transforms)\n",
    "    \n",
    "    # split training & validation dataset \n",
    "    n = len(dataset)\n",
    "    valid_size = int(n * config.valid_prob)\n",
    "    train_ids , valid_ids = train_test_split(\n",
    "     np.linspace(0, n - 1, n).astype(\"int\"),\n",
    "     test_size = valid_size,\n",
    "     random_state = config.seed,\n",
    "    )\n",
    "    print(f'Number of samples in train_dataset: {Counter(dataset.labels[train_ids])}')\n",
    "    print(f'Number of samples in val_dataset: {Counter(dataset.labels[valid_ids])}')\n",
    "    \n",
    "    # DataLoader\n",
    "    train_dataset = Subset(dataset, train_ids)\n",
    "    valid_dataset = Subset(dataset, valid_ids)\n",
    "    train_loader = torch.utils.data.DataLoader(train_dataset, batch_size=config.batch_size, shuffle=True)\n",
    "    valid_loader = torch.utils.data.DataLoader(valid_dataset, batch_size=config.batch_size, shuffle=False)\n",
    "    test_loader = torch.utils.data.DataLoader(test_dataset, batch_size=config.batch_size, shuffle=False)\n",
    "\n",
    "    # settings\n",
    "    print(\"Initializing model...\")\n",
    "    num_classes = len(Counter(dataset.labels[train_ids]))\n",
    "    model = VGGplus(num_classes = num_classes, features_grad = True)\n",
    "    model.to(config.device)\n",
    "    criterion = nn.CrossEntropyLoss().to(config.device)\n",
    "    optimizer = torch.optim.Adam(model.parameters(), lr = config.lr, weight_decay = config.weight_decay)\n",
    "    scheduler = torch.optim.lr_scheduler.OneCycleLR(\n",
    "        optimizer = optimizer,\n",
    "        epochs = config.epochs,\n",
    "        steps_per_epoch = train_loader.__len__(),\n",
    "        max_lr = config.lr,\n",
    "        anneal_strategy = 'cos'\n",
    "    )\n",
    "\n",
    "    # recordings\n",
    "    best_val_loss = float(\"inf\")\n",
    "    history = {\n",
    "      \"train\": {\n",
    "          \"loss\": [],\n",
    "          \"acc\": [],\n",
    "          \"f1\": []\n",
    "      },\n",
    "      \"valid\": {\n",
    "          \"loss\": [],\n",
    "          \"acc\": [],\n",
    "          \"f1\": []\n",
    "      },\n",
    "    }\n",
    "\n",
    "    for epoch in range(config.epochs):\n",
    "        train_loss, train_acc, train_f1 = train_one_epoch(model, train_loader, optimizer, scheduler, criterion, config.device)\n",
    "        valid_loss, valid_acc, valid_f1 = validation(model, valid_loader, criterion, config.device)\n",
    "        \n",
    "        # Log the loss and validation result\n",
    "        history[\"train\"][\"loss\"].append(train_loss)\n",
    "        history[\"train\"][\"acc\"].append(train_acc)\n",
    "        history[\"train\"][\"f1\"].append(train_f1)\n",
    "        history[\"valid\"][\"loss\"].append(valid_loss)\n",
    "        history[\"valid\"][\"acc\"].append(valid_acc)\n",
    "        history[\"valid\"][\"f1\"].append(valid_f1)\n",
    "\n",
    "        print(f'Epoch[{epoch+1}/{config.epochs}], Train Loss: {train_loss:.4f}, Train Accuracy: {train_acc:.2f}%, Train F1: {train_f1:.2f}% | Valid Loss: {valid_loss:.4f}, Valid Accuracy: {valid_acc:.2f}%, Valid F1: {valid_f1:.2f}% | LR: {optimizer.state_dict()[\"param_groups\"][0][\"lr\"]:.6f}')\n",
    "\n",
    "        if valid_loss < best_val_loss:\n",
    "            save_file = {\n",
    "                \"model\": model.state_dict(),\n",
    "                \"optimizer\": optimizer.state_dict(),\n",
    "                \"scheduler\": scheduler.state_dict(),\n",
    "                \"epoch\": epoch,\n",
    "                \"args\": config\n",
    "            }\n",
    "            best_val_loss = valid_loss\n",
    "            torch.save(save_file, \"checkpointFiles/checkpointDownload2.pth\")\n",
    "\n",
    "        best_ckpt = torch.load(\"checkpointFiles/checkpointDownload2.pth\", map_location=config.device)\n",
    "        model.load_state_dict(best_ckpt[\"model\"])\n",
    "\n",
    "    plt.figure(figsize=(12, 5))\n",
    "    plt.subplot(1, 2, 1)\n",
    "    plt.plot(range(config.epochs), history[\"train\"][\"loss\"], label='Training Loss')\n",
    "    plt.plot(range(config.epochs), history[\"valid\"][\"loss\"], label='Validation Loss')\n",
    "    plt.xlabel('Epoch')\n",
    "    plt.ylabel('Loss')\n",
    "    plt.legend()\n",
    "    plt.title('Training and Validation Loss Curves')\n",
    "    plt.show()\n",
    "\n",
    "    plt.figure(figsize=(12, 5))\n",
    "    plt.subplot(1, 2, 1)\n",
    "    plt.plot(range(config.epochs), history[\"train\"][\"acc\"], label='Training Acc')\n",
    "    plt.plot(range(config.epochs), history[\"valid\"][\"acc\"], label='Validation Acc')\n",
    "    plt.xlabel('Epoch')\n",
    "    plt.ylabel('Loss')\n",
    "    plt.legend()\n",
    "    plt.title('Training and Validation Accuracy Curves')\n",
    "    plt.show()\n",
    "\n",
    "    plt.figure(figsize=(12, 5))\n",
    "    plt.subplot(1, 2, 1)\n",
    "    plt.plot(range(config.epochs), history[\"train\"][\"f1\"], label='Training F1')\n",
    "    plt.plot(range(config.epochs), history[\"valid\"][\"f1\"], label='Validation F1')\n",
    "    plt.xlabel('Epoch')\n",
    "    plt.ylabel('Loss')\n",
    "    plt.legend()\n",
    "    plt.title('Training and Validation F1 Score Curves')\n",
    "    plt.show()\n",
    "\n",
    "if __name__ == \"__main__\":\n",
    "    main()"
   ]
  },
  {
   "cell_type": "code",
   "execution_count": 110,
   "id": "86d16077",
   "metadata": {},
   "outputs": [],
   "source": [
    "def test(model, test_loader, device):\n",
    "    model.eval()\n",
    "    prob = []\n",
    "    predictions = []\n",
    "    with torch.no_grad():\n",
    "        for images, ages, genders, labels in test_loader:\n",
    "            images = images.to(device=device, dtype=torch.float)\n",
    "            ages = ages.to(device=device, dtype=torch.float)\n",
    "            genders = genders.to(device=device, dtype=torch.float)\n",
    "           \n",
    "\n",
    "            logits = model(images, ages, genders)\n",
    "            preds = torch.argmax(logits, dim=1)\n",
    "            preds = torch.add(preds, 1)\n",
    "            predictions.append(preds)\n",
    "            prob.append(logits)\n",
    "            \n",
    "            \n",
    "\n",
    "        prob = torch.cat(prob)\n",
    "        predictions = torch.cat(predictions)\n",
    "    return prob, predictions"
   ]
  },
  {
   "cell_type": "code",
   "execution_count": 111,
   "id": "14aa3beb",
   "metadata": {},
   "outputs": [
    {
     "name": "stderr",
     "output_type": "stream",
     "text": [
      "C:\\Users\\mikai\\AppData\\Local\\Temp\\ipykernel_44772\\2745448528.py:3: FutureWarning: You are using `torch.load` with `weights_only=False` (the current default value), which uses the default pickle module implicitly. It is possible to construct malicious pickle data which will execute arbitrary code during unpickling (See https://github.com/pytorch/pytorch/blob/main/SECURITY.md#untrusted-models for more details). In a future release, the default value for `weights_only` will be flipped to `True`. This limits the functions that could be executed during unpickling. Arbitrary objects will no longer be allowed to be loaded via this mode unless they are explicitly allowlisted by the user via `torch.serialization.add_safe_globals`. We recommend you start setting `weights_only=True` for any use case where you don't have full control of the loaded file. Please open an issue on GitHub for any issues related to this experimental feature.\n",
      "  state_dict = torch.load(\"checkpointFiles/checkpointDownload2.pth\")\n"
     ]
    },
    {
     "data": {
      "text/plain": [
       "VGGplus(\n",
       "  (backend): VGG(\n",
       "    (features): Sequential(\n",
       "      (0): Conv2d(3, 64, kernel_size=(3, 3), stride=(1, 1), padding=(1, 1))\n",
       "      (1): ReLU(inplace=True)\n",
       "      (2): Conv2d(64, 64, kernel_size=(3, 3), stride=(1, 1), padding=(1, 1))\n",
       "      (3): ReLU(inplace=True)\n",
       "      (4): MaxPool2d(kernel_size=2, stride=2, padding=0, dilation=1, ceil_mode=False)\n",
       "      (5): Conv2d(64, 128, kernel_size=(3, 3), stride=(1, 1), padding=(1, 1))\n",
       "      (6): ReLU(inplace=True)\n",
       "      (7): Conv2d(128, 128, kernel_size=(3, 3), stride=(1, 1), padding=(1, 1))\n",
       "      (8): ReLU(inplace=True)\n",
       "      (9): MaxPool2d(kernel_size=2, stride=2, padding=0, dilation=1, ceil_mode=False)\n",
       "      (10): Conv2d(128, 256, kernel_size=(3, 3), stride=(1, 1), padding=(1, 1))\n",
       "      (11): ReLU(inplace=True)\n",
       "      (12): Conv2d(256, 256, kernel_size=(3, 3), stride=(1, 1), padding=(1, 1))\n",
       "      (13): ReLU(inplace=True)\n",
       "      (14): Conv2d(256, 256, kernel_size=(3, 3), stride=(1, 1), padding=(1, 1))\n",
       "      (15): ReLU(inplace=True)\n",
       "      (16): MaxPool2d(kernel_size=2, stride=2, padding=0, dilation=1, ceil_mode=False)\n",
       "      (17): Conv2d(256, 512, kernel_size=(3, 3), stride=(1, 1), padding=(1, 1))\n",
       "      (18): ReLU(inplace=True)\n",
       "      (19): Conv2d(512, 512, kernel_size=(3, 3), stride=(1, 1), padding=(1, 1))\n",
       "      (20): ReLU(inplace=True)\n",
       "      (21): Conv2d(512, 512, kernel_size=(3, 3), stride=(1, 1), padding=(1, 1))\n",
       "      (22): ReLU(inplace=True)\n",
       "      (23): MaxPool2d(kernel_size=2, stride=2, padding=0, dilation=1, ceil_mode=False)\n",
       "      (24): Conv2d(512, 512, kernel_size=(3, 3), stride=(1, 1), padding=(1, 1))\n",
       "      (25): ReLU(inplace=True)\n",
       "      (26): Conv2d(512, 512, kernel_size=(3, 3), stride=(1, 1), padding=(1, 1))\n",
       "      (27): ReLU(inplace=True)\n",
       "      (28): Conv2d(512, 512, kernel_size=(3, 3), stride=(1, 1), padding=(1, 1))\n",
       "      (29): ReLU(inplace=True)\n",
       "      (30): Identity()\n",
       "    )\n",
       "    (avgpool): AdaptiveAvgPool2d(output_size=1)\n",
       "    (classifier): Identity()\n",
       "  )\n",
       "  (classifier): Sequential(\n",
       "    (0): Linear(in_features=514, out_features=3, bias=True)\n",
       "  )\n",
       "  (softmax): Softmax(dim=1)\n",
       ")"
      ]
     },
     "execution_count": 111,
     "metadata": {},
     "output_type": "execute_result"
    }
   ],
   "source": [
    "### load 最佳模型\n",
    "model = VGGplus(num_classes = 3)\n",
    "state_dict = torch.load(\"checkpointFiles/checkpointDownload2.pth\")\n",
    "model.load_state_dict(state_dict[\"model\"])\n",
    "model.to(config.device)"
   ]
  },
  {
   "cell_type": "code",
   "execution_count": 112,
   "id": "c7d057a5",
   "metadata": {},
   "outputs": [],
   "source": [
    "### 匯出csv檔\n",
    "test_df = pd.read_csv(config.root+'/test.csv')\n",
    "test_dataset = ParkinsonsDataset(test_df, transforms = My_transforms)\n",
    "test_loader = torch.utils.data.DataLoader(test_dataset, batch_size=config.batch_size, shuffle=False)\n",
    "logits, prediction = test(model, test_loader, config.device)\n",
    "\n",
    "submission_df = pd.DataFrame()  # Start with an empty DataFrame\n",
    "submission_df['ID'] = test_df['ID']\n",
    "\n",
    "# Add the 'Stage' column with predictions\n",
    "submission_df['Stage'] = prediction.cpu().numpy()  # Convert preds from GPU to CPU and then to NumPy\n",
    "\n",
    "\n",
    "# Save the DataFrame to a CSV file\n",
    "submission_df.to_csv('VGGDownload2.csv', index=False, header=True)  # Save without index and with header"
   ]
  }
 ],
 "metadata": {
  "kernelspec": {
   "display_name": "py38",
   "language": "python",
   "name": "python3"
  },
  "language_info": {
   "codemirror_mode": {
    "name": "ipython",
    "version": 3
   },
   "file_extension": ".py",
   "mimetype": "text/x-python",
   "name": "python",
   "nbconvert_exporter": "python",
   "pygments_lexer": "ipython3",
   "version": "3.8.18"
  },
  "papermill": {
   "default_parameters": {},
   "duration": 124.543825,
   "end_time": "2023-10-17T12:32:22.447419",
   "environment_variables": {},
   "exception": null,
   "input_path": "__notebook__.ipynb",
   "output_path": "__notebook__.ipynb",
   "parameters": {},
   "start_time": "2023-10-17T12:30:17.903594",
   "version": "2.4.0"
  }
 },
 "nbformat": 4,
 "nbformat_minor": 5
}
